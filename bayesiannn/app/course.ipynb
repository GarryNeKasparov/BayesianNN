{
 "cells": [
  {
   "cell_type": "code",
   "execution_count": 2,
   "metadata": {
    "execution": {
     "iopub.execute_input": "2024-12-18T19:42:19.139716Z",
     "iopub.status.busy": "2024-12-18T19:42:19.139239Z",
     "iopub.status.idle": "2024-12-18T19:42:20.657868Z",
     "shell.execute_reply": "2024-12-18T19:42:20.656935Z",
     "shell.execute_reply.started": "2024-12-18T19:42:19.139676Z"
    },
    "trusted": true
   },
   "outputs": [],
   "source": [
    "import os\n",
    "import shutil\n",
    "\n",
    "import matplotlib.pyplot as plt\n",
    "import numpy as np\n",
    "from sklearn.model_selection import train_test_split\n",
    "from tqdm import tqdm\n",
    "\n",
    "image_dir = \"/kaggle/input/brain-tumor-segmentation/images\"\n",
    "mask_dir = \"/kaggle/input/brain-tumor-segmentation/masks\"\n",
    "\n",
    "images = sorted(os.listdir(image_dir))\n",
    "\n",
    "masks = sorted(os.listdir(mask_dir))"
   ]
  },
  {
   "cell_type": "code",
   "execution_count": 3,
   "metadata": {
    "execution": {
     "iopub.execute_input": "2024-12-18T19:42:20.659411Z",
     "iopub.status.busy": "2024-12-18T19:42:20.659035Z",
     "iopub.status.idle": "2024-12-18T19:43:22.944184Z",
     "shell.execute_reply": "2024-12-18T19:43:22.943336Z",
     "shell.execute_reply.started": "2024-12-18T19:42:20.659378Z"
    },
    "trusted": true
   },
   "outputs": [
    {
     "name": "stderr",
     "output_type": "stream",
     "text": [
      "100%|██████████| 2451/2451 [00:49<00:00, 49.70it/s]\n",
      "100%|██████████| 306/306 [00:06<00:00, 47.04it/s]\n",
      "100%|██████████| 307/307 [00:06<00:00, 47.66it/s]\n"
     ]
    }
   ],
   "source": [
    "train_images, temp_images, train_masks, temp_masks = train_test_split(\n",
    "    images, masks, test_size=0.2, random_state=42\n",
    ")\n",
    "\n",
    "val_images, test_images, val_masks, test_masks = train_test_split(\n",
    "    temp_images, temp_masks, test_size=0.5, random_state=42\n",
    ")\n",
    "\n",
    "\n",
    "def move_images(subset: str):\n",
    "    images, masks, path = subset\n",
    "    os.makedirs(f\"/kaggle/working/{path}/images\", exist_ok=True)\n",
    "    os.makedirs(f\"/kaggle/working/{path}/masks\", exist_ok=True)\n",
    "\n",
    "    for img, mask in tqdm(zip(images, masks), total=len(images)):\n",
    "        shutil.copy(os.path.join(image_dir, img), f\"/kaggle/working/{path}/images/\")\n",
    "        shutil.copy(os.path.join(mask_dir, mask), f\"/kaggle/working/{path}/masks/\")\n",
    "\n",
    "\n",
    "for subset in (\n",
    "    (train_images, train_masks, \"train\"),\n",
    "    (val_images, val_masks, \"val\"),\n",
    "    (test_images, test_masks, \"test\"),\n",
    "):\n",
    "    move_images(subset)"
   ]
  },
  {
   "cell_type": "code",
   "execution_count": 4,
   "metadata": {
    "execution": {
     "iopub.execute_input": "2024-12-18T19:43:22.946217Z",
     "iopub.status.busy": "2024-12-18T19:43:22.945954Z",
     "iopub.status.idle": "2024-12-18T19:43:28.052161Z",
     "shell.execute_reply": "2024-12-18T19:43:28.051319Z",
     "shell.execute_reply.started": "2024-12-18T19:43:22.946191Z"
    },
    "trusted": true
   },
   "outputs": [
    {
     "name": "stderr",
     "output_type": "stream",
     "text": [
      "/opt/conda/lib/python3.10/site-packages/albumentations/__init__.py:24: UserWarning: A new version of Albumentations is available: 1.4.23 (you have 1.4.21). Upgrade using: pip install -U albumentations. To disable automatic update checks, set the environment variable NO_ALBUMENTATIONS_UPDATE to 1.\n",
      "  check_for_updates()\n"
     ]
    }
   ],
   "source": [
    "import albumentations as A\n",
    "import cv2\n",
    "import torch\n",
    "from albumentations.pytorch import ToTensorV2\n",
    "from torch.utils.data import DataLoader, Dataset\n",
    "\n",
    "BATCH_SIZE = 32\n",
    "\n",
    "# датасет для загрузки данных\n",
    "\n",
    "\n",
    "class TumorDataset(Dataset):\n",
    "    def __init__(self, img_dir: str, mask_dir: str, transform=None):\n",
    "        self.img_dir = img_dir\n",
    "        self.mask_dir = mask_dir\n",
    "        self.transform = transform\n",
    "        self.img_files = os.listdir(img_dir)\n",
    "\n",
    "    def __len__(self):\n",
    "        return len(self.img_files)\n",
    "\n",
    "    def __getitem__(self, idx):\n",
    "        img_path = os.path.join(self.img_dir, self.img_files[idx])\n",
    "        mask_path = os.path.join(\n",
    "            self.mask_dir, self.img_files[idx].replace(\".jpg\", \".png\")\n",
    "        )\n",
    "        img = cv2.imread(img_path)\n",
    "        mask = cv2.imread(mask_path)\n",
    "        mask = cv2.cvtColor(mask, cv2.COLOR_BGR2GRAY)\n",
    "        transformed = self.transform(image=img, mask=mask)\n",
    "        img = transformed[\"image\"]\n",
    "        mask = transformed[\"mask\"].unsqueeze(0)\n",
    "        mask = (mask > 0).float()\n",
    "        return img, mask\n",
    "\n",
    "\n",
    "# функция для преобразования данных\n",
    "def create_transform(size: tuple[int] = (256, 256), normalize=None):\n",
    "    transform_steps = [A.Resize(size), A.HorizontalFlip(), A.VerticalFlip()]\n",
    "    if normalize:\n",
    "        transform_steps.append(\n",
    "            A.Normalize(mean=normalize[\"mean\"], std=normalize[\"std\"])\n",
    "        )\n",
    "    transform_steps.append(ToTensorV2())\n",
    "    return A.Compose(transform_steps)\n",
    "\n",
    "\n",
    "train_transform = create_transform(\n",
    "    normalize={\"mean\": [0.5, 0.5, 0.5], \"std\": [1, 1, 1]}\n",
    ")\n",
    "test_transform = A.Compose(\n",
    "    [A.Resize(256, 256), A.Normalize(mean=[0.5, 0.5, 0.5], std=[1, 1, 1]), ToTensorV2()]\n",
    ")\n",
    "\n",
    "\n",
    "def get_transform(phase):\n",
    "    if phase == \"train\":\n",
    "        return train_transform\n",
    "    else:\n",
    "        return test_transform\n",
    "\n",
    "\n",
    "data_dirs = {\n",
    "    \"train\": {\n",
    "        \"img_dir\": \"/kaggle/working/train/images\",\n",
    "        \"mask_dir\": \"/kaggle/working/train/masks\",\n",
    "    },\n",
    "    \"val\": {\n",
    "        \"img_dir\": \"/kaggle/working/val/images\",\n",
    "        \"mask_dir\": \"/kaggle/working/val/masks\",\n",
    "    },\n",
    "    \"test\": {\n",
    "        \"img_dir\": \"/kaggle/working/test/images\",\n",
    "        \"mask_dir\": \"/kaggle/working/test/masks\",\n",
    "    },\n",
    "}\n",
    "\n",
    "datasets = {\n",
    "    phase: TumorDataset(\n",
    "        img_dir=dirs[\"img_dir\"],\n",
    "        mask_dir=dirs[\"mask_dir\"],\n",
    "        transform=get_transform(phase),\n",
    "    )\n",
    "    for phase, dirs in data_dirs.items()\n",
    "}\n",
    "\n",
    "dataloaders = {\n",
    "    \"train\": torch.utils.data.DataLoader(\n",
    "        datasets[\"train\"], batch_size=BATCH_SIZE, shuffle=True\n",
    "    ),\n",
    "    \"val\": torch.utils.data.DataLoader(\n",
    "        datasets[\"val\"], batch_size=BATCH_SIZE, shuffle=False\n",
    "    ),\n",
    "    \"test\": torch.utils.data.DataLoader(\n",
    "        datasets[\"test\"], batch_size=BATCH_SIZE, shuffle=False\n",
    "    ),\n",
    "}"
   ]
  },
  {
   "cell_type": "code",
   "execution_count": 5,
   "metadata": {
    "execution": {
     "iopub.execute_input": "2024-12-18T19:43:28.054311Z",
     "iopub.status.busy": "2024-12-18T19:43:28.053475Z",
     "iopub.status.idle": "2024-12-18T19:43:28.061516Z",
     "shell.execute_reply": "2024-12-18T19:43:28.060559Z",
     "shell.execute_reply.started": "2024-12-18T19:43:28.054267Z"
    },
    "trusted": true
   },
   "outputs": [],
   "source": [
    "def visualize_images_with_masks(\n",
    "    data_loader: DataLoader, num_samples: int = 4, overlay: bool = False\n",
    "):\n",
    "    \"\"\"\n",
    "    Visualize a batch of images with their corresponding masks.\n",
    "\n",
    "    Args:\n",
    "        data_loader : DataLoader - DataLoader for the dataset.\n",
    "        num_samples : int - Number of samples to visualize.\n",
    "        overlay : bool - If True, overlay masks on images for visualization.\n",
    "    \"\"\"\n",
    "    batch = next(iter(data_loader))\n",
    "    images, masks = batch\n",
    "    images = images[:num_samples]\n",
    "    masks = masks[:num_samples]\n",
    "\n",
    "    plt.figure(figsize=(12, num_samples * 3))\n",
    "    for i in range(num_samples):\n",
    "        if overlay:\n",
    "            overlay_img = images[i].permute(1, 2, 0).numpy()\n",
    "            overlay_mask = masks[i][0].numpy()\n",
    "\n",
    "            plt.subplot(num_samples, 1, i + 1)\n",
    "            plt.imshow(overlay_img)\n",
    "            plt.imshow(overlay_mask, cmap=\"jet\", alpha=0.5)\n",
    "            plt.title(\"Image with Mask Overlay\")\n",
    "            plt.axis(\"off\")\n",
    "        else:\n",
    "            plt.subplot(num_samples, 2, i * 2 + 1)\n",
    "            plt.imshow(images[i].permute(1, 2, 0).numpy())\n",
    "            plt.title(\"Image\")\n",
    "            plt.axis(\"off\")\n",
    "\n",
    "            plt.subplot(num_samples, 2, i * 2 + 2)\n",
    "            plt.imshow(masks[i][0].numpy(), cmap=\"gray\")\n",
    "            plt.title(\"Mask\")\n",
    "            plt.axis(\"off\")\n",
    "\n",
    "    plt.tight_layout()\n",
    "    plt.show()"
   ]
  },
  {
   "cell_type": "code",
   "execution_count": 6,
   "metadata": {
    "execution": {
     "iopub.execute_input": "2024-12-18T19:43:28.062970Z",
     "iopub.status.busy": "2024-12-18T19:43:28.062587Z",
     "iopub.status.idle": "2024-12-18T19:43:28.602221Z",
     "shell.execute_reply": "2024-12-18T19:43:28.601499Z",
     "shell.execute_reply.started": "2024-12-18T19:43:28.062934Z"
    },
    "trusted": true
   },
   "outputs": [
    {
     "data": {
      "image/png": "[encoded data removed]",
      "text/plain": [
       "<Figure size 1200x300 with 1 Axes>"
      ]
     },
     "metadata": {},
     "output_type": "display_data"
    }
   ],
   "source": [
    "import matplotlib.pyplot as plt\n",
    "\n",
    "visualize_images_with_masks(dataloaders[\"train\"], 1, True)"
   ]
  },
  {
   "cell_type": "code",
   "execution_count": 8,
   "metadata": {
    "execution": {
     "iopub.execute_input": "2024-12-18T19:43:38.680364Z",
     "iopub.status.busy": "2024-12-18T19:43:38.679973Z",
     "iopub.status.idle": "2024-12-18T19:43:39.241899Z",
     "shell.execute_reply": "2024-12-18T19:43:39.241020Z",
     "shell.execute_reply.started": "2024-12-18T19:43:38.680313Z"
    },
    "trusted": true
   },
   "outputs": [],
   "source": [
    "import pyro\n",
    "import pyro.distributions as dist\n",
    "import pyro.nn as pnn\n",
    "import torch.nn as nn\n",
    "from pyro.nn import PyroModule, PyroSample\n",
    "\n",
    "class ConvBlock(PyroModule):\n",
    "    def __init__(\n",
    "        self,\n",
    "        in_features: int,\n",
    "        out_features: int,\n",
    "        bayesian: bool = False,\n",
    "        distributions: dict = {},\n",
    "    ):\n",
    "        super().__init__()\n",
    "        self.block = PyroModule[nn.Sequential](\n",
    "            PyroModule[nn.Conv2d](in_features, out_features, 3, padding=1, bias=False),\n",
    "            nn.BatchNorm2d(out_features),\n",
    "            nn.ReLU(),\n",
    "            PyroModule[nn.Conv2d](out_features, out_features, 3, padding=1, bias=False),\n",
    "            nn.BatchNorm2d(out_features),\n",
    "            nn.ReLU(),\n",
    "        )\n",
    "\n",
    "        if bayesian:\n",
    "            self.add_bayesian_weights(distributions)\n",
    "\n",
    "    def forward(self, x):\n",
    "        return self.block(x)\n",
    "\n",
    "    def add_bayesian_weights(self, distributions: dict):\n",
    "        \"\"\"\n",
    "        Заменяет веса модели вероятностыми распределениями.\n",
    "        distributions: заданные пользователем распределения (иначе используются нормальные)\n",
    "        \"\"\"\n",
    "        if \"conv1\" not in distributions:\n",
    "            distributions[\"conv1\"] = dist.Normal(\n",
    "                torch.tensor(0.0, device=device), torch.tensor(1.0, device=device)\n",
    "            )\n",
    "        if \"conv2\" not in distributions:\n",
    "            distributions[\"conv2\"] = dist.Normal(\n",
    "                torch.tensor(0.0, device=device), torch.tensor(1.0, device=device)\n",
    "            )\n",
    "\n",
    "        conv1_dim = self.block[0].weight.size()\n",
    "        conv2_dim = self.block[3].weight.size()\n",
    "        self.block[0].weight = PyroSample(\n",
    "            distributions[\"conv1\"].expand(conv1_dim).to_event(4)\n",
    "        )\n",
    "        self.block[3].weight = PyroSample(\n",
    "            distributions[\"conv2\"].expand(conv2_dim).to_event(4)\n",
    "        )\n",
    "\n",
    "\n",
    "class UpConvBlock(PyroModule):\n",
    "    def __init__(\n",
    "        self,\n",
    "        in_features: int,\n",
    "        out_features: int,\n",
    "        bayesian: bool = False,\n",
    "        distributions: dict = {},\n",
    "    ):\n",
    "        super().__init__()\n",
    "        self.upscale = PyroModule[nn.ConvTranspose2d](\n",
    "            in_features, out_features, 2, stride=2\n",
    "        )\n",
    "        self.block = ConvBlock(out_features * 2, out_features, bayesian, distributions)\n",
    "\n",
    "        if bayesian:\n",
    "            self.add_bayesian_weights(distributions)\n",
    "\n",
    "    def forward(self, x, encoder_map):\n",
    "        x = self.upscale(x)\n",
    "        x = torch.cat([x, encoder_map], dim=1)\n",
    "        return self.block(x)\n",
    "\n",
    "    def add_bayesian_weights(self, distributions: dict):\n",
    "        \"\"\"\n",
    "        Заменяет веса модели вероятностыми распределениями.\n",
    "        distributions: заданные пользователем распределения (иначе используются нормальные)\n",
    "        \"\"\"\n",
    "        if \"upconv\" not in distributions:\n",
    "            distributions[\"upconv\"] = dist.Normal(\n",
    "                torch.tensor(0.0, device=device), torch.tensor(1.0, device=device)\n",
    "            )\n",
    "\n",
    "        upscale_dim = self.upscale.weight.size()\n",
    "        self.upscale.weight = PyroSample(\n",
    "            distributions[\"conv1\"].expand(upscale_dim).to_event(4)\n",
    "        )\n",
    "\n",
    "\n",
    "class Unet(PyroModule):\n",
    "    def __init__(self, bayesian: bool = False, distributions: dict = {}):\n",
    "        super().__init__()\n",
    "        self.max_pool = nn.MaxPool2d(2)\n",
    "\n",
    "        for key in [f\"block{i}\" for i in range(1, 5 + 1)]:\n",
    "            if key not in distributions:\n",
    "                distributions[key] = {}\n",
    "        for key in [f\"up_block{i}\" for i in range(1, 4 + 1)]:\n",
    "            if key not in distributions:\n",
    "                distributions[key] = {}\n",
    "\n",
    "        self.block1 = PyroModule[ConvBlock](3, 32, bayesian, distributions[\"block1\"])\n",
    "        self.block2 = PyroModule[ConvBlock](32, 64, bayesian, distributions[\"block2\"])\n",
    "        self.block3 = PyroModule[ConvBlock](64, 128, bayesian, distributions[\"block3\"])\n",
    "        self.block4 = PyroModule[ConvBlock](128, 256, bayesian, distributions[\"block4\"])\n",
    "        self.block5 = PyroModule[ConvBlock](256, 512, bayesian, distributions[\"block5\"])\n",
    "\n",
    "        self.up_block1 = PyroModule[UpConvBlock](\n",
    "            512, 256, bayesian, distributions[\"up_block1\"]\n",
    "        )\n",
    "        self.up_block2 = PyroModule[UpConvBlock](\n",
    "            256, 128, bayesian, distributions[\"up_block2\"]\n",
    "        )\n",
    "        self.up_block3 = PyroModule[UpConvBlock](\n",
    "            128, 64, bayesian, distributions[\"up_block3\"]\n",
    "        )\n",
    "        self.up_block4 = PyroModule[UpConvBlock](\n",
    "            64, 32, bayesian, distributions[\"up_block4\"]\n",
    "        )\n",
    "\n",
    "        if bayesian:\n",
    "            self.segment_conv = PyroModule[nn.Sequential](\n",
    "                PyroModule[nn.Conv2d](32, 1, 3, stride=1, padding=1), nn.Sigmoid()\n",
    "            )\n",
    "            self.add_bayesian_weights(distributions)\n",
    "\n",
    "        else:\n",
    "            self.segment_conv = nn.Conv2d(32, 1, 3, stride=1, padding=1)\n",
    "\n",
    "        self.bayesian = bayesian\n",
    "\n",
    "    def forward(self, x, y=None):\n",
    "        xe1 = self.block1(x)\n",
    "        xe1m = self.max_pool(xe1)\n",
    "\n",
    "        xe2 = self.block2(xe1m)\n",
    "        xe2m = self.max_pool(xe2)\n",
    "\n",
    "        xe3 = self.block3(xe2m)\n",
    "        xe3m = self.max_pool(xe3)\n",
    "\n",
    "        xe4 = self.block4(xe3m)\n",
    "        xe4m = self.max_pool(xe4)\n",
    "\n",
    "        xe5 = self.block5(xe4m)\n",
    "        xd1 = self.up_block1(xe5, xe4)\n",
    "        xd2 = self.up_block2(xd1, xe3)\n",
    "        xd3 = self.up_block3(xd2, xe2)\n",
    "        xd4 = self.up_block4(xd3, xe1)\n",
    "        xd5 = self.segment_conv(xd4)\n",
    "\n",
    "        # xd5 - вероятность для каждого пикселя в распределении Бернули\n",
    "        # поэтому каждый пиксель просэмплируем, чтобы получить\n",
    "        # оценку неопределенности\n",
    "        # .plate - указываем, что у нас батч независимых наблюдений\n",
    "\n",
    "        # пиксели - зависимые случайные величины, поэтому укажем\n",
    "        # это в .to_event(3) - последние 3 координаты из одного распределения\n",
    "        if self.bayesian:\n",
    "            # print(\"Observed Tensor y:\", y.min().item(), y.max().item())\n",
    "            # print(\"Segment Conv Output:\", xd5.min().item(), xd5.max().item())\n",
    "            with pyro.plate(\"data\", x.size(0)):\n",
    "                obs = pyro.sample(\"obs\", dist.Bernoulli(probs=xd5).to_event(3), obs=y)\n",
    "                return obs\n",
    "        else:\n",
    "            return xd5\n",
    "\n",
    "    def add_bayesian_weights(self, distributions: dict):\n",
    "        \"\"\"\n",
    "        Заменяет веса модели вероятностыми распределениями.\n",
    "        distributions: заданные пользователем распределения (иначе используются нормальные)\n",
    "        \"\"\"\n",
    "        if \"segment_conv\" not in distributions:\n",
    "            distributions[\"segment_conv\"] = dist.Normal(\n",
    "                torch.tensor(0.0, device=device), torch.tensor(1.0, device=device)\n",
    "            )\n",
    "\n",
    "        segment_conv_dim = self.segment_conv[0].weight.size()\n",
    "\n",
    "        self.segment_conv[0].weight = PyroSample(\n",
    "            (distributions[\"segment_conv\"].expand(segment_conv_dim).to_event(4))\n",
    "        )\n",
    "\n",
    "\n",
    "device = \"cuda:0\" if torch.cuda.is_available() else \"cpu\"\n",
    "model = Unet(bayesian=True)"
   ]
  },
  {
   "cell_type": "markdown",
   "metadata": {},
   "source": [
    "Вариационный вывод"
   ]
  },
  {
   "cell_type": "code",
   "execution_count": 12,
   "metadata": {
    "execution": {
     "iopub.execute_input": "2024-12-11T14:32:27.592628Z",
     "iopub.status.busy": "2024-12-11T14:32:27.592248Z",
     "iopub.status.idle": "2024-12-11T16:44:32.917140Z",
     "shell.execute_reply": "2024-12-11T16:44:32.915799Z",
     "shell.execute_reply.started": "2024-12-11T14:32:27.592596Z"
    },
    "trusted": true
   },
   "outputs": [
    {
     "name": "stderr",
     "output_type": "stream",
     "text": [
      "100%|██████████| 77/77 [00:30<00:00,  2.54it/s]\n",
      "100%|██████████| 10/10 [00:03<00:00,  2.95it/s]\n"
     ]
    },
    {
     "name": "stdout",
     "output_type": "stream",
     "text": [
      "[iteration 0001] train loss: 458007.6046, val loss: 444811.2562\n"
     ]
    },
    {
     "name": "stderr",
     "output_type": "stream",
     "text": [
      "100%|██████████| 77/77 [00:28<00:00,  2.67it/s]\n",
      "100%|██████████| 10/10 [00:03<00:00,  2.96it/s]\n"
     ]
    },
    {
     "name": "stdout",
     "output_type": "stream",
     "text": [
      "[iteration 0002] train loss: 438273.7284, val loss: 430613.3578\n"
     ]
    },
    {
     "name": "stderr",
     "output_type": "stream",
     "text": [
      "100%|██████████| 77/77 [00:28<00:00,  2.67it/s]\n",
      "100%|██████████| 10/10 [00:03<00:00,  2.97it/s]\n"
     ]
    },
    {
     "name": "stdout",
     "output_type": "stream",
     "text": [
      "[iteration 0003] train loss: 423715.5424, val loss: 415806.3531\n"
     ]
    },
    {
     "name": "stderr",
     "output_type": "stream",
     "text": [
      "100%|██████████| 77/77 [00:28<00:00,  2.68it/s]\n",
      "100%|██████████| 10/10 [00:03<00:00,  2.94it/s]\n"
     ]
    },
    {
     "name": "stdout",
     "output_type": "stream",
     "text": [
      "[iteration 0004] train loss: 408745.2980, val loss: 400886.1047\n"
     ]
    },
    {
     "name": "stderr",
     "output_type": "stream",
     "text": [
      "100%|██████████| 77/77 [00:28<00:00,  2.70it/s]\n",
      "100%|██████████| 10/10 [00:03<00:00,  3.02it/s]\n"
     ]
    },
    {
     "name": "stdout",
     "output_type": "stream",
     "text": [
      "[iteration 0005] train loss: 393757.6326, val loss: 386017.1500\n"
     ]
    },
    {
     "name": "stderr",
     "output_type": "stream",
     "text": [
      "100%|██████████| 77/77 [00:28<00:00,  2.70it/s]\n",
      "100%|██████████| 10/10 [00:03<00:00,  2.92it/s]\n"
     ]
    },
    {
     "name": "stdout",
     "output_type": "stream",
     "text": [
      "[iteration 0006] train loss: 379549.5919, val loss: 372287.2219\n"
     ]
    },
    {
     "name": "stderr",
     "output_type": "stream",
     "text": [
      "100%|██████████| 77/77 [00:28<00:00,  2.69it/s]\n",
      "100%|██████████| 10/10 [00:03<00:00,  2.97it/s]\n"
     ]
    },
    {
     "name": "stdout",
     "output_type": "stream",
     "text": [
      "[iteration 0007] train loss: 365948.4031, val loss: 358958.4125\n"
     ]
    },
    {
     "name": "stderr",
     "output_type": "stream",
     "text": [
      "100%|██████████| 77/77 [00:28<00:00,  2.70it/s]\n",
      "100%|██████████| 10/10 [00:03<00:00,  2.97it/s]\n"
     ]
    },
    {
     "name": "stdout",
     "output_type": "stream",
     "text": [
      "[iteration 0008] train loss: 352658.6438, val loss: 345909.1961\n"
     ]
    },
    {
     "name": "stderr",
     "output_type": "stream",
     "text": [
      "100%|██████████| 77/77 [00:28<00:00,  2.69it/s]\n",
      "100%|██████████| 10/10 [00:03<00:00,  2.99it/s]\n"
     ]
    },
    {
     "name": "stdout",
     "output_type": "stream",
     "text": [
      "[iteration 0009] train loss: 339843.6331, val loss: 333206.1914\n"
     ]
    },
    {
     "name": "stderr",
     "output_type": "stream",
     "text": [
      "100%|██████████| 77/77 [00:28<00:00,  2.71it/s]\n",
      "100%|██████████| 10/10 [00:03<00:00,  2.92it/s]\n"
     ]
    },
    {
     "name": "stdout",
     "output_type": "stream",
     "text": [
      "[iteration 0010] train loss: 327409.9172, val loss: 320869.7664\n"
     ]
    },
    {
     "name": "stderr",
     "output_type": "stream",
     "text": [
      "100%|██████████| 77/77 [00:28<00:00,  2.73it/s]\n",
      "100%|██████████| 10/10 [00:03<00:00,  2.89it/s]\n"
     ]
    },
    {
     "name": "stdout",
     "output_type": "stream",
     "text": [
      "[iteration 0011] train loss: 315177.7950, val loss: 308863.3242\n"
     ]
    },
    {
     "name": "stderr",
     "output_type": "stream",
     "text": [
      "100%|██████████| 77/77 [00:28<00:00,  2.73it/s]\n",
      "100%|██████████| 10/10 [00:03<00:00,  2.88it/s]\n"
     ]
    },
    {
     "name": "stdout",
     "output_type": "stream",
     "text": [
      "[iteration 0012] train loss: 303360.8695, val loss: 297230.0391\n"
     ]
    },
    {
     "name": "stderr",
     "output_type": "stream",
     "text": [
      "100%|██████████| 77/77 [00:28<00:00,  2.74it/s]\n",
      "100%|██████████| 10/10 [00:03<00:00,  2.79it/s]\n"
     ]
    },
    {
     "name": "stdout",
     "output_type": "stream",
     "text": [
      "[iteration 0013] train loss: 291746.8192, val loss: 285849.7676\n"
     ]
    },
    {
     "name": "stderr",
     "output_type": "stream",
     "text": [
      "100%|██████████| 77/77 [00:28<00:00,  2.72it/s]\n",
      "100%|██████████| 10/10 [00:03<00:00,  2.82it/s]\n"
     ]
    },
    {
     "name": "stdout",
     "output_type": "stream",
     "text": [
      "[iteration 0014] train loss: 280465.7991, val loss: 274719.7652\n"
     ]
    },
    {
     "name": "stderr",
     "output_type": "stream",
     "text": [
      "100%|██████████| 77/77 [00:28<00:00,  2.73it/s]\n",
      "100%|██████████| 10/10 [00:03<00:00,  2.90it/s]\n"
     ]
    },
    {
     "name": "stdout",
     "output_type": "stream",
     "text": [
      "[iteration 0015] train loss: 269448.9498, val loss: 263858.4086\n"
     ]
    },
    {
     "name": "stderr",
     "output_type": "stream",
     "text": [
      "100%|██████████| 77/77 [00:28<00:00,  2.70it/s]\n",
      "100%|██████████| 10/10 [00:03<00:00,  2.80it/s]\n"
     ]
    },
    {
     "name": "stdout",
     "output_type": "stream",
     "text": [
      "[iteration 0016] train loss: 258699.5825, val loss: 253279.7036\n"
     ]
    },
    {
     "name": "stderr",
     "output_type": "stream",
     "text": [
      "100%|██████████| 77/77 [00:28<00:00,  2.72it/s]\n",
      "100%|██████████| 10/10 [00:03<00:00,  2.85it/s]\n"
     ]
    },
    {
     "name": "stdout",
     "output_type": "stream",
     "text": [
      "[iteration 0017] train loss: 248312.1496, val loss: 242909.5049\n"
     ]
    },
    {
     "name": "stderr",
     "output_type": "stream",
     "text": [
      "100%|██████████| 77/77 [00:28<00:00,  2.72it/s]\n",
      "100%|██████████| 10/10 [00:03<00:00,  2.90it/s]\n"
     ]
    },
    {
     "name": "stdout",
     "output_type": "stream",
     "text": [
      "[iteration 0018] train loss: 238159.5137, val loss: 233022.7932\n"
     ]
    },
    {
     "name": "stderr",
     "output_type": "stream",
     "text": [
      "100%|██████████| 77/77 [00:28<00:00,  2.72it/s]\n",
      "100%|██████████| 10/10 [00:03<00:00,  2.90it/s]\n"
     ]
    },
    {
     "name": "stdout",
     "output_type": "stream",
     "text": [
      "[iteration 0019] train loss: 228391.5644, val loss: 223340.1855\n"
     ]
    },
    {
     "name": "stderr",
     "output_type": "stream",
     "text": [
      "100%|██████████| 77/77 [00:28<00:00,  2.73it/s]\n",
      "100%|██████████| 10/10 [00:03<00:00,  2.97it/s]\n"
     ]
    },
    {
     "name": "stdout",
     "output_type": "stream",
     "text": [
      "[iteration 0020] train loss: 218935.5803, val loss: 214083.8943\n"
     ]
    },
    {
     "name": "stderr",
     "output_type": "stream",
     "text": [
      "100%|██████████| 77/77 [00:28<00:00,  2.72it/s]\n",
      "100%|██████████| 10/10 [00:03<00:00,  2.97it/s]\n"
     ]
    },
    {
     "name": "stdout",
     "output_type": "stream",
     "text": [
      "[iteration 0021] train loss: 209746.0326, val loss: 205063.0539\n"
     ]
    },
    {
     "name": "stderr",
     "output_type": "stream",
     "text": [
      "100%|██████████| 77/77 [00:28<00:00,  2.71it/s]\n",
      "100%|██████████| 10/10 [00:03<00:00,  3.01it/s]\n"
     ]
    },
    {
     "name": "stdout",
     "output_type": "stream",
     "text": [
      "[iteration 0022] train loss: 200973.2155, val loss: 196535.1805\n"
     ]
    },
    {
     "name": "stderr",
     "output_type": "stream",
     "text": [
      "100%|██████████| 77/77 [00:28<00:00,  2.71it/s]\n",
      "100%|██████████| 10/10 [00:03<00:00,  3.02it/s]\n"
     ]
    },
    {
     "name": "stdout",
     "output_type": "stream",
     "text": [
      "[iteration 0023] train loss: 192439.7058, val loss: 188072.1367\n"
     ]
    },
    {
     "name": "stderr",
     "output_type": "stream",
     "text": [
      "100%|██████████| 77/77 [00:28<00:00,  2.71it/s]\n",
      "100%|██████████| 10/10 [00:03<00:00,  2.99it/s]\n"
     ]
    },
    {
     "name": "stdout",
     "output_type": "stream",
     "text": [
      "[iteration 0024] train loss: 184249.7801, val loss: 180038.1605\n"
     ]
    },
    {
     "name": "stderr",
     "output_type": "stream",
     "text": [
      "100%|██████████| 77/77 [00:28<00:00,  2.72it/s]\n",
      "100%|██████████| 10/10 [00:03<00:00,  2.95it/s]\n"
     ]
    },
    {
     "name": "stdout",
     "output_type": "stream",
     "text": [
      "[iteration 0025] train loss: 176377.9604, val loss: 172369.1023\n"
     ]
    },
    {
     "name": "stderr",
     "output_type": "stream",
     "text": [
      "100%|██████████| 77/77 [00:28<00:00,  2.68it/s]\n",
      "100%|██████████| 10/10 [00:03<00:00,  2.96it/s]\n"
     ]
    },
    {
     "name": "stdout",
     "output_type": "stream",
     "text": [
      "[iteration 0026] train loss: 168798.6556, val loss: 165040.8445\n"
     ]
    },
    {
     "name": "stderr",
     "output_type": "stream",
     "text": [
      "100%|██████████| 77/77 [00:28<00:00,  2.68it/s]\n",
      "100%|██████████| 10/10 [00:03<00:00,  2.95it/s]\n"
     ]
    },
    {
     "name": "stdout",
     "output_type": "stream",
     "text": [
      "[iteration 0027] train loss: 161582.7557, val loss: 157919.3094\n"
     ]
    },
    {
     "name": "stderr",
     "output_type": "stream",
     "text": [
      "100%|██████████| 77/77 [00:28<00:00,  2.69it/s]\n",
      "100%|██████████| 10/10 [00:03<00:00,  2.99it/s]\n"
     ]
    },
    {
     "name": "stdout",
     "output_type": "stream",
     "text": [
      "[iteration 0028] train loss: 154625.7799, val loss: 151035.7266\n"
     ]
    },
    {
     "name": "stderr",
     "output_type": "stream",
     "text": [
      "100%|██████████| 77/77 [00:28<00:00,  2.70it/s]\n",
      "100%|██████████| 10/10 [00:03<00:00,  2.94it/s]\n"
     ]
    },
    {
     "name": "stdout",
     "output_type": "stream",
     "text": [
      "[iteration 0029] train loss: 147994.0481, val loss: 144549.4555\n"
     ]
    },
    {
     "name": "stderr",
     "output_type": "stream",
     "text": [
      "100%|██████████| 77/77 [00:28<00:00,  2.70it/s]\n",
      "100%|██████████| 10/10 [00:03<00:00,  2.99it/s]\n"
     ]
    },
    {
     "name": "stdout",
     "output_type": "stream",
     "text": [
      "[iteration 0030] train loss: 141657.7083, val loss: 138368.7172\n"
     ]
    },
    {
     "name": "stderr",
     "output_type": "stream",
     "text": [
      "100%|██████████| 77/77 [00:28<00:00,  2.72it/s]\n",
      "100%|██████████| 10/10 [00:03<00:00,  2.97it/s]\n"
     ]
    },
    {
     "name": "stdout",
     "output_type": "stream",
     "text": [
      "[iteration 0031] train loss: 135597.0078, val loss: 132487.8719\n"
     ]
    },
    {
     "name": "stderr",
     "output_type": "stream",
     "text": [
      "100%|██████████| 77/77 [00:28<00:00,  2.72it/s]\n",
      "100%|██████████| 10/10 [00:03<00:00,  3.02it/s]\n"
     ]
    },
    {
     "name": "stdout",
     "output_type": "stream",
     "text": [
      "[iteration 0032] train loss: 129823.1667, val loss: 126739.5547\n"
     ]
    },
    {
     "name": "stderr",
     "output_type": "stream",
     "text": [
      "100%|██████████| 77/77 [00:28<00:00,  2.71it/s]\n",
      "100%|██████████| 10/10 [00:03<00:00,  2.97it/s]\n"
     ]
    },
    {
     "name": "stdout",
     "output_type": "stream",
     "text": [
      "[iteration 0033] train loss: 124324.4305, val loss: 121474.1453\n"
     ]
    },
    {
     "name": "stderr",
     "output_type": "stream",
     "text": [
      "100%|██████████| 77/77 [00:28<00:00,  2.71it/s]\n",
      "100%|██████████| 10/10 [00:03<00:00,  2.97it/s]\n"
     ]
    },
    {
     "name": "stdout",
     "output_type": "stream",
     "text": [
      "[iteration 0034] train loss: 119107.3179, val loss: 116350.8125\n"
     ]
    },
    {
     "name": "stderr",
     "output_type": "stream",
     "text": [
      "100%|██████████| 77/77 [00:28<00:00,  2.73it/s]\n",
      "100%|██████████| 10/10 [00:03<00:00,  2.95it/s]\n"
     ]
    },
    {
     "name": "stdout",
     "output_type": "stream",
     "text": [
      "[iteration 0035] train loss: 114100.1070, val loss: 111494.4297\n"
     ]
    },
    {
     "name": "stderr",
     "output_type": "stream",
     "text": [
      "100%|██████████| 77/77 [00:28<00:00,  2.70it/s]\n",
      "100%|██████████| 10/10 [00:03<00:00,  2.93it/s]\n"
     ]
    },
    {
     "name": "stdout",
     "output_type": "stream",
     "text": [
      "[iteration 0036] train loss: 109375.4682, val loss: 106887.8250\n"
     ]
    },
    {
     "name": "stderr",
     "output_type": "stream",
     "text": [
      "100%|██████████| 77/77 [00:28<00:00,  2.69it/s]\n",
      "100%|██████████| 10/10 [00:03<00:00,  2.99it/s]\n"
     ]
    },
    {
     "name": "stdout",
     "output_type": "stream",
     "text": [
      "[iteration 0037] train loss: 104871.5903, val loss: 102475.5406\n"
     ]
    },
    {
     "name": "stderr",
     "output_type": "stream",
     "text": [
      "100%|██████████| 77/77 [00:28<00:00,  2.73it/s]\n",
      "100%|██████████| 10/10 [00:03<00:00,  2.99it/s]\n"
     ]
    },
    {
     "name": "stdout",
     "output_type": "stream",
     "text": [
      "[iteration 0038] train loss: 100604.8457, val loss: 98393.2875\n"
     ]
    },
    {
     "name": "stderr",
     "output_type": "stream",
     "text": [
      "100%|██████████| 77/77 [00:28<00:00,  2.71it/s]\n",
      "100%|██████████| 10/10 [00:03<00:00,  3.02it/s]\n"
     ]
    },
    {
     "name": "stdout",
     "output_type": "stream",
     "text": [
      "[iteration 0039] train loss: 96532.0148, val loss: 94355.5719\n"
     ]
    },
    {
     "name": "stderr",
     "output_type": "stream",
     "text": [
      "100%|██████████| 77/77 [00:28<00:00,  2.70it/s]\n",
      "100%|██████████| 10/10 [00:03<00:00,  3.00it/s]\n"
     ]
    },
    {
     "name": "stdout",
     "output_type": "stream",
     "text": [
      "[iteration 0040] train loss: 92607.2450, val loss: 90541.7047\n"
     ]
    },
    {
     "name": "stderr",
     "output_type": "stream",
     "text": [
      "100%|██████████| 77/77 [00:28<00:00,  2.71it/s]\n",
      "100%|██████████| 10/10 [00:03<00:00,  2.96it/s]\n"
     ]
    },
    {
     "name": "stdout",
     "output_type": "stream",
     "text": [
      "[iteration 0041] train loss: 88944.8250, val loss: 87021.6469\n"
     ]
    },
    {
     "name": "stderr",
     "output_type": "stream",
     "text": [
      "100%|██████████| 77/77 [00:28<00:00,  2.71it/s]\n",
      "100%|██████████| 10/10 [00:03<00:00,  3.02it/s]\n"
     ]
    },
    {
     "name": "stdout",
     "output_type": "stream",
     "text": [
      "[iteration 0042] train loss: 85455.3450, val loss: 83724.1344\n"
     ]
    },
    {
     "name": "stderr",
     "output_type": "stream",
     "text": [
      "100%|██████████| 77/77 [00:28<00:00,  2.72it/s]\n",
      "100%|██████████| 10/10 [00:03<00:00,  2.95it/s]\n"
     ]
    },
    {
     "name": "stdout",
     "output_type": "stream",
     "text": [
      "[iteration 0043] train loss: 82146.6392, val loss: 80381.8031\n"
     ]
    },
    {
     "name": "stderr",
     "output_type": "stream",
     "text": [
      "100%|██████████| 77/77 [00:28<00:00,  2.72it/s]\n",
      "100%|██████████| 10/10 [00:03<00:00,  3.01it/s]\n"
     ]
    },
    {
     "name": "stdout",
     "output_type": "stream",
     "text": [
      "[iteration 0044] train loss: 78998.5957, val loss: 77293.0406\n"
     ]
    },
    {
     "name": "stderr",
     "output_type": "stream",
     "text": [
      "100%|██████████| 77/77 [00:28<00:00,  2.71it/s]\n",
      "100%|██████████| 10/10 [00:03<00:00,  2.97it/s]\n"
     ]
    },
    {
     "name": "stdout",
     "output_type": "stream",
     "text": [
      "[iteration 0045] train loss: 75998.3059, val loss: 74389.1906\n"
     ]
    },
    {
     "name": "stderr",
     "output_type": "stream",
     "text": [
      "100%|██████████| 77/77 [00:28<00:00,  2.70it/s]\n",
      "100%|██████████| 10/10 [00:03<00:00,  2.97it/s]\n"
     ]
    },
    {
     "name": "stdout",
     "output_type": "stream",
     "text": [
      "[iteration 0046] train loss: 73139.6563, val loss: 71506.2625\n"
     ]
    },
    {
     "name": "stderr",
     "output_type": "stream",
     "text": [
      "100%|██████████| 77/77 [00:28<00:00,  2.68it/s]\n",
      "100%|██████████| 10/10 [00:03<00:00,  2.97it/s]\n"
     ]
    },
    {
     "name": "stdout",
     "output_type": "stream",
     "text": [
      "[iteration 0047] train loss: 70439.7310, val loss: 68872.9250\n"
     ]
    },
    {
     "name": "stderr",
     "output_type": "stream",
     "text": [
      "100%|██████████| 77/77 [00:28<00:00,  2.69it/s]\n",
      "100%|██████████| 10/10 [00:03<00:00,  2.95it/s]\n"
     ]
    },
    {
     "name": "stdout",
     "output_type": "stream",
     "text": [
      "[iteration 0048] train loss: 67855.8682, val loss: 66428.3641\n"
     ]
    },
    {
     "name": "stderr",
     "output_type": "stream",
     "text": [
      "100%|██████████| 77/77 [00:28<00:00,  2.69it/s]\n",
      "100%|██████████| 10/10 [00:03<00:00,  2.97it/s]\n"
     ]
    },
    {
     "name": "stdout",
     "output_type": "stream",
     "text": [
      "[iteration 0049] train loss: 65408.2626, val loss: 63974.6047\n"
     ]
    },
    {
     "name": "stderr",
     "output_type": "stream",
     "text": [
      "100%|██████████| 77/77 [00:28<00:00,  2.70it/s]\n",
      "100%|██████████| 10/10 [00:03<00:00,  2.94it/s]\n"
     ]
    },
    {
     "name": "stdout",
     "output_type": "stream",
     "text": [
      "[iteration 0050] train loss: 63047.7996, val loss: 61808.5234\n"
     ]
    },
    {
     "name": "stderr",
     "output_type": "stream",
     "text": [
      "100%|██████████| 77/77 [00:28<00:00,  2.71it/s]\n",
      "100%|██████████| 10/10 [00:03<00:00,  2.94it/s]\n"
     ]
    },
    {
     "name": "stdout",
     "output_type": "stream",
     "text": [
      "[iteration 0051] train loss: 60868.1119, val loss: 59606.9594\n"
     ]
    },
    {
     "name": "stderr",
     "output_type": "stream",
     "text": [
      "100%|██████████| 77/77 [00:28<00:00,  2.71it/s]\n",
      "100%|██████████| 10/10 [00:03<00:00,  2.98it/s]\n"
     ]
    },
    {
     "name": "stdout",
     "output_type": "stream",
     "text": [
      "[iteration 0052] train loss: 58719.4676, val loss: 57562.3703\n"
     ]
    },
    {
     "name": "stderr",
     "output_type": "stream",
     "text": [
      "100%|██████████| 77/77 [00:28<00:00,  2.69it/s]\n",
      "100%|██████████| 10/10 [00:03<00:00,  3.01it/s]\n"
     ]
    },
    {
     "name": "stdout",
     "output_type": "stream",
     "text": [
      "[iteration 0053] train loss: 56721.1199, val loss: 55566.3859\n"
     ]
    },
    {
     "name": "stderr",
     "output_type": "stream",
     "text": [
      "100%|██████████| 77/77 [00:28<00:00,  2.71it/s]\n",
      "100%|██████████| 10/10 [00:03<00:00,  3.00it/s]\n"
     ]
    },
    {
     "name": "stdout",
     "output_type": "stream",
     "text": [
      "[iteration 0054] train loss: 54849.5000, val loss: 53754.9031\n"
     ]
    },
    {
     "name": "stderr",
     "output_type": "stream",
     "text": [
      "100%|██████████| 77/77 [00:28<00:00,  2.71it/s]\n",
      "100%|██████████| 10/10 [00:03<00:00,  2.98it/s]\n"
     ]
    },
    {
     "name": "stdout",
     "output_type": "stream",
     "text": [
      "[iteration 0055] train loss: 53001.8967, val loss: 51989.1859\n"
     ]
    },
    {
     "name": "stderr",
     "output_type": "stream",
     "text": [
      "100%|██████████| 77/77 [00:28<00:00,  2.71it/s]\n",
      "100%|██████████| 10/10 [00:03<00:00,  2.98it/s]\n"
     ]
    },
    {
     "name": "stdout",
     "output_type": "stream",
     "text": [
      "[iteration 0056] train loss: 51278.7202, val loss: 50373.1406\n"
     ]
    },
    {
     "name": "stderr",
     "output_type": "stream",
     "text": [
      "100%|██████████| 77/77 [00:28<00:00,  2.73it/s]\n",
      "100%|██████████| 10/10 [00:03<00:00,  2.99it/s]\n"
     ]
    },
    {
     "name": "stdout",
     "output_type": "stream",
     "text": [
      "[iteration 0057] train loss: 49669.8198, val loss: 48659.0938\n"
     ]
    },
    {
     "name": "stderr",
     "output_type": "stream",
     "text": [
      "100%|██████████| 77/77 [00:28<00:00,  2.72it/s]\n",
      "100%|██████████| 10/10 [00:03<00:00,  3.02it/s]\n"
     ]
    },
    {
     "name": "stdout",
     "output_type": "stream",
     "text": [
      "[iteration 0058] train loss: 48043.4144, val loss: 47059.9828\n"
     ]
    },
    {
     "name": "stderr",
     "output_type": "stream",
     "text": [
      "100%|██████████| 77/77 [00:28<00:00,  2.74it/s]\n",
      "100%|██████████| 10/10 [00:03<00:00,  3.00it/s]\n"
     ]
    },
    {
     "name": "stdout",
     "output_type": "stream",
     "text": [
      "[iteration 0059] train loss: 46560.4952, val loss: 45633.0797\n"
     ]
    },
    {
     "name": "stderr",
     "output_type": "stream",
     "text": [
      "100%|██████████| 77/77 [00:28<00:00,  2.73it/s]\n",
      "100%|██████████| 10/10 [00:03<00:00,  3.02it/s]\n"
     ]
    },
    {
     "name": "stdout",
     "output_type": "stream",
     "text": [
      "[iteration 0060] train loss: 45090.6174, val loss: 44205.7172\n"
     ]
    },
    {
     "name": "stderr",
     "output_type": "stream",
     "text": [
      "100%|██████████| 77/77 [00:28<00:00,  2.73it/s]\n",
      "100%|██████████| 10/10 [00:03<00:00,  3.01it/s]\n"
     ]
    },
    {
     "name": "stdout",
     "output_type": "stream",
     "text": [
      "[iteration 0061] train loss: 43748.4610, val loss: 42925.4109\n"
     ]
    },
    {
     "name": "stderr",
     "output_type": "stream",
     "text": [
      "100%|██████████| 77/77 [00:28<00:00,  2.70it/s]\n",
      "100%|██████████| 10/10 [00:03<00:00,  2.99it/s]\n"
     ]
    },
    {
     "name": "stdout",
     "output_type": "stream",
     "text": [
      "[iteration 0062] train loss: 42439.2003, val loss: 41691.8109\n"
     ]
    },
    {
     "name": "stderr",
     "output_type": "stream",
     "text": [
      "100%|██████████| 77/77 [00:28<00:00,  2.71it/s]\n",
      "100%|██████████| 10/10 [00:03<00:00,  2.93it/s]\n"
     ]
    },
    {
     "name": "stdout",
     "output_type": "stream",
     "text": [
      "[iteration 0063] train loss: 41187.0283, val loss: 40380.1906\n"
     ]
    },
    {
     "name": "stderr",
     "output_type": "stream",
     "text": [
      "100%|██████████| 77/77 [00:28<00:00,  2.71it/s]\n",
      "100%|██████████| 10/10 [00:03<00:00,  2.98it/s]\n"
     ]
    },
    {
     "name": "stdout",
     "output_type": "stream",
     "text": [
      "[iteration 0064] train loss: 40020.1481, val loss: 39357.7906\n"
     ]
    },
    {
     "name": "stderr",
     "output_type": "stream",
     "text": [
      "100%|██████████| 77/77 [00:28<00:00,  2.70it/s]\n",
      "100%|██████████| 10/10 [00:03<00:00,  2.82it/s]\n"
     ]
    },
    {
     "name": "stdout",
     "output_type": "stream",
     "text": [
      "[iteration 0065] train loss: 38849.6369, val loss: 38113.2484\n"
     ]
    },
    {
     "name": "stderr",
     "output_type": "stream",
     "text": [
      "100%|██████████| 77/77 [00:28<00:00,  2.72it/s]\n",
      "100%|██████████| 10/10 [00:03<00:00,  3.00it/s]\n"
     ]
    },
    {
     "name": "stdout",
     "output_type": "stream",
     "text": [
      "[iteration 0066] train loss: 37733.3415, val loss: 36981.5969\n"
     ]
    },
    {
     "name": "stderr",
     "output_type": "stream",
     "text": [
      "100%|██████████| 77/77 [00:28<00:00,  2.73it/s]\n",
      "100%|██████████| 10/10 [00:03<00:00,  3.03it/s]\n"
     ]
    },
    {
     "name": "stdout",
     "output_type": "stream",
     "text": [
      "[iteration 0067] train loss: 36686.6359, val loss: 36045.9344\n"
     ]
    },
    {
     "name": "stderr",
     "output_type": "stream",
     "text": [
      "100%|██████████| 77/77 [00:28<00:00,  2.71it/s]\n",
      "100%|██████████| 10/10 [00:03<00:00,  3.00it/s]\n"
     ]
    },
    {
     "name": "stdout",
     "output_type": "stream",
     "text": [
      "[iteration 0068] train loss: 35663.5369, val loss: 34996.9313\n"
     ]
    },
    {
     "name": "stderr",
     "output_type": "stream",
     "text": [
      "100%|██████████| 77/77 [00:28<00:00,  2.72it/s]\n",
      "100%|██████████| 10/10 [00:03<00:00,  2.99it/s]\n"
     ]
    },
    {
     "name": "stdout",
     "output_type": "stream",
     "text": [
      "[iteration 0069] train loss: 34726.1015, val loss: 34146.6937\n"
     ]
    },
    {
     "name": "stderr",
     "output_type": "stream",
     "text": [
      "100%|██████████| 77/77 [00:28<00:00,  2.70it/s]\n",
      "100%|██████████| 10/10 [00:03<00:00,  2.98it/s]\n"
     ]
    },
    {
     "name": "stdout",
     "output_type": "stream",
     "text": [
      "[iteration 0070] train loss: 33815.9750, val loss: 33238.3500\n"
     ]
    },
    {
     "name": "stderr",
     "output_type": "stream",
     "text": [
      "100%|██████████| 77/77 [00:28<00:00,  2.70it/s]\n",
      "100%|██████████| 10/10 [00:03<00:00,  2.94it/s]\n"
     ]
    },
    {
     "name": "stdout",
     "output_type": "stream",
     "text": [
      "[iteration 0071] train loss: 32944.4493, val loss: 32292.1125\n"
     ]
    },
    {
     "name": "stderr",
     "output_type": "stream",
     "text": [
      "100%|██████████| 77/77 [00:28<00:00,  2.71it/s]\n",
      "100%|██████████| 10/10 [00:03<00:00,  3.00it/s]\n"
     ]
    },
    {
     "name": "stdout",
     "output_type": "stream",
     "text": [
      "[iteration 0072] train loss: 32089.4089, val loss: 31583.8625\n"
     ]
    },
    {
     "name": "stderr",
     "output_type": "stream",
     "text": [
      "100%|██████████| 77/77 [00:28<00:00,  2.72it/s]\n",
      "100%|██████████| 10/10 [00:03<00:00,  3.03it/s]\n"
     ]
    },
    {
     "name": "stdout",
     "output_type": "stream",
     "text": [
      "[iteration 0073] train loss: 31257.0480, val loss: 30660.5219\n"
     ]
    },
    {
     "name": "stderr",
     "output_type": "stream",
     "text": [
      "100%|██████████| 77/77 [00:28<00:00,  2.73it/s]\n",
      "100%|██████████| 10/10 [00:03<00:00,  3.01it/s]\n"
     ]
    },
    {
     "name": "stdout",
     "output_type": "stream",
     "text": [
      "[iteration 0074] train loss: 30436.6958, val loss: 29886.3187\n"
     ]
    },
    {
     "name": "stderr",
     "output_type": "stream",
     "text": [
      "100%|██████████| 77/77 [00:28<00:00,  2.73it/s]\n",
      "100%|██████████| 10/10 [00:03<00:00,  2.96it/s]\n"
     ]
    },
    {
     "name": "stdout",
     "output_type": "stream",
     "text": [
      "[iteration 0075] train loss: 29694.4847, val loss: 29186.9375\n"
     ]
    },
    {
     "name": "stderr",
     "output_type": "stream",
     "text": [
      "100%|██████████| 77/77 [00:28<00:00,  2.73it/s]\n",
      "100%|██████████| 10/10 [00:03<00:00,  2.99it/s]\n"
     ]
    },
    {
     "name": "stdout",
     "output_type": "stream",
     "text": [
      "[iteration 0076] train loss: 28969.5808, val loss: 28481.0031\n"
     ]
    },
    {
     "name": "stderr",
     "output_type": "stream",
     "text": [
      "100%|██████████| 77/77 [00:28<00:00,  2.74it/s]\n",
      "100%|██████████| 10/10 [00:03<00:00,  2.98it/s]\n"
     ]
    },
    {
     "name": "stdout",
     "output_type": "stream",
     "text": [
      "[iteration 0077] train loss: 28299.1241, val loss: 27820.3781\n"
     ]
    },
    {
     "name": "stderr",
     "output_type": "stream",
     "text": [
      "100%|██████████| 77/77 [00:28<00:00,  2.71it/s]\n",
      "100%|██████████| 10/10 [00:03<00:00,  3.00it/s]\n"
     ]
    },
    {
     "name": "stdout",
     "output_type": "stream",
     "text": [
      "[iteration 0078] train loss: 27594.2768, val loss: 27157.0812\n"
     ]
    },
    {
     "name": "stderr",
     "output_type": "stream",
     "text": [
      "100%|██████████| 77/77 [00:28<00:00,  2.73it/s]\n",
      "100%|██████████| 10/10 [00:03<00:00,  2.95it/s]\n"
     ]
    },
    {
     "name": "stdout",
     "output_type": "stream",
     "text": [
      "[iteration 0079] train loss: 26976.2653, val loss: 26458.7625\n"
     ]
    },
    {
     "name": "stderr",
     "output_type": "stream",
     "text": [
      "100%|██████████| 77/77 [00:28<00:00,  2.73it/s]\n",
      "100%|██████████| 10/10 [00:03<00:00,  2.87it/s]\n"
     ]
    },
    {
     "name": "stdout",
     "output_type": "stream",
     "text": [
      "[iteration 0080] train loss: 26362.4406, val loss: 25813.4062\n"
     ]
    },
    {
     "name": "stderr",
     "output_type": "stream",
     "text": [
      "100%|██████████| 77/77 [00:28<00:00,  2.72it/s]\n",
      "100%|██████████| 10/10 [00:03<00:00,  2.87it/s]\n"
     ]
    },
    {
     "name": "stdout",
     "output_type": "stream",
     "text": [
      "[iteration 0081] train loss: 25730.6686, val loss: 25296.8406\n"
     ]
    },
    {
     "name": "stderr",
     "output_type": "stream",
     "text": [
      "100%|██████████| 77/77 [00:28<00:00,  2.72it/s]\n",
      "100%|██████████| 10/10 [00:03<00:00,  2.89it/s]\n"
     ]
    },
    {
     "name": "stdout",
     "output_type": "stream",
     "text": [
      "[iteration 0082] train loss: 25143.5566, val loss: 24795.7969\n"
     ]
    },
    {
     "name": "stderr",
     "output_type": "stream",
     "text": [
      "100%|██████████| 77/77 [00:28<00:00,  2.73it/s]\n",
      "100%|██████████| 10/10 [00:03<00:00,  3.01it/s]\n"
     ]
    },
    {
     "name": "stdout",
     "output_type": "stream",
     "text": [
      "[iteration 0083] train loss: 24564.6702, val loss: 24193.8781\n"
     ]
    },
    {
     "name": "stderr",
     "output_type": "stream",
     "text": [
      "100%|██████████| 77/77 [00:28<00:00,  2.74it/s]\n",
      "100%|██████████| 10/10 [00:03<00:00,  3.02it/s]\n"
     ]
    },
    {
     "name": "stdout",
     "output_type": "stream",
     "text": [
      "[iteration 0084] train loss: 24015.8894, val loss: 23722.7469\n"
     ]
    },
    {
     "name": "stderr",
     "output_type": "stream",
     "text": [
      "100%|██████████| 77/77 [00:28<00:00,  2.72it/s]\n",
      "100%|██████████| 10/10 [00:03<00:00,  2.99it/s]\n"
     ]
    },
    {
     "name": "stdout",
     "output_type": "stream",
     "text": [
      "[iteration 0085] train loss: 23501.7077, val loss: 23108.0594\n"
     ]
    },
    {
     "name": "stderr",
     "output_type": "stream",
     "text": [
      "100%|██████████| 77/77 [00:28<00:00,  2.74it/s]\n",
      "100%|██████████| 10/10 [00:03<00:00,  3.00it/s]\n"
     ]
    },
    {
     "name": "stdout",
     "output_type": "stream",
     "text": [
      "[iteration 0086] train loss: 22983.2102, val loss: 22720.3937\n"
     ]
    },
    {
     "name": "stderr",
     "output_type": "stream",
     "text": [
      "100%|██████████| 77/77 [00:28<00:00,  2.73it/s]\n",
      "100%|██████████| 10/10 [00:03<00:00,  2.96it/s]\n"
     ]
    },
    {
     "name": "stdout",
     "output_type": "stream",
     "text": [
      "[iteration 0087] train loss: 22539.8983, val loss: 22155.6063\n"
     ]
    },
    {
     "name": "stderr",
     "output_type": "stream",
     "text": [
      "100%|██████████| 77/77 [00:28<00:00,  2.72it/s]\n",
      "100%|██████████| 10/10 [00:03<00:00,  3.01it/s]\n"
     ]
    },
    {
     "name": "stdout",
     "output_type": "stream",
     "text": [
      "[iteration 0088] train loss: 22034.8571, val loss: 21646.2687\n"
     ]
    },
    {
     "name": "stderr",
     "output_type": "stream",
     "text": [
      "100%|██████████| 77/77 [00:28<00:00,  2.73it/s]\n",
      "100%|██████████| 10/10 [00:03<00:00,  3.02it/s]\n"
     ]
    },
    {
     "name": "stdout",
     "output_type": "stream",
     "text": [
      "[iteration 0089] train loss: 21604.6059, val loss: 21232.6250\n"
     ]
    },
    {
     "name": "stderr",
     "output_type": "stream",
     "text": [
      "100%|██████████| 77/77 [00:28<00:00,  2.71it/s]\n",
      "100%|██████████| 10/10 [00:03<00:00,  3.02it/s]\n"
     ]
    },
    {
     "name": "stdout",
     "output_type": "stream",
     "text": [
      "[iteration 0090] train loss: 21192.2007, val loss: 20742.8719\n"
     ]
    },
    {
     "name": "stderr",
     "output_type": "stream",
     "text": [
      "100%|██████████| 77/77 [00:28<00:00,  2.73it/s]\n",
      "100%|██████████| 10/10 [00:03<00:00,  2.98it/s]\n"
     ]
    },
    {
     "name": "stdout",
     "output_type": "stream",
     "text": [
      "[iteration 0091] train loss: 20750.3719, val loss: 20450.2500\n"
     ]
    },
    {
     "name": "stderr",
     "output_type": "stream",
     "text": [
      "100%|██████████| 77/77 [00:28<00:00,  2.72it/s]\n",
      "100%|██████████| 10/10 [00:03<00:00,  3.03it/s]\n"
     ]
    },
    {
     "name": "stdout",
     "output_type": "stream",
     "text": [
      "[iteration 0092] train loss: 20353.1904, val loss: 19909.0719\n"
     ]
    },
    {
     "name": "stderr",
     "output_type": "stream",
     "text": [
      "100%|██████████| 77/77 [00:28<00:00,  2.75it/s]\n",
      "100%|██████████| 10/10 [00:03<00:00,  3.03it/s]\n"
     ]
    },
    {
     "name": "stdout",
     "output_type": "stream",
     "text": [
      "[iteration 0093] train loss: 19954.8570, val loss: 19502.1937\n"
     ]
    },
    {
     "name": "stderr",
     "output_type": "stream",
     "text": [
      "100%|██████████| 77/77 [00:28<00:00,  2.72it/s]\n",
      "100%|██████████| 10/10 [00:03<00:00,  3.00it/s]\n"
     ]
    },
    {
     "name": "stdout",
     "output_type": "stream",
     "text": [
      "[iteration 0094] train loss: 19589.1784, val loss: 19197.8125\n"
     ]
    },
    {
     "name": "stderr",
     "output_type": "stream",
     "text": [
      "100%|██████████| 77/77 [00:28<00:00,  2.74it/s]\n",
      "100%|██████████| 10/10 [00:03<00:00,  2.96it/s]\n"
     ]
    },
    {
     "name": "stdout",
     "output_type": "stream",
     "text": [
      "[iteration 0095] train loss: 19230.9418, val loss: 18869.8187\n"
     ]
    },
    {
     "name": "stderr",
     "output_type": "stream",
     "text": [
      "100%|██████████| 77/77 [00:28<00:00,  2.71it/s]\n",
      "100%|██████████| 10/10 [00:03<00:00,  3.00it/s]\n"
     ]
    },
    {
     "name": "stdout",
     "output_type": "stream",
     "text": [
      "[iteration 0096] train loss: 18859.8742, val loss: 18541.3375\n"
     ]
    },
    {
     "name": "stderr",
     "output_type": "stream",
     "text": [
      "100%|██████████| 77/77 [00:28<00:00,  2.71it/s]\n",
      "100%|██████████| 10/10 [00:03<00:00,  2.99it/s]\n"
     ]
    },
    {
     "name": "stdout",
     "output_type": "stream",
     "text": [
      "[iteration 0097] train loss: 18507.6230, val loss: 18206.9813\n"
     ]
    },
    {
     "name": "stderr",
     "output_type": "stream",
     "text": [
      "100%|██████████| 77/77 [00:28<00:00,  2.71it/s]\n",
      "100%|██████████| 10/10 [00:03<00:00,  3.05it/s]\n"
     ]
    },
    {
     "name": "stdout",
     "output_type": "stream",
     "text": [
      "[iteration 0098] train loss: 18175.5559, val loss: 17901.5187\n"
     ]
    },
    {
     "name": "stderr",
     "output_type": "stream",
     "text": [
      "100%|██████████| 77/77 [00:28<00:00,  2.73it/s]\n",
      "100%|██████████| 10/10 [00:03<00:00,  3.03it/s]\n"
     ]
    },
    {
     "name": "stdout",
     "output_type": "stream",
     "text": [
      "[iteration 0099] train loss: 17851.9807, val loss: 17503.8187\n"
     ]
    },
    {
     "name": "stderr",
     "output_type": "stream",
     "text": [
      "100%|██████████| 77/77 [00:28<00:00,  2.72it/s]\n",
      "100%|██████████| 10/10 [00:03<00:00,  3.00it/s]\n"
     ]
    },
    {
     "name": "stdout",
     "output_type": "stream",
     "text": [
      "[iteration 0100] train loss: 17506.6455, val loss: 17239.1250\n"
     ]
    },
    {
     "name": "stderr",
     "output_type": "stream",
     "text": [
      "100%|██████████| 77/77 [00:28<00:00,  2.72it/s]\n",
      "100%|██████████| 10/10 [00:03<00:00,  2.97it/s]\n"
     ]
    },
    {
     "name": "stdout",
     "output_type": "stream",
     "text": [
      "[iteration 0101] train loss: 17204.1431, val loss: 16892.9125\n"
     ]
    },
    {
     "name": "stderr",
     "output_type": "stream",
     "text": [
      "100%|██████████| 77/77 [00:28<00:00,  2.74it/s]\n",
      "100%|██████████| 10/10 [00:03<00:00,  3.02it/s]\n"
     ]
    },
    {
     "name": "stdout",
     "output_type": "stream",
     "text": [
      "[iteration 0102] train loss: 16880.8871, val loss: 16688.6375\n"
     ]
    },
    {
     "name": "stderr",
     "output_type": "stream",
     "text": [
      "100%|██████████| 77/77 [00:28<00:00,  2.72it/s]\n",
      "100%|██████████| 10/10 [00:03<00:00,  3.02it/s]\n"
     ]
    },
    {
     "name": "stdout",
     "output_type": "stream",
     "text": [
      "[iteration 0103] train loss: 16678.8861, val loss: 16311.8312\n"
     ]
    },
    {
     "name": "stderr",
     "output_type": "stream",
     "text": [
      "100%|██████████| 77/77 [00:28<00:00,  2.72it/s]\n",
      "100%|██████████| 10/10 [00:03<00:00,  3.00it/s]\n"
     ]
    },
    {
     "name": "stdout",
     "output_type": "stream",
     "text": [
      "[iteration 0104] train loss: 16337.1897, val loss: 16100.0875\n"
     ]
    },
    {
     "name": "stderr",
     "output_type": "stream",
     "text": [
      "100%|██████████| 77/77 [00:28<00:00,  2.74it/s]\n",
      "100%|██████████| 10/10 [00:03<00:00,  3.02it/s]\n"
     ]
    },
    {
     "name": "stdout",
     "output_type": "stream",
     "text": [
      "[iteration 0105] train loss: 16109.6048, val loss: 15744.3000\n"
     ]
    },
    {
     "name": "stderr",
     "output_type": "stream",
     "text": [
      "100%|██████████| 77/77 [00:28<00:00,  2.73it/s]\n",
      "100%|██████████| 10/10 [00:03<00:00,  3.01it/s]\n"
     ]
    },
    {
     "name": "stdout",
     "output_type": "stream",
     "text": [
      "[iteration 0106] train loss: 15815.1656, val loss: 15553.2719\n"
     ]
    },
    {
     "name": "stderr",
     "output_type": "stream",
     "text": [
      "100%|██████████| 77/77 [00:28<00:00,  2.72it/s]\n",
      "100%|██████████| 10/10 [00:03<00:00,  3.02it/s]\n"
     ]
    },
    {
     "name": "stdout",
     "output_type": "stream",
     "text": [
      "[iteration 0107] train loss: 15571.4082, val loss: 15247.1969\n"
     ]
    },
    {
     "name": "stderr",
     "output_type": "stream",
     "text": [
      "100%|██████████| 77/77 [00:28<00:00,  2.72it/s]\n",
      "100%|██████████| 10/10 [00:03<00:00,  2.98it/s]\n"
     ]
    },
    {
     "name": "stdout",
     "output_type": "stream",
     "text": [
      "[iteration 0108] train loss: 15319.6071, val loss: 14981.7469\n"
     ]
    },
    {
     "name": "stderr",
     "output_type": "stream",
     "text": [
      "100%|██████████| 77/77 [00:28<00:00,  2.70it/s]\n",
      "100%|██████████| 10/10 [00:03<00:00,  3.01it/s]\n"
     ]
    },
    {
     "name": "stdout",
     "output_type": "stream",
     "text": [
      "[iteration 0109] train loss: 15070.3116, val loss: 14964.5312\n"
     ]
    },
    {
     "name": "stderr",
     "output_type": "stream",
     "text": [
      "100%|██████████| 77/77 [00:28<00:00,  2.72it/s]\n",
      "100%|██████████| 10/10 [00:03<00:00,  2.92it/s]\n"
     ]
    },
    {
     "name": "stdout",
     "output_type": "stream",
     "text": [
      "[iteration 0110] train loss: 14822.7077, val loss: 14567.4406\n"
     ]
    },
    {
     "name": "stderr",
     "output_type": "stream",
     "text": [
      "100%|██████████| 77/77 [00:28<00:00,  2.72it/s]\n",
      "100%|██████████| 10/10 [00:03<00:00,  2.95it/s]\n"
     ]
    },
    {
     "name": "stdout",
     "output_type": "stream",
     "text": [
      "[iteration 0111] train loss: 14608.4026, val loss: 14319.3969\n"
     ]
    },
    {
     "name": "stderr",
     "output_type": "stream",
     "text": [
      "100%|██████████| 77/77 [00:27<00:00,  2.75it/s]\n",
      "100%|██████████| 10/10 [00:03<00:00,  3.02it/s]\n"
     ]
    },
    {
     "name": "stdout",
     "output_type": "stream",
     "text": [
      "[iteration 0112] train loss: 14379.1628, val loss: 14098.8250\n"
     ]
    },
    {
     "name": "stderr",
     "output_type": "stream",
     "text": [
      "100%|██████████| 77/77 [00:28<00:00,  2.72it/s]\n",
      "100%|██████████| 10/10 [00:03<00:00,  3.00it/s]\n"
     ]
    },
    {
     "name": "stdout",
     "output_type": "stream",
     "text": [
      "[iteration 0113] train loss: 14147.8244, val loss: 13900.0969\n"
     ]
    },
    {
     "name": "stderr",
     "output_type": "stream",
     "text": [
      "100%|██████████| 77/77 [00:28<00:00,  2.72it/s]\n",
      "100%|██████████| 10/10 [00:03<00:00,  2.91it/s]\n"
     ]
    },
    {
     "name": "stdout",
     "output_type": "stream",
     "text": [
      "[iteration 0114] train loss: 13950.4454, val loss: 13700.6250\n"
     ]
    },
    {
     "name": "stderr",
     "output_type": "stream",
     "text": [
      "100%|██████████| 77/77 [00:28<00:00,  2.74it/s]\n",
      "100%|██████████| 10/10 [00:03<00:00,  3.04it/s]\n"
     ]
    },
    {
     "name": "stdout",
     "output_type": "stream",
     "text": [
      "[iteration 0115] train loss: 13779.6674, val loss: 13476.4781\n"
     ]
    },
    {
     "name": "stderr",
     "output_type": "stream",
     "text": [
      "100%|██████████| 77/77 [00:28<00:00,  2.72it/s]\n",
      "100%|██████████| 10/10 [00:03<00:00,  3.05it/s]\n"
     ]
    },
    {
     "name": "stdout",
     "output_type": "stream",
     "text": [
      "[iteration 0116] train loss: 13586.6107, val loss: 13356.0531\n"
     ]
    },
    {
     "name": "stderr",
     "output_type": "stream",
     "text": [
      "100%|██████████| 77/77 [00:28<00:00,  2.70it/s]\n",
      "100%|██████████| 10/10 [00:03<00:00,  2.97it/s]\n"
     ]
    },
    {
     "name": "stdout",
     "output_type": "stream",
     "text": [
      "[iteration 0117] train loss: 13375.5385, val loss: 13110.6812\n"
     ]
    },
    {
     "name": "stderr",
     "output_type": "stream",
     "text": [
      "100%|██████████| 77/77 [00:28<00:00,  2.72it/s]\n",
      "100%|██████████| 10/10 [00:03<00:00,  3.02it/s]\n"
     ]
    },
    {
     "name": "stdout",
     "output_type": "stream",
     "text": [
      "[iteration 0118] train loss: 13217.9267, val loss: 12856.4781\n"
     ]
    },
    {
     "name": "stderr",
     "output_type": "stream",
     "text": [
      "100%|██████████| 77/77 [00:28<00:00,  2.72it/s]\n",
      "100%|██████████| 10/10 [00:03<00:00,  2.96it/s]\n"
     ]
    },
    {
     "name": "stdout",
     "output_type": "stream",
     "text": [
      "[iteration 0119] train loss: 13012.9075, val loss: 12740.4219\n"
     ]
    },
    {
     "name": "stderr",
     "output_type": "stream",
     "text": [
      "100%|██████████| 77/77 [00:28<00:00,  2.73it/s]\n",
      "100%|██████████| 10/10 [00:03<00:00,  2.98it/s]\n"
     ]
    },
    {
     "name": "stdout",
     "output_type": "stream",
     "text": [
      "[iteration 0120] train loss: 12808.9717, val loss: 12598.1625\n"
     ]
    },
    {
     "name": "stderr",
     "output_type": "stream",
     "text": [
      "100%|██████████| 77/77 [00:28<00:00,  2.72it/s]\n",
      "100%|██████████| 10/10 [00:03<00:00,  3.01it/s]\n"
     ]
    },
    {
     "name": "stdout",
     "output_type": "stream",
     "text": [
      "[iteration 0121] train loss: 12630.8600, val loss: 12459.3906\n"
     ]
    },
    {
     "name": "stderr",
     "output_type": "stream",
     "text": [
      "100%|██████████| 77/77 [00:28<00:00,  2.72it/s]\n",
      "100%|██████████| 10/10 [00:03<00:00,  3.05it/s]\n"
     ]
    },
    {
     "name": "stdout",
     "output_type": "stream",
     "text": [
      "[iteration 0122] train loss: 12479.8795, val loss: 12239.7031\n"
     ]
    },
    {
     "name": "stderr",
     "output_type": "stream",
     "text": [
      "100%|██████████| 77/77 [00:28<00:00,  2.71it/s]\n",
      "100%|██████████| 10/10 [00:03<00:00,  3.05it/s]\n"
     ]
    },
    {
     "name": "stdout",
     "output_type": "stream",
     "text": [
      "[iteration 0123] train loss: 12315.8111, val loss: 12122.4906\n"
     ]
    },
    {
     "name": "stderr",
     "output_type": "stream",
     "text": [
      "100%|██████████| 77/77 [00:28<00:00,  2.72it/s]\n",
      "100%|██████████| 10/10 [00:03<00:00,  3.03it/s]\n"
     ]
    },
    {
     "name": "stdout",
     "output_type": "stream",
     "text": [
      "[iteration 0124] train loss: 12135.6239, val loss: 11879.9031\n"
     ]
    },
    {
     "name": "stderr",
     "output_type": "stream",
     "text": [
      "100%|██████████| 77/77 [00:27<00:00,  2.76it/s]\n",
      "100%|██████████| 10/10 [00:03<00:00,  2.93it/s]\n"
     ]
    },
    {
     "name": "stdout",
     "output_type": "stream",
     "text": [
      "[iteration 0125] train loss: 11988.4188, val loss: 11742.2437\n"
     ]
    },
    {
     "name": "stderr",
     "output_type": "stream",
     "text": [
      "100%|██████████| 77/77 [00:28<00:00,  2.74it/s]\n",
      "100%|██████████| 10/10 [00:03<00:00,  2.93it/s]\n"
     ]
    },
    {
     "name": "stdout",
     "output_type": "stream",
     "text": [
      "[iteration 0126] train loss: 11820.1982, val loss: 11688.6969\n"
     ]
    },
    {
     "name": "stderr",
     "output_type": "stream",
     "text": [
      "100%|██████████| 77/77 [00:27<00:00,  2.77it/s]\n",
      "100%|██████████| 10/10 [00:03<00:00,  2.90it/s]\n"
     ]
    },
    {
     "name": "stdout",
     "output_type": "stream",
     "text": [
      "[iteration 0127] train loss: 11681.4271, val loss: 11503.2219\n"
     ]
    },
    {
     "name": "stderr",
     "output_type": "stream",
     "text": [
      "100%|██████████| 77/77 [00:28<00:00,  2.74it/s]\n",
      "100%|██████████| 10/10 [00:03<00:00,  2.96it/s]\n"
     ]
    },
    {
     "name": "stdout",
     "output_type": "stream",
     "text": [
      "[iteration 0128] train loss: 11536.6740, val loss: 11316.3687\n"
     ]
    },
    {
     "name": "stderr",
     "output_type": "stream",
     "text": [
      "100%|██████████| 77/77 [00:28<00:00,  2.75it/s]\n",
      "100%|██████████| 10/10 [00:03<00:00,  2.96it/s]\n"
     ]
    },
    {
     "name": "stdout",
     "output_type": "stream",
     "text": [
      "[iteration 0129] train loss: 11397.4283, val loss: 11151.6375\n"
     ]
    },
    {
     "name": "stderr",
     "output_type": "stream",
     "text": [
      "100%|██████████| 77/77 [00:28<00:00,  2.71it/s]\n",
      "100%|██████████| 10/10 [00:03<00:00,  2.97it/s]\n"
     ]
    },
    {
     "name": "stdout",
     "output_type": "stream",
     "text": [
      "[iteration 0130] train loss: 11218.1444, val loss: 11117.6437\n"
     ]
    },
    {
     "name": "stderr",
     "output_type": "stream",
     "text": [
      "100%|██████████| 77/77 [00:28<00:00,  2.73it/s]\n",
      "100%|██████████| 10/10 [00:03<00:00,  3.02it/s]\n"
     ]
    },
    {
     "name": "stdout",
     "output_type": "stream",
     "text": [
      "[iteration 0131] train loss: 11114.2938, val loss: 10962.0031\n"
     ]
    },
    {
     "name": "stderr",
     "output_type": "stream",
     "text": [
      "100%|██████████| 77/77 [00:27<00:00,  2.76it/s]\n",
      "100%|██████████| 10/10 [00:03<00:00,  3.00it/s]\n"
     ]
    },
    {
     "name": "stdout",
     "output_type": "stream",
     "text": [
      "[iteration 0132] train loss: 10987.9273, val loss: 10836.2812\n"
     ]
    },
    {
     "name": "stderr",
     "output_type": "stream",
     "text": [
      "100%|██████████| 77/77 [00:28<00:00,  2.74it/s]\n",
      "100%|██████████| 10/10 [00:03<00:00,  3.00it/s]\n"
     ]
    },
    {
     "name": "stdout",
     "output_type": "stream",
     "text": [
      "[iteration 0133] train loss: 10866.8738, val loss: 10535.5438\n"
     ]
    },
    {
     "name": "stderr",
     "output_type": "stream",
     "text": [
      "100%|██████████| 77/77 [00:28<00:00,  2.72it/s]\n",
      "100%|██████████| 10/10 [00:03<00:00,  3.00it/s]\n"
     ]
    },
    {
     "name": "stdout",
     "output_type": "stream",
     "text": [
      "[iteration 0134] train loss: 10764.9983, val loss: 10514.8500\n"
     ]
    },
    {
     "name": "stderr",
     "output_type": "stream",
     "text": [
      "100%|██████████| 77/77 [00:28<00:00,  2.74it/s]\n",
      "100%|██████████| 10/10 [00:03<00:00,  3.00it/s]\n"
     ]
    },
    {
     "name": "stdout",
     "output_type": "stream",
     "text": [
      "[iteration 0135] train loss: 10614.6263, val loss: 10329.6906\n"
     ]
    },
    {
     "name": "stderr",
     "output_type": "stream",
     "text": [
      "100%|██████████| 77/77 [00:28<00:00,  2.74it/s]\n",
      "100%|██████████| 10/10 [00:03<00:00,  3.00it/s]\n"
     ]
    },
    {
     "name": "stdout",
     "output_type": "stream",
     "text": [
      "[iteration 0136] train loss: 10478.6255, val loss: 10202.2812\n"
     ]
    },
    {
     "name": "stderr",
     "output_type": "stream",
     "text": [
      "100%|██████████| 77/77 [00:28<00:00,  2.72it/s]\n",
      "100%|██████████| 10/10 [00:03<00:00,  3.00it/s]\n"
     ]
    },
    {
     "name": "stdout",
     "output_type": "stream",
     "text": [
      "[iteration 0137] train loss: 10373.2137, val loss: 10069.1000\n"
     ]
    },
    {
     "name": "stderr",
     "output_type": "stream",
     "text": [
      "100%|██████████| 77/77 [00:28<00:00,  2.73it/s]\n",
      "100%|██████████| 10/10 [00:03<00:00,  3.00it/s]\n"
     ]
    },
    {
     "name": "stdout",
     "output_type": "stream",
     "text": [
      "[iteration 0138] train loss: 10282.3563, val loss: 9987.3156\n"
     ]
    },
    {
     "name": "stderr",
     "output_type": "stream",
     "text": [
      "100%|██████████| 77/77 [00:28<00:00,  2.74it/s]\n",
      "100%|██████████| 10/10 [00:03<00:00,  3.00it/s]\n"
     ]
    },
    {
     "name": "stdout",
     "output_type": "stream",
     "text": [
      "[iteration 0139] train loss: 10113.1822, val loss: 9962.7687\n"
     ]
    },
    {
     "name": "stderr",
     "output_type": "stream",
     "text": [
      "100%|██████████| 77/77 [00:28<00:00,  2.75it/s]\n",
      "100%|██████████| 10/10 [00:03<00:00,  3.03it/s]\n"
     ]
    },
    {
     "name": "stdout",
     "output_type": "stream",
     "text": [
      "[iteration 0140] train loss: 10012.9440, val loss: 9747.8625\n"
     ]
    },
    {
     "name": "stderr",
     "output_type": "stream",
     "text": [
      "100%|██████████| 77/77 [00:27<00:00,  2.75it/s]\n",
      "100%|██████████| 10/10 [00:03<00:00,  3.03it/s]\n"
     ]
    },
    {
     "name": "stdout",
     "output_type": "stream",
     "text": [
      "[iteration 0141] train loss: 9934.6527, val loss: 9762.7625\n"
     ]
    },
    {
     "name": "stderr",
     "output_type": "stream",
     "text": [
      "100%|██████████| 77/77 [00:28<00:00,  2.73it/s]\n",
      "100%|██████████| 10/10 [00:03<00:00,  3.03it/s]\n"
     ]
    },
    {
     "name": "stdout",
     "output_type": "stream",
     "text": [
      "[iteration 0142] train loss: 9821.5465, val loss: 9580.1875\n"
     ]
    },
    {
     "name": "stderr",
     "output_type": "stream",
     "text": [
      "100%|██████████| 77/77 [00:27<00:00,  2.76it/s]\n",
      "100%|██████████| 10/10 [00:03<00:00,  3.02it/s]\n"
     ]
    },
    {
     "name": "stdout",
     "output_type": "stream",
     "text": [
      "[iteration 0143] train loss: 9748.5269, val loss: 9482.0250\n"
     ]
    },
    {
     "name": "stderr",
     "output_type": "stream",
     "text": [
      "100%|██████████| 77/77 [00:28<00:00,  2.74it/s]\n",
      "100%|██████████| 10/10 [00:03<00:00,  3.03it/s]\n"
     ]
    },
    {
     "name": "stdout",
     "output_type": "stream",
     "text": [
      "[iteration 0144] train loss: 9617.8928, val loss: 9336.8375\n"
     ]
    },
    {
     "name": "stderr",
     "output_type": "stream",
     "text": [
      "100%|██████████| 77/77 [00:27<00:00,  2.76it/s]\n",
      "100%|██████████| 10/10 [00:03<00:00,  3.02it/s]\n"
     ]
    },
    {
     "name": "stdout",
     "output_type": "stream",
     "text": [
      "[iteration 0145] train loss: 9532.3127, val loss: 9362.5531\n"
     ]
    },
    {
     "name": "stderr",
     "output_type": "stream",
     "text": [
      "100%|██████████| 77/77 [00:28<00:00,  2.74it/s]\n",
      "100%|██████████| 10/10 [00:03<00:00,  3.00it/s]\n"
     ]
    },
    {
     "name": "stdout",
     "output_type": "stream",
     "text": [
      "[iteration 0146] train loss: 9424.9533, val loss: 9160.8906\n"
     ]
    },
    {
     "name": "stderr",
     "output_type": "stream",
     "text": [
      "100%|██████████| 77/77 [00:28<00:00,  2.69it/s]\n",
      "100%|██████████| 10/10 [00:03<00:00,  3.01it/s]\n"
     ]
    },
    {
     "name": "stdout",
     "output_type": "stream",
     "text": [
      "[iteration 0147] train loss: 9353.6242, val loss: 9184.3500\n"
     ]
    },
    {
     "name": "stderr",
     "output_type": "stream",
     "text": [
      "100%|██████████| 77/77 [00:28<00:00,  2.71it/s]\n",
      "100%|██████████| 10/10 [00:03<00:00,  3.00it/s]\n"
     ]
    },
    {
     "name": "stdout",
     "output_type": "stream",
     "text": [
      "[iteration 0148] train loss: 9256.3593, val loss: 9034.6375\n"
     ]
    },
    {
     "name": "stderr",
     "output_type": "stream",
     "text": [
      "100%|██████████| 77/77 [00:28<00:00,  2.72it/s]\n",
      "100%|██████████| 10/10 [00:03<00:00,  2.98it/s]\n"
     ]
    },
    {
     "name": "stdout",
     "output_type": "stream",
     "text": [
      "[iteration 0149] train loss: 9175.3476, val loss: 8970.6812\n"
     ]
    },
    {
     "name": "stderr",
     "output_type": "stream",
     "text": [
      "100%|██████████| 77/77 [00:28<00:00,  2.73it/s]\n",
      "100%|██████████| 10/10 [00:03<00:00,  2.99it/s]\n"
     ]
    },
    {
     "name": "stdout",
     "output_type": "stream",
     "text": [
      "[iteration 0150] train loss: 9064.4840, val loss: 8852.7000\n"
     ]
    },
    {
     "name": "stderr",
     "output_type": "stream",
     "text": [
      "100%|██████████| 77/77 [00:28<00:00,  2.72it/s]\n",
      "100%|██████████| 10/10 [00:03<00:00,  2.94it/s]\n"
     ]
    },
    {
     "name": "stdout",
     "output_type": "stream",
     "text": [
      "[iteration 0151] train loss: 8981.0072, val loss: 8878.9000\n"
     ]
    },
    {
     "name": "stderr",
     "output_type": "stream",
     "text": [
      "100%|██████████| 77/77 [00:28<00:00,  2.72it/s]\n",
      "100%|██████████| 10/10 [00:03<00:00,  2.96it/s]\n"
     ]
    },
    {
     "name": "stdout",
     "output_type": "stream",
     "text": [
      "[iteration 0152] train loss: 8905.3041, val loss: 8675.6344\n"
     ]
    },
    {
     "name": "stderr",
     "output_type": "stream",
     "text": [
      "100%|██████████| 77/77 [00:28<00:00,  2.67it/s]\n",
      "100%|██████████| 10/10 [00:03<00:00,  2.91it/s]\n"
     ]
    },
    {
     "name": "stdout",
     "output_type": "stream",
     "text": [
      "[iteration 0153] train loss: 8803.5622, val loss: 8679.4312\n"
     ]
    },
    {
     "name": "stderr",
     "output_type": "stream",
     "text": [
      "100%|██████████| 77/77 [00:28<00:00,  2.68it/s]\n",
      "100%|██████████| 10/10 [00:03<00:00,  2.93it/s]\n"
     ]
    },
    {
     "name": "stdout",
     "output_type": "stream",
     "text": [
      "[iteration 0154] train loss: 8740.7667, val loss: 8483.3250\n"
     ]
    },
    {
     "name": "stderr",
     "output_type": "stream",
     "text": [
      "100%|██████████| 77/77 [00:28<00:00,  2.69it/s]\n",
      "100%|██████████| 10/10 [00:03<00:00,  3.02it/s]\n"
     ]
    },
    {
     "name": "stdout",
     "output_type": "stream",
     "text": [
      "[iteration 0155] train loss: 8685.6928, val loss: 8486.7406\n"
     ]
    },
    {
     "name": "stderr",
     "output_type": "stream",
     "text": [
      "100%|██████████| 77/77 [00:28<00:00,  2.75it/s]\n",
      "100%|██████████| 10/10 [00:03<00:00,  3.00it/s]\n"
     ]
    },
    {
     "name": "stdout",
     "output_type": "stream",
     "text": [
      "[iteration 0156] train loss: 8544.2266, val loss: 8408.1719\n"
     ]
    },
    {
     "name": "stderr",
     "output_type": "stream",
     "text": [
      "100%|██████████| 77/77 [00:28<00:00,  2.72it/s]\n",
      "100%|██████████| 10/10 [00:03<00:00,  2.94it/s]\n"
     ]
    },
    {
     "name": "stdout",
     "output_type": "stream",
     "text": [
      "[iteration 0157] train loss: 8529.0185, val loss: 8258.6875\n"
     ]
    },
    {
     "name": "stderr",
     "output_type": "stream",
     "text": [
      "100%|██████████| 77/77 [00:28<00:00,  2.73it/s]\n",
      "100%|██████████| 10/10 [00:03<00:00,  2.98it/s]\n"
     ]
    },
    {
     "name": "stdout",
     "output_type": "stream",
     "text": [
      "[iteration 0158] train loss: 8410.7677, val loss: 8274.2469\n"
     ]
    },
    {
     "name": "stderr",
     "output_type": "stream",
     "text": [
      "100%|██████████| 77/77 [00:28<00:00,  2.74it/s]\n",
      "100%|██████████| 10/10 [00:03<00:00,  3.01it/s]\n"
     ]
    },
    {
     "name": "stdout",
     "output_type": "stream",
     "text": [
      "[iteration 0159] train loss: 8386.4503, val loss: 8167.8250\n"
     ]
    },
    {
     "name": "stderr",
     "output_type": "stream",
     "text": [
      "100%|██████████| 77/77 [00:28<00:00,  2.72it/s]\n",
      "100%|██████████| 10/10 [00:03<00:00,  2.96it/s]\n"
     ]
    },
    {
     "name": "stdout",
     "output_type": "stream",
     "text": [
      "[iteration 0160] train loss: 8289.2733, val loss: 8137.4563\n"
     ]
    },
    {
     "name": "stderr",
     "output_type": "stream",
     "text": [
      "100%|██████████| 77/77 [00:28<00:00,  2.71it/s]\n",
      "100%|██████████| 10/10 [00:03<00:00,  3.00it/s]\n"
     ]
    },
    {
     "name": "stdout",
     "output_type": "stream",
     "text": [
      "[iteration 0161] train loss: 8214.7917, val loss: 8048.8313\n"
     ]
    },
    {
     "name": "stderr",
     "output_type": "stream",
     "text": [
      "100%|██████████| 77/77 [00:28<00:00,  2.74it/s]\n",
      "100%|██████████| 10/10 [00:03<00:00,  3.01it/s]\n"
     ]
    },
    {
     "name": "stdout",
     "output_type": "stream",
     "text": [
      "[iteration 0162] train loss: 8104.7117, val loss: 7955.8500\n"
     ]
    },
    {
     "name": "stderr",
     "output_type": "stream",
     "text": [
      "100%|██████████| 77/77 [00:28<00:00,  2.68it/s]\n",
      "100%|██████████| 10/10 [00:03<00:00,  2.96it/s]\n"
     ]
    },
    {
     "name": "stdout",
     "output_type": "stream",
     "text": [
      "[iteration 0163] train loss: 8081.3093, val loss: 7836.2469\n"
     ]
    },
    {
     "name": "stderr",
     "output_type": "stream",
     "text": [
      "100%|██████████| 77/77 [00:28<00:00,  2.69it/s]\n",
      "100%|██████████| 10/10 [00:03<00:00,  2.92it/s]\n"
     ]
    },
    {
     "name": "stdout",
     "output_type": "stream",
     "text": [
      "[iteration 0164] train loss: 7996.2507, val loss: 7766.4656\n"
     ]
    },
    {
     "name": "stderr",
     "output_type": "stream",
     "text": [
      "100%|██████████| 77/77 [00:28<00:00,  2.69it/s]\n",
      "100%|██████████| 10/10 [00:03<00:00,  2.93it/s]\n"
     ]
    },
    {
     "name": "stdout",
     "output_type": "stream",
     "text": [
      "[iteration 0165] train loss: 7920.1033, val loss: 7774.4969\n"
     ]
    },
    {
     "name": "stderr",
     "output_type": "stream",
     "text": [
      "100%|██████████| 77/77 [00:28<00:00,  2.70it/s]\n",
      "100%|██████████| 10/10 [00:03<00:00,  2.99it/s]\n"
     ]
    },
    {
     "name": "stdout",
     "output_type": "stream",
     "text": [
      "[iteration 0166] train loss: 7905.5202, val loss: 7737.2000\n"
     ]
    },
    {
     "name": "stderr",
     "output_type": "stream",
     "text": [
      "100%|██████████| 77/77 [00:28<00:00,  2.67it/s]\n",
      "100%|██████████| 10/10 [00:03<00:00,  2.95it/s]\n"
     ]
    },
    {
     "name": "stdout",
     "output_type": "stream",
     "text": [
      "[iteration 0167] train loss: 7804.6872, val loss: 7618.1250\n"
     ]
    },
    {
     "name": "stderr",
     "output_type": "stream",
     "text": [
      "100%|██████████| 77/77 [00:28<00:00,  2.69it/s]\n",
      "100%|██████████| 10/10 [00:03<00:00,  2.95it/s]\n"
     ]
    },
    {
     "name": "stdout",
     "output_type": "stream",
     "text": [
      "[iteration 0168] train loss: 7726.0925, val loss: 7524.9031\n"
     ]
    },
    {
     "name": "stderr",
     "output_type": "stream",
     "text": [
      "100%|██████████| 77/77 [00:28<00:00,  2.69it/s]\n",
      "100%|██████████| 10/10 [00:03<00:00,  2.95it/s]\n"
     ]
    },
    {
     "name": "stdout",
     "output_type": "stream",
     "text": [
      "[iteration 0169] train loss: 7702.2434, val loss: 7494.7500\n"
     ]
    },
    {
     "name": "stderr",
     "output_type": "stream",
     "text": [
      "100%|██████████| 77/77 [00:28<00:00,  2.69it/s]\n",
      "100%|██████████| 10/10 [00:03<00:00,  2.96it/s]\n"
     ]
    },
    {
     "name": "stdout",
     "output_type": "stream",
     "text": [
      "[iteration 0170] train loss: 7630.6900, val loss: 7436.7344\n"
     ]
    },
    {
     "name": "stderr",
     "output_type": "stream",
     "text": [
      "100%|██████████| 77/77 [00:28<00:00,  2.69it/s]\n",
      "100%|██████████| 10/10 [00:03<00:00,  2.97it/s]\n"
     ]
    },
    {
     "name": "stdout",
     "output_type": "stream",
     "text": [
      "[iteration 0171] train loss: 7568.9561, val loss: 7322.0719\n"
     ]
    },
    {
     "name": "stderr",
     "output_type": "stream",
     "text": [
      "100%|██████████| 77/77 [00:28<00:00,  2.68it/s]\n",
      "100%|██████████| 10/10 [00:03<00:00,  2.97it/s]\n"
     ]
    },
    {
     "name": "stdout",
     "output_type": "stream",
     "text": [
      "[iteration 0172] train loss: 7483.1153, val loss: 7319.8094\n"
     ]
    },
    {
     "name": "stderr",
     "output_type": "stream",
     "text": [
      "100%|██████████| 77/77 [00:28<00:00,  2.69it/s]\n",
      "100%|██████████| 10/10 [00:03<00:00,  2.96it/s]\n"
     ]
    },
    {
     "name": "stdout",
     "output_type": "stream",
     "text": [
      "[iteration 0173] train loss: 7419.3175, val loss: 7188.1719\n"
     ]
    },
    {
     "name": "stderr",
     "output_type": "stream",
     "text": [
      "100%|██████████| 77/77 [00:28<00:00,  2.68it/s]\n",
      "100%|██████████| 10/10 [00:03<00:00,  3.00it/s]\n"
     ]
    },
    {
     "name": "stdout",
     "output_type": "stream",
     "text": [
      "[iteration 0174] train loss: 7415.5523, val loss: 7160.7656\n"
     ]
    },
    {
     "name": "stderr",
     "output_type": "stream",
     "text": [
      "100%|██████████| 77/77 [00:28<00:00,  2.68it/s]\n",
      "100%|██████████| 10/10 [00:03<00:00,  2.97it/s]\n"
     ]
    },
    {
     "name": "stdout",
     "output_type": "stream",
     "text": [
      "[iteration 0175] train loss: 7340.8717, val loss: 7132.8125\n"
     ]
    },
    {
     "name": "stderr",
     "output_type": "stream",
     "text": [
      "100%|██████████| 77/77 [00:28<00:00,  2.69it/s]\n",
      "100%|██████████| 10/10 [00:03<00:00,  2.96it/s]\n"
     ]
    },
    {
     "name": "stdout",
     "output_type": "stream",
     "text": [
      "[iteration 0176] train loss: 7298.3759, val loss: 7184.0437\n"
     ]
    },
    {
     "name": "stderr",
     "output_type": "stream",
     "text": [
      "100%|██████████| 77/77 [00:28<00:00,  2.70it/s]\n",
      "100%|██████████| 10/10 [00:03<00:00,  2.94it/s]\n"
     ]
    },
    {
     "name": "stdout",
     "output_type": "stream",
     "text": [
      "[iteration 0177] train loss: 7215.6062, val loss: 7050.5750\n"
     ]
    },
    {
     "name": "stderr",
     "output_type": "stream",
     "text": [
      "100%|██████████| 77/77 [00:28<00:00,  2.67it/s]\n",
      "100%|██████████| 10/10 [00:03<00:00,  2.99it/s]\n"
     ]
    },
    {
     "name": "stdout",
     "output_type": "stream",
     "text": [
      "[iteration 0178] train loss: 7189.8729, val loss: 6874.1500\n"
     ]
    },
    {
     "name": "stderr",
     "output_type": "stream",
     "text": [
      "100%|██████████| 77/77 [00:28<00:00,  2.69it/s]\n",
      "100%|██████████| 10/10 [00:03<00:00,  2.95it/s]\n"
     ]
    },
    {
     "name": "stdout",
     "output_type": "stream",
     "text": [
      "[iteration 0179] train loss: 7135.7497, val loss: 6982.6156\n"
     ]
    },
    {
     "name": "stderr",
     "output_type": "stream",
     "text": [
      "100%|██████████| 77/77 [00:28<00:00,  2.70it/s]\n",
      "100%|██████████| 10/10 [00:03<00:00,  3.00it/s]\n"
     ]
    },
    {
     "name": "stdout",
     "output_type": "stream",
     "text": [
      "[iteration 0180] train loss: 7077.8885, val loss: 6872.3344\n"
     ]
    },
    {
     "name": "stderr",
     "output_type": "stream",
     "text": [
      "100%|██████████| 77/77 [00:28<00:00,  2.70it/s]\n",
      "100%|██████████| 10/10 [00:03<00:00,  2.97it/s]\n"
     ]
    },
    {
     "name": "stdout",
     "output_type": "stream",
     "text": [
      "[iteration 0181] train loss: 7034.9539, val loss: 6837.7250\n"
     ]
    },
    {
     "name": "stderr",
     "output_type": "stream",
     "text": [
      "100%|██████████| 77/77 [00:28<00:00,  2.67it/s]\n",
      "100%|██████████| 10/10 [00:03<00:00,  2.92it/s]\n"
     ]
    },
    {
     "name": "stdout",
     "output_type": "stream",
     "text": [
      "[iteration 0182] train loss: 6973.9597, val loss: 6759.4469\n"
     ]
    },
    {
     "name": "stderr",
     "output_type": "stream",
     "text": [
      "100%|██████████| 77/77 [00:28<00:00,  2.68it/s]\n",
      "100%|██████████| 10/10 [00:03<00:00,  2.94it/s]\n"
     ]
    },
    {
     "name": "stdout",
     "output_type": "stream",
     "text": [
      "[iteration 0183] train loss: 6939.4475, val loss: 6762.5531\n"
     ]
    },
    {
     "name": "stderr",
     "output_type": "stream",
     "text": [
      "100%|██████████| 77/77 [00:28<00:00,  2.69it/s]\n",
      "100%|██████████| 10/10 [00:03<00:00,  2.99it/s]\n"
     ]
    },
    {
     "name": "stdout",
     "output_type": "stream",
     "text": [
      "[iteration 0184] train loss: 6921.8552, val loss: 6681.6219\n"
     ]
    },
    {
     "name": "stderr",
     "output_type": "stream",
     "text": [
      "100%|██████████| 77/77 [00:28<00:00,  2.70it/s]\n",
      "100%|██████████| 10/10 [00:03<00:00,  2.97it/s]\n"
     ]
    },
    {
     "name": "stdout",
     "output_type": "stream",
     "text": [
      "[iteration 0185] train loss: 6841.0118, val loss: 6615.5500\n"
     ]
    },
    {
     "name": "stderr",
     "output_type": "stream",
     "text": [
      "100%|██████████| 77/77 [00:28<00:00,  2.71it/s]\n",
      "100%|██████████| 10/10 [00:03<00:00,  2.95it/s]\n"
     ]
    },
    {
     "name": "stdout",
     "output_type": "stream",
     "text": [
      "[iteration 0186] train loss: 6806.3265, val loss: 6623.2281\n"
     ]
    },
    {
     "name": "stderr",
     "output_type": "stream",
     "text": [
      "100%|██████████| 77/77 [00:28<00:00,  2.70it/s]\n",
      "100%|██████████| 10/10 [00:03<00:00,  3.01it/s]\n"
     ]
    },
    {
     "name": "stdout",
     "output_type": "stream",
     "text": [
      "[iteration 0187] train loss: 6756.6864, val loss: 6611.0688\n"
     ]
    },
    {
     "name": "stderr",
     "output_type": "stream",
     "text": [
      "100%|██████████| 77/77 [00:28<00:00,  2.70it/s]\n",
      "100%|██████████| 10/10 [00:03<00:00,  2.93it/s]\n"
     ]
    },
    {
     "name": "stdout",
     "output_type": "stream",
     "text": [
      "[iteration 0188] train loss: 6691.4779, val loss: 6567.3344\n"
     ]
    },
    {
     "name": "stderr",
     "output_type": "stream",
     "text": [
      "100%|██████████| 77/77 [00:28<00:00,  2.71it/s]\n",
      "100%|██████████| 10/10 [00:03<00:00,  2.93it/s]\n"
     ]
    },
    {
     "name": "stdout",
     "output_type": "stream",
     "text": [
      "[iteration 0189] train loss: 6662.0311, val loss: 6485.3094\n"
     ]
    },
    {
     "name": "stderr",
     "output_type": "stream",
     "text": [
      "100%|██████████| 77/77 [00:28<00:00,  2.69it/s]\n",
      "100%|██████████| 10/10 [00:03<00:00,  2.93it/s]\n"
     ]
    },
    {
     "name": "stdout",
     "output_type": "stream",
     "text": [
      "[iteration 0190] train loss: 6650.4645, val loss: 6500.4062\n"
     ]
    },
    {
     "name": "stderr",
     "output_type": "stream",
     "text": [
      "100%|██████████| 77/77 [00:28<00:00,  2.69it/s]\n",
      "100%|██████████| 10/10 [00:03<00:00,  2.85it/s]\n"
     ]
    },
    {
     "name": "stdout",
     "output_type": "stream",
     "text": [
      "[iteration 0191] train loss: 6584.5860, val loss: 6344.1687\n"
     ]
    },
    {
     "name": "stderr",
     "output_type": "stream",
     "text": [
      "100%|██████████| 77/77 [00:28<00:00,  2.70it/s]\n",
      "100%|██████████| 10/10 [00:03<00:00,  2.81it/s]\n"
     ]
    },
    {
     "name": "stdout",
     "output_type": "stream",
     "text": [
      "[iteration 0192] train loss: 6517.9544, val loss: 6334.0594\n"
     ]
    },
    {
     "name": "stderr",
     "output_type": "stream",
     "text": [
      "100%|██████████| 77/77 [00:28<00:00,  2.70it/s]\n",
      "100%|██████████| 10/10 [00:03<00:00,  2.83it/s]\n"
     ]
    },
    {
     "name": "stdout",
     "output_type": "stream",
     "text": [
      "[iteration 0193] train loss: 6465.2989, val loss: 6326.1812\n"
     ]
    },
    {
     "name": "stderr",
     "output_type": "stream",
     "text": [
      "100%|██████████| 77/77 [00:28<00:00,  2.70it/s]\n",
      "100%|██████████| 10/10 [00:03<00:00,  2.82it/s]\n"
     ]
    },
    {
     "name": "stdout",
     "output_type": "stream",
     "text": [
      "[iteration 0194] train loss: 6466.1598, val loss: 6256.7375\n"
     ]
    },
    {
     "name": "stderr",
     "output_type": "stream",
     "text": [
      "100%|██████████| 77/77 [00:28<00:00,  2.71it/s]\n",
      "100%|██████████| 10/10 [00:03<00:00,  2.87it/s]\n"
     ]
    },
    {
     "name": "stdout",
     "output_type": "stream",
     "text": [
      "[iteration 0195] train loss: 6413.5955, val loss: 6135.8969\n"
     ]
    },
    {
     "name": "stderr",
     "output_type": "stream",
     "text": [
      "100%|██████████| 77/77 [00:28<00:00,  2.70it/s]\n",
      "100%|██████████| 10/10 [00:03<00:00,  2.80it/s]\n"
     ]
    },
    {
     "name": "stdout",
     "output_type": "stream",
     "text": [
      "[iteration 0196] train loss: 6376.8380, val loss: 6188.5219\n"
     ]
    },
    {
     "name": "stderr",
     "output_type": "stream",
     "text": [
      "100%|██████████| 77/77 [00:28<00:00,  2.69it/s]\n",
      "100%|██████████| 10/10 [00:03<00:00,  2.87it/s]\n"
     ]
    },
    {
     "name": "stdout",
     "output_type": "stream",
     "text": [
      "[iteration 0197] train loss: 6329.5923, val loss: 6165.2625\n"
     ]
    },
    {
     "name": "stderr",
     "output_type": "stream",
     "text": [
      "100%|██████████| 77/77 [00:28<00:00,  2.70it/s]\n",
      "100%|██████████| 10/10 [00:03<00:00,  2.77it/s]\n"
     ]
    },
    {
     "name": "stdout",
     "output_type": "stream",
     "text": [
      "[iteration 0198] train loss: 6336.0297, val loss: 6091.0938\n"
     ]
    },
    {
     "name": "stderr",
     "output_type": "stream",
     "text": [
      "100%|██████████| 77/77 [00:28<00:00,  2.69it/s]\n",
      "100%|██████████| 10/10 [00:03<00:00,  2.83it/s]\n"
     ]
    },
    {
     "name": "stdout",
     "output_type": "stream",
     "text": [
      "[iteration 0199] train loss: 6278.4759, val loss: 6219.4594\n"
     ]
    },
    {
     "name": "stderr",
     "output_type": "stream",
     "text": [
      "100%|██████████| 77/77 [00:28<00:00,  2.70it/s]\n",
      "100%|██████████| 10/10 [00:03<00:00,  2.96it/s]\n"
     ]
    },
    {
     "name": "stdout",
     "output_type": "stream",
     "text": [
      "[iteration 0200] train loss: 6256.3868, val loss: 6020.2969\n"
     ]
    },
    {
     "name": "stderr",
     "output_type": "stream",
     "text": [
      "100%|██████████| 77/77 [00:28<00:00,  2.68it/s]\n",
      "100%|██████████| 10/10 [00:03<00:00,  2.85it/s]\n"
     ]
    },
    {
     "name": "stdout",
     "output_type": "stream",
     "text": [
      "[iteration 0201] train loss: 6199.3370, val loss: 6007.6938\n"
     ]
    },
    {
     "name": "stderr",
     "output_type": "stream",
     "text": [
      "100%|██████████| 77/77 [00:28<00:00,  2.69it/s]\n",
      "100%|██████████| 10/10 [00:03<00:00,  2.80it/s]\n"
     ]
    },
    {
     "name": "stdout",
     "output_type": "stream",
     "text": [
      "[iteration 0202] train loss: 6160.9537, val loss: 5985.9750\n"
     ]
    },
    {
     "name": "stderr",
     "output_type": "stream",
     "text": [
      "100%|██████████| 77/77 [00:28<00:00,  2.68it/s]\n",
      "100%|██████████| 10/10 [00:03<00:00,  2.86it/s]\n"
     ]
    },
    {
     "name": "stdout",
     "output_type": "stream",
     "text": [
      "[iteration 0203] train loss: 6124.2845, val loss: 5946.8938\n"
     ]
    },
    {
     "name": "stderr",
     "output_type": "stream",
     "text": [
      "100%|██████████| 77/77 [00:28<00:00,  2.70it/s]\n",
      "100%|██████████| 10/10 [00:03<00:00,  2.89it/s]\n"
     ]
    },
    {
     "name": "stdout",
     "output_type": "stream",
     "text": [
      "[iteration 0204] train loss: 6074.6512, val loss: 5905.6875\n"
     ]
    },
    {
     "name": "stderr",
     "output_type": "stream",
     "text": [
      "100%|██████████| 77/77 [00:28<00:00,  2.70it/s]\n",
      "100%|██████████| 10/10 [00:03<00:00,  2.93it/s]\n"
     ]
    },
    {
     "name": "stdout",
     "output_type": "stream",
     "text": [
      "[iteration 0205] train loss: 6070.6610, val loss: 5838.4438\n"
     ]
    },
    {
     "name": "stderr",
     "output_type": "stream",
     "text": [
      "100%|██████████| 77/77 [00:28<00:00,  2.69it/s]\n",
      "100%|██████████| 10/10 [00:03<00:00,  2.90it/s]\n"
     ]
    },
    {
     "name": "stdout",
     "output_type": "stream",
     "text": [
      "[iteration 0206] train loss: 6025.7987, val loss: 5904.8687\n"
     ]
    },
    {
     "name": "stderr",
     "output_type": "stream",
     "text": [
      "100%|██████████| 77/77 [00:28<00:00,  2.67it/s]\n",
      "100%|██████████| 10/10 [00:03<00:00,  2.85it/s]\n"
     ]
    },
    {
     "name": "stdout",
     "output_type": "stream",
     "text": [
      "[iteration 0207] train loss: 5998.9061, val loss: 5757.1562\n"
     ]
    },
    {
     "name": "stderr",
     "output_type": "stream",
     "text": [
      "100%|██████████| 77/77 [00:28<00:00,  2.70it/s]\n",
      "100%|██████████| 10/10 [00:03<00:00,  2.89it/s]\n"
     ]
    },
    {
     "name": "stdout",
     "output_type": "stream",
     "text": [
      "[iteration 0208] train loss: 5964.6581, val loss: 5698.8500\n"
     ]
    },
    {
     "name": "stderr",
     "output_type": "stream",
     "text": [
      "100%|██████████| 77/77 [00:28<00:00,  2.71it/s]\n",
      "100%|██████████| 10/10 [00:03<00:00,  2.91it/s]\n"
     ]
    },
    {
     "name": "stdout",
     "output_type": "stream",
     "text": [
      "[iteration 0209] train loss: 5926.9164, val loss: 5763.2937\n"
     ]
    },
    {
     "name": "stderr",
     "output_type": "stream",
     "text": [
      "100%|██████████| 77/77 [00:28<00:00,  2.70it/s]\n",
      "100%|██████████| 10/10 [00:03<00:00,  2.97it/s]\n"
     ]
    },
    {
     "name": "stdout",
     "output_type": "stream",
     "text": [
      "[iteration 0210] train loss: 5877.0454, val loss: 5688.8438\n"
     ]
    },
    {
     "name": "stderr",
     "output_type": "stream",
     "text": [
      "100%|██████████| 77/77 [00:28<00:00,  2.67it/s]\n",
      "100%|██████████| 10/10 [00:03<00:00,  2.93it/s]\n"
     ]
    },
    {
     "name": "stdout",
     "output_type": "stream",
     "text": [
      "[iteration 0211] train loss: 5895.7823, val loss: 5680.9469\n"
     ]
    },
    {
     "name": "stderr",
     "output_type": "stream",
     "text": [
      "100%|██████████| 77/77 [00:28<00:00,  2.70it/s]\n",
      "100%|██████████| 10/10 [00:03<00:00,  2.91it/s]\n"
     ]
    },
    {
     "name": "stdout",
     "output_type": "stream",
     "text": [
      "[iteration 0212] train loss: 5845.6839, val loss: 5649.1031\n"
     ]
    },
    {
     "name": "stderr",
     "output_type": "stream",
     "text": [
      "100%|██████████| 77/77 [00:28<00:00,  2.68it/s]\n",
      "100%|██████████| 10/10 [00:03<00:00,  2.93it/s]\n"
     ]
    },
    {
     "name": "stdout",
     "output_type": "stream",
     "text": [
      "[iteration 0213] train loss: 5814.1273, val loss: 5609.2688\n"
     ]
    },
    {
     "name": "stderr",
     "output_type": "stream",
     "text": [
      "100%|██████████| 77/77 [00:28<00:00,  2.69it/s]\n",
      "100%|██████████| 10/10 [00:03<00:00,  2.97it/s]\n"
     ]
    },
    {
     "name": "stdout",
     "output_type": "stream",
     "text": [
      "[iteration 0214] train loss: 5764.0932, val loss: 5668.2437\n"
     ]
    },
    {
     "name": "stderr",
     "output_type": "stream",
     "text": [
      "100%|██████████| 77/77 [00:28<00:00,  2.68it/s]\n",
      "100%|██████████| 10/10 [00:03<00:00,  2.95it/s]\n"
     ]
    },
    {
     "name": "stdout",
     "output_type": "stream",
     "text": [
      "[iteration 0215] train loss: 5744.4606, val loss: 5644.6250\n"
     ]
    },
    {
     "name": "stderr",
     "output_type": "stream",
     "text": [
      "100%|██████████| 77/77 [00:28<00:00,  2.69it/s]\n",
      "100%|██████████| 10/10 [00:03<00:00,  2.93it/s]\n"
     ]
    },
    {
     "name": "stdout",
     "output_type": "stream",
     "text": [
      "[iteration 0216] train loss: 5719.2409, val loss: 5543.9781\n"
     ]
    },
    {
     "name": "stderr",
     "output_type": "stream",
     "text": [
      "100%|██████████| 77/77 [00:28<00:00,  2.69it/s]\n",
      "100%|██████████| 10/10 [00:03<00:00,  2.97it/s]\n"
     ]
    },
    {
     "name": "stdout",
     "output_type": "stream",
     "text": [
      "[iteration 0217] train loss: 5701.8268, val loss: 5513.1344\n"
     ]
    },
    {
     "name": "stderr",
     "output_type": "stream",
     "text": [
      "100%|██████████| 77/77 [00:28<00:00,  2.70it/s]\n",
      "100%|██████████| 10/10 [00:03<00:00,  2.95it/s]\n"
     ]
    },
    {
     "name": "stdout",
     "output_type": "stream",
     "text": [
      "[iteration 0218] train loss: 5654.1849, val loss: 5569.1500\n"
     ]
    },
    {
     "name": "stderr",
     "output_type": "stream",
     "text": [
      "100%|██████████| 77/77 [00:28<00:00,  2.67it/s]\n",
      "100%|██████████| 10/10 [00:03<00:00,  2.95it/s]\n"
     ]
    },
    {
     "name": "stdout",
     "output_type": "stream",
     "text": [
      "[iteration 0219] train loss: 5638.5289, val loss: 5492.5938\n"
     ]
    },
    {
     "name": "stderr",
     "output_type": "stream",
     "text": [
      "100%|██████████| 77/77 [00:28<00:00,  2.67it/s]\n",
      "100%|██████████| 10/10 [00:03<00:00,  2.93it/s]\n"
     ]
    },
    {
     "name": "stdout",
     "output_type": "stream",
     "text": [
      "[iteration 0220] train loss: 5589.1045, val loss: 5347.8594\n"
     ]
    },
    {
     "name": "stderr",
     "output_type": "stream",
     "text": [
      "100%|██████████| 77/77 [00:28<00:00,  2.67it/s]\n",
      "100%|██████████| 10/10 [00:03<00:00,  2.95it/s]\n"
     ]
    },
    {
     "name": "stdout",
     "output_type": "stream",
     "text": [
      "[iteration 0221] train loss: 5608.7059, val loss: 5325.6281\n"
     ]
    },
    {
     "name": "stderr",
     "output_type": "stream",
     "text": [
      "100%|██████████| 77/77 [00:28<00:00,  2.67it/s]\n",
      "100%|██████████| 10/10 [00:03<00:00,  2.95it/s]\n"
     ]
    },
    {
     "name": "stdout",
     "output_type": "stream",
     "text": [
      "[iteration 0222] train loss: 5609.0595, val loss: 5399.4125\n"
     ]
    },
    {
     "name": "stderr",
     "output_type": "stream",
     "text": [
      "100%|██████████| 77/77 [00:28<00:00,  2.68it/s]\n",
      "100%|██████████| 10/10 [00:03<00:00,  2.97it/s]\n"
     ]
    },
    {
     "name": "stdout",
     "output_type": "stream",
     "text": [
      "[iteration 0223] train loss: 5535.7984, val loss: 5335.0531\n"
     ]
    },
    {
     "name": "stderr",
     "output_type": "stream",
     "text": [
      "100%|██████████| 77/77 [00:28<00:00,  2.69it/s]\n",
      "100%|██████████| 10/10 [00:03<00:00,  2.98it/s]\n"
     ]
    },
    {
     "name": "stdout",
     "output_type": "stream",
     "text": [
      "[iteration 0224] train loss: 5526.4922, val loss: 5281.4062\n"
     ]
    },
    {
     "name": "stderr",
     "output_type": "stream",
     "text": [
      "100%|██████████| 77/77 [00:28<00:00,  2.68it/s]\n",
      "100%|██████████| 10/10 [00:03<00:00,  2.91it/s]\n"
     ]
    },
    {
     "name": "stdout",
     "output_type": "stream",
     "text": [
      "[iteration 0225] train loss: 5502.6100, val loss: 5329.0000\n"
     ]
    },
    {
     "name": "stderr",
     "output_type": "stream",
     "text": [
      "100%|██████████| 77/77 [00:28<00:00,  2.69it/s]\n",
      "100%|██████████| 10/10 [00:03<00:00,  2.92it/s]\n"
     ]
    },
    {
     "name": "stdout",
     "output_type": "stream",
     "text": [
      "[iteration 0226] train loss: 5461.8583, val loss: 5236.0406\n"
     ]
    },
    {
     "name": "stderr",
     "output_type": "stream",
     "text": [
      "100%|██████████| 77/77 [00:28<00:00,  2.68it/s]\n",
      "100%|██████████| 10/10 [00:03<00:00,  2.97it/s]\n"
     ]
    },
    {
     "name": "stdout",
     "output_type": "stream",
     "text": [
      "[iteration 0227] train loss: 5416.8929, val loss: 5264.9781\n"
     ]
    },
    {
     "name": "stderr",
     "output_type": "stream",
     "text": [
      "100%|██████████| 77/77 [00:28<00:00,  2.66it/s]\n",
      "100%|██████████| 10/10 [00:03<00:00,  2.95it/s]\n"
     ]
    },
    {
     "name": "stdout",
     "output_type": "stream",
     "text": [
      "[iteration 0228] train loss: 5391.8476, val loss: 5203.8062\n"
     ]
    },
    {
     "name": "stderr",
     "output_type": "stream",
     "text": [
      "100%|██████████| 77/77 [00:28<00:00,  2.69it/s]\n",
      "100%|██████████| 10/10 [00:03<00:00,  3.00it/s]\n"
     ]
    },
    {
     "name": "stdout",
     "output_type": "stream",
     "text": [
      "[iteration 0229] train loss: 5387.9474, val loss: 5203.9937\n"
     ]
    },
    {
     "name": "stderr",
     "output_type": "stream",
     "text": [
      "100%|██████████| 77/77 [00:28<00:00,  2.69it/s]\n",
      "100%|██████████| 10/10 [00:03<00:00,  2.98it/s]\n"
     ]
    },
    {
     "name": "stdout",
     "output_type": "stream",
     "text": [
      "[iteration 0230] train loss: 5367.5503, val loss: 5137.6875\n"
     ]
    },
    {
     "name": "stderr",
     "output_type": "stream",
     "text": [
      "100%|██████████| 77/77 [00:28<00:00,  2.69it/s]\n",
      "100%|██████████| 10/10 [00:03<00:00,  2.95it/s]\n"
     ]
    },
    {
     "name": "stdout",
     "output_type": "stream",
     "text": [
      "[iteration 0231] train loss: 5362.6857, val loss: 5120.2250\n"
     ]
    },
    {
     "name": "stderr",
     "output_type": "stream",
     "text": [
      "100%|██████████| 77/77 [00:28<00:00,  2.70it/s]\n",
      "100%|██████████| 10/10 [00:03<00:00,  3.00it/s]\n"
     ]
    },
    {
     "name": "stdout",
     "output_type": "stream",
     "text": [
      "[iteration 0232] train loss: 5317.3770, val loss: 5184.0344\n"
     ]
    },
    {
     "name": "stderr",
     "output_type": "stream",
     "text": [
      "100%|██████████| 77/77 [00:28<00:00,  2.74it/s]\n",
      "100%|██████████| 10/10 [00:03<00:00,  2.97it/s]\n"
     ]
    },
    {
     "name": "stdout",
     "output_type": "stream",
     "text": [
      "[iteration 0233] train loss: 5262.7786, val loss: 5073.5000\n"
     ]
    },
    {
     "name": "stderr",
     "output_type": "stream",
     "text": [
      "100%|██████████| 77/77 [00:28<00:00,  2.73it/s]\n",
      "100%|██████████| 10/10 [00:03<00:00,  3.01it/s]\n"
     ]
    },
    {
     "name": "stdout",
     "output_type": "stream",
     "text": [
      "[iteration 0234] train loss: 5281.6535, val loss: 5056.7406\n"
     ]
    },
    {
     "name": "stderr",
     "output_type": "stream",
     "text": [
      "100%|██████████| 77/77 [00:28<00:00,  2.72it/s]\n",
      "100%|██████████| 10/10 [00:03<00:00,  2.98it/s]\n"
     ]
    },
    {
     "name": "stdout",
     "output_type": "stream",
     "text": [
      "[iteration 0235] train loss: 5267.3885, val loss: 5094.7531\n"
     ]
    },
    {
     "name": "stderr",
     "output_type": "stream",
     "text": [
      "100%|██████████| 77/77 [00:28<00:00,  2.73it/s]\n",
      "100%|██████████| 10/10 [00:03<00:00,  3.03it/s]\n"
     ]
    },
    {
     "name": "stdout",
     "output_type": "stream",
     "text": [
      "[iteration 0236] train loss: 5245.9326, val loss: 5132.3313\n"
     ]
    },
    {
     "name": "stderr",
     "output_type": "stream",
     "text": [
      "100%|██████████| 77/77 [00:28<00:00,  2.71it/s]\n",
      "100%|██████████| 10/10 [00:03<00:00,  2.92it/s]\n"
     ]
    },
    {
     "name": "stdout",
     "output_type": "stream",
     "text": [
      "[iteration 0237] train loss: 5211.3217, val loss: 4944.4438\n"
     ]
    },
    {
     "name": "stderr",
     "output_type": "stream",
     "text": [
      "100%|██████████| 77/77 [00:28<00:00,  2.70it/s]\n",
      "100%|██████████| 10/10 [00:03<00:00,  2.97it/s]\n"
     ]
    },
    {
     "name": "stdout",
     "output_type": "stream",
     "text": [
      "[iteration 0238] train loss: 5180.8852, val loss: 5026.2344\n"
     ]
    },
    {
     "name": "stderr",
     "output_type": "stream",
     "text": [
      "100%|██████████| 77/77 [00:28<00:00,  2.67it/s]\n",
      "100%|██████████| 10/10 [00:03<00:00,  2.90it/s]\n"
     ]
    },
    {
     "name": "stdout",
     "output_type": "stream",
     "text": [
      "[iteration 0239] train loss: 5173.1699, val loss: 4981.9344\n"
     ]
    },
    {
     "name": "stderr",
     "output_type": "stream",
     "text": [
      "100%|██████████| 77/77 [00:29<00:00,  2.65it/s]\n",
      "100%|██████████| 10/10 [00:03<00:00,  2.95it/s]\n"
     ]
    },
    {
     "name": "stdout",
     "output_type": "stream",
     "text": [
      "[iteration 0240] train loss: 5168.6989, val loss: 4977.9563\n"
     ]
    },
    {
     "name": "stderr",
     "output_type": "stream",
     "text": [
      "100%|██████████| 77/77 [00:28<00:00,  2.67it/s]\n",
      "100%|██████████| 10/10 [00:03<00:00,  2.91it/s]\n"
     ]
    },
    {
     "name": "stdout",
     "output_type": "stream",
     "text": [
      "[iteration 0241] train loss: 5152.0123, val loss: 5073.2375\n"
     ]
    },
    {
     "name": "stderr",
     "output_type": "stream",
     "text": [
      "100%|██████████| 77/77 [00:28<00:00,  2.66it/s]\n",
      "100%|██████████| 10/10 [00:03<00:00,  2.92it/s]\n"
     ]
    },
    {
     "name": "stdout",
     "output_type": "stream",
     "text": [
      "[iteration 0242] train loss: 5124.1536, val loss: 4947.5969\n"
     ]
    },
    {
     "name": "stderr",
     "output_type": "stream",
     "text": [
      "100%|██████████| 77/77 [00:29<00:00,  2.65it/s]\n",
      "100%|██████████| 10/10 [00:03<00:00,  2.94it/s]\n"
     ]
    },
    {
     "name": "stdout",
     "output_type": "stream",
     "text": [
      "[iteration 0243] train loss: 5061.0949, val loss: 4858.4875\n"
     ]
    },
    {
     "name": "stderr",
     "output_type": "stream",
     "text": [
      "100%|██████████| 77/77 [00:28<00:00,  2.69it/s]\n",
      "100%|██████████| 10/10 [00:03<00:00,  2.96it/s]\n"
     ]
    },
    {
     "name": "stdout",
     "output_type": "stream",
     "text": [
      "[iteration 0244] train loss: 5097.6065, val loss: 4829.1094\n"
     ]
    },
    {
     "name": "stderr",
     "output_type": "stream",
     "text": [
      "100%|██████████| 77/77 [00:28<00:00,  2.69it/s]\n",
      "100%|██████████| 10/10 [00:03<00:00,  2.96it/s]\n"
     ]
    },
    {
     "name": "stdout",
     "output_type": "stream",
     "text": [
      "[iteration 0245] train loss: 5059.4486, val loss: 4862.9781\n"
     ]
    },
    {
     "name": "stderr",
     "output_type": "stream",
     "text": [
      "100%|██████████| 77/77 [00:28<00:00,  2.70it/s]\n",
      "100%|██████████| 10/10 [00:03<00:00,  2.94it/s]\n"
     ]
    },
    {
     "name": "stdout",
     "output_type": "stream",
     "text": [
      "[iteration 0246] train loss: 5050.7375, val loss: 4829.2344\n"
     ]
    },
    {
     "name": "stderr",
     "output_type": "stream",
     "text": [
      "100%|██████████| 77/77 [00:28<00:00,  2.70it/s]\n",
      "100%|██████████| 10/10 [00:03<00:00,  2.96it/s]\n"
     ]
    },
    {
     "name": "stdout",
     "output_type": "stream",
     "text": [
      "[iteration 0247] train loss: 4994.2783, val loss: 4854.9031\n"
     ]
    },
    {
     "name": "stderr",
     "output_type": "stream",
     "text": [
      "100%|██████████| 77/77 [00:28<00:00,  2.70it/s]\n",
      "100%|██████████| 10/10 [00:03<00:00,  2.93it/s]\n"
     ]
    },
    {
     "name": "stdout",
     "output_type": "stream",
     "text": [
      "[iteration 0248] train loss: 4994.4368, val loss: 4751.5906\n"
     ]
    },
    {
     "name": "stderr",
     "output_type": "stream",
     "text": [
      "100%|██████████| 77/77 [00:28<00:00,  2.67it/s]\n",
      "100%|██████████| 10/10 [00:03<00:00,  2.95it/s]\n"
     ]
    },
    {
     "name": "stdout",
     "output_type": "stream",
     "text": [
      "[iteration 0249] train loss: 4991.7408, val loss: 4813.7469\n"
     ]
    },
    {
     "name": "stderr",
     "output_type": "stream",
     "text": [
      "  4%|▍         | 3/77 [00:01<00:30,  2.39it/s]\n"
     ]
    },
    {
     "ename": "KeyboardInterrupt",
     "evalue": "",
     "output_type": "error",
     "traceback": [
      "\u001b[0;31m---------------------------------------------------------------------------\u001b[0m",
      "\u001b[0;31mKeyboardInterrupt\u001b[0m                         Traceback (most recent call last)",
      "Cell \u001b[0;32mIn[12], line 30\u001b[0m\n\u001b[1;32m     28\u001b[0m \u001b[38;5;28;01mfor\u001b[39;00m step \u001b[38;5;129;01min\u001b[39;00m \u001b[38;5;28mrange\u001b[39m(\u001b[38;5;241m500\u001b[39m):\n\u001b[1;32m     29\u001b[0m     loss \u001b[38;5;241m=\u001b[39m \u001b[38;5;241m0\u001b[39m\n\u001b[0;32m---> 30\u001b[0m     \u001b[38;5;28;01mfor\u001b[39;00m x, y \u001b[38;5;129;01min\u001b[39;00m tqdm(dataloaders[\u001b[38;5;124m'\u001b[39m\u001b[38;5;124mtrain\u001b[39m\u001b[38;5;124m'\u001b[39m]):\n\u001b[1;32m     31\u001b[0m         x \u001b[38;5;241m=\u001b[39m x\u001b[38;5;241m.\u001b[39mto(device)\n\u001b[1;32m     32\u001b[0m         y \u001b[38;5;241m=\u001b[39m y\u001b[38;5;241m.\u001b[39mto(device)\n",
      "File \u001b[0;32m/opt/conda/lib/python3.10/site-packages/tqdm/std.py:1181\u001b[0m, in \u001b[0;36mtqdm.__iter__\u001b[0;34m(self)\u001b[0m\n\u001b[1;32m   1178\u001b[0m time \u001b[38;5;241m=\u001b[39m \u001b[38;5;28mself\u001b[39m\u001b[38;5;241m.\u001b[39m_time\n\u001b[1;32m   1180\u001b[0m \u001b[38;5;28;01mtry\u001b[39;00m:\n\u001b[0;32m-> 1181\u001b[0m     \u001b[38;5;28;01mfor\u001b[39;00m obj \u001b[38;5;129;01min\u001b[39;00m iterable:\n\u001b[1;32m   1182\u001b[0m         \u001b[38;5;28;01myield\u001b[39;00m obj\n\u001b[1;32m   1183\u001b[0m         \u001b[38;5;66;03m# Update and possibly print the progressbar.\u001b[39;00m\n\u001b[1;32m   1184\u001b[0m         \u001b[38;5;66;03m# Note: does not call self.update(1) for speed optimisation.\u001b[39;00m\n",
      "File \u001b[0;32m/opt/conda/lib/python3.10/site-packages/torch/utils/data/dataloader.py:630\u001b[0m, in \u001b[0;36m_BaseDataLoaderIter.__next__\u001b[0;34m(self)\u001b[0m\n\u001b[1;32m    627\u001b[0m \u001b[38;5;28;01mif\u001b[39;00m \u001b[38;5;28mself\u001b[39m\u001b[38;5;241m.\u001b[39m_sampler_iter \u001b[38;5;129;01mis\u001b[39;00m \u001b[38;5;28;01mNone\u001b[39;00m:\n\u001b[1;32m    628\u001b[0m     \u001b[38;5;66;03m# TODO(https://github.com/pytorch/pytorch/issues/76750)\u001b[39;00m\n\u001b[1;32m    629\u001b[0m     \u001b[38;5;28mself\u001b[39m\u001b[38;5;241m.\u001b[39m_reset()  \u001b[38;5;66;03m# type: ignore[call-arg]\u001b[39;00m\n\u001b[0;32m--> 630\u001b[0m data \u001b[38;5;241m=\u001b[39m \u001b[38;5;28;43mself\u001b[39;49m\u001b[38;5;241;43m.\u001b[39;49m\u001b[43m_next_data\u001b[49m\u001b[43m(\u001b[49m\u001b[43m)\u001b[49m\n\u001b[1;32m    631\u001b[0m \u001b[38;5;28mself\u001b[39m\u001b[38;5;241m.\u001b[39m_num_yielded \u001b[38;5;241m+\u001b[39m\u001b[38;5;241m=\u001b[39m \u001b[38;5;241m1\u001b[39m\n\u001b[1;32m    632\u001b[0m \u001b[38;5;28;01mif\u001b[39;00m \u001b[38;5;28mself\u001b[39m\u001b[38;5;241m.\u001b[39m_dataset_kind \u001b[38;5;241m==\u001b[39m _DatasetKind\u001b[38;5;241m.\u001b[39mIterable \u001b[38;5;129;01mand\u001b[39;00m \\\n\u001b[1;32m    633\u001b[0m         \u001b[38;5;28mself\u001b[39m\u001b[38;5;241m.\u001b[39m_IterableDataset_len_called \u001b[38;5;129;01mis\u001b[39;00m \u001b[38;5;129;01mnot\u001b[39;00m \u001b[38;5;28;01mNone\u001b[39;00m \u001b[38;5;129;01mand\u001b[39;00m \\\n\u001b[1;32m    634\u001b[0m         \u001b[38;5;28mself\u001b[39m\u001b[38;5;241m.\u001b[39m_num_yielded \u001b[38;5;241m>\u001b[39m \u001b[38;5;28mself\u001b[39m\u001b[38;5;241m.\u001b[39m_IterableDataset_len_called:\n",
      "File \u001b[0;32m/opt/conda/lib/python3.10/site-packages/torch/utils/data/dataloader.py:673\u001b[0m, in \u001b[0;36m_SingleProcessDataLoaderIter._next_data\u001b[0;34m(self)\u001b[0m\n\u001b[1;32m    671\u001b[0m \u001b[38;5;28;01mdef\u001b[39;00m \u001b[38;5;21m_next_data\u001b[39m(\u001b[38;5;28mself\u001b[39m):\n\u001b[1;32m    672\u001b[0m     index \u001b[38;5;241m=\u001b[39m \u001b[38;5;28mself\u001b[39m\u001b[38;5;241m.\u001b[39m_next_index()  \u001b[38;5;66;03m# may raise StopIteration\u001b[39;00m\n\u001b[0;32m--> 673\u001b[0m     data \u001b[38;5;241m=\u001b[39m \u001b[38;5;28;43mself\u001b[39;49m\u001b[38;5;241;43m.\u001b[39;49m\u001b[43m_dataset_fetcher\u001b[49m\u001b[38;5;241;43m.\u001b[39;49m\u001b[43mfetch\u001b[49m\u001b[43m(\u001b[49m\u001b[43mindex\u001b[49m\u001b[43m)\u001b[49m  \u001b[38;5;66;03m# may raise StopIteration\u001b[39;00m\n\u001b[1;32m    674\u001b[0m     \u001b[38;5;28;01mif\u001b[39;00m \u001b[38;5;28mself\u001b[39m\u001b[38;5;241m.\u001b[39m_pin_memory:\n\u001b[1;32m    675\u001b[0m         data \u001b[38;5;241m=\u001b[39m _utils\u001b[38;5;241m.\u001b[39mpin_memory\u001b[38;5;241m.\u001b[39mpin_memory(data, \u001b[38;5;28mself\u001b[39m\u001b[38;5;241m.\u001b[39m_pin_memory_device)\n",
      "File \u001b[0;32m/opt/conda/lib/python3.10/site-packages/torch/utils/data/_utils/fetch.py:52\u001b[0m, in \u001b[0;36m_MapDatasetFetcher.fetch\u001b[0;34m(self, possibly_batched_index)\u001b[0m\n\u001b[1;32m     50\u001b[0m         data \u001b[38;5;241m=\u001b[39m \u001b[38;5;28mself\u001b[39m\u001b[38;5;241m.\u001b[39mdataset\u001b[38;5;241m.\u001b[39m__getitems__(possibly_batched_index)\n\u001b[1;32m     51\u001b[0m     \u001b[38;5;28;01melse\u001b[39;00m:\n\u001b[0;32m---> 52\u001b[0m         data \u001b[38;5;241m=\u001b[39m [\u001b[38;5;28mself\u001b[39m\u001b[38;5;241m.\u001b[39mdataset[idx] \u001b[38;5;28;01mfor\u001b[39;00m idx \u001b[38;5;129;01min\u001b[39;00m possibly_batched_index]\n\u001b[1;32m     53\u001b[0m \u001b[38;5;28;01melse\u001b[39;00m:\n\u001b[1;32m     54\u001b[0m     data \u001b[38;5;241m=\u001b[39m \u001b[38;5;28mself\u001b[39m\u001b[38;5;241m.\u001b[39mdataset[possibly_batched_index]\n",
      "File \u001b[0;32m/opt/conda/lib/python3.10/site-packages/torch/utils/data/_utils/fetch.py:52\u001b[0m, in \u001b[0;36m<listcomp>\u001b[0;34m(.0)\u001b[0m\n\u001b[1;32m     50\u001b[0m         data \u001b[38;5;241m=\u001b[39m \u001b[38;5;28mself\u001b[39m\u001b[38;5;241m.\u001b[39mdataset\u001b[38;5;241m.\u001b[39m__getitems__(possibly_batched_index)\n\u001b[1;32m     51\u001b[0m     \u001b[38;5;28;01melse\u001b[39;00m:\n\u001b[0;32m---> 52\u001b[0m         data \u001b[38;5;241m=\u001b[39m [\u001b[38;5;28;43mself\u001b[39;49m\u001b[38;5;241;43m.\u001b[39;49m\u001b[43mdataset\u001b[49m\u001b[43m[\u001b[49m\u001b[43midx\u001b[49m\u001b[43m]\u001b[49m \u001b[38;5;28;01mfor\u001b[39;00m idx \u001b[38;5;129;01min\u001b[39;00m possibly_batched_index]\n\u001b[1;32m     53\u001b[0m \u001b[38;5;28;01melse\u001b[39;00m:\n\u001b[1;32m     54\u001b[0m     data \u001b[38;5;241m=\u001b[39m \u001b[38;5;28mself\u001b[39m\u001b[38;5;241m.\u001b[39mdataset[possibly_batched_index]\n",
      "Cell \u001b[0;32mIn[4], line 26\u001b[0m, in \u001b[0;36mTumorDataset.__getitem__\u001b[0;34m(self, idx)\u001b[0m\n\u001b[1;32m     24\u001b[0m img_path \u001b[38;5;241m=\u001b[39m os\u001b[38;5;241m.\u001b[39mpath\u001b[38;5;241m.\u001b[39mjoin(\u001b[38;5;28mself\u001b[39m\u001b[38;5;241m.\u001b[39mimg_dir, \u001b[38;5;28mself\u001b[39m\u001b[38;5;241m.\u001b[39mimg_files[idx])\n\u001b[1;32m     25\u001b[0m mask_path \u001b[38;5;241m=\u001b[39m os\u001b[38;5;241m.\u001b[39mpath\u001b[38;5;241m.\u001b[39mjoin(\u001b[38;5;28mself\u001b[39m\u001b[38;5;241m.\u001b[39mmask_dir, \u001b[38;5;28mself\u001b[39m\u001b[38;5;241m.\u001b[39mimg_files[idx]\u001b[38;5;241m.\u001b[39mreplace(\u001b[38;5;124m\"\u001b[39m\u001b[38;5;124m.jpg\u001b[39m\u001b[38;5;124m\"\u001b[39m, \u001b[38;5;124m\"\u001b[39m\u001b[38;5;124m.png\u001b[39m\u001b[38;5;124m\"\u001b[39m))\n\u001b[0;32m---> 26\u001b[0m img \u001b[38;5;241m=\u001b[39m \u001b[43mcv2\u001b[49m\u001b[38;5;241;43m.\u001b[39;49m\u001b[43mimread\u001b[49m\u001b[43m(\u001b[49m\u001b[43mimg_path\u001b[49m\u001b[43m)\u001b[49m\n\u001b[1;32m     27\u001b[0m mask \u001b[38;5;241m=\u001b[39m cv2\u001b[38;5;241m.\u001b[39mimread(mask_path)\n\u001b[1;32m     28\u001b[0m mask \u001b[38;5;241m=\u001b[39m cv2\u001b[38;5;241m.\u001b[39mcvtColor(mask, cv2\u001b[38;5;241m.\u001b[39mCOLOR_BGR2GRAY)\n",
      "\u001b[0;31mKeyboardInterrupt\u001b[0m: "
     ]
    }
   ],
   "source": [
    "from pyro.infer import SVI, Trace_ELBO\n",
    "from pyro.infer.autoguide import AutoDiagonalNormal\n",
    "from pyro.optim import Adam\n",
    "\n",
    "pyro.clear_param_store()\n",
    "pyro.set_rng_seed(1)\n",
    "device = \"cuda:0\" if torch.cuda.is_available() else \"cpu\"\n",
    "\n",
    "optimizer = Adam({\"lr\": 0.001})\n",
    "bmodel = Unet(bayesian=True).to(device)\n",
    "guide = AutoDiagonalNormal(bmodel).to(device) # аппроксимация стандартным распределением\n",
    "elbo = Trace_ELBO() # оптимизация ELBO\n",
    "svi = SVI(bmodel, guide, optimizer, loss=elbo) # вариационный вывод\n",
    "train_losses = []\n",
    "val_losses = []\n",
    "\n",
    "# Early stopping parameters\n",
    "patience = 10\n",
    "tolerance = 100\n",
    "best_val_loss = float(\"inf\")\n",
    "no_improvement_count = 0\n",
    "\n",
    "for step in range(500):\n",
    "    loss = 0\n",
    "    for x, y in tqdm(dataloaders[\"train\"]):\n",
    "        x = x.to(device)\n",
    "        y = y.to(device)\n",
    "        loss += svi.step(x, y)\n",
    "    train_losses.append(loss / (BATCH_SIZE * len(dataloaders[\"train\"])))\n",
    "\n",
    "    with torch.no_grad():\n",
    "        loss = 0\n",
    "        for x, y in tqdm(dataloaders[\"val\"]):\n",
    "            x = x.to(device)\n",
    "            y = y.to(device)\n",
    "            loss += svi.evaluate_loss(x, y)\n",
    "        val_losses.append(loss / (BATCH_SIZE * len(dataloaders[\"val\"])))\n",
    "\n",
    "    print(\n",
    "        \"[iteration %04d] train loss: %.4f, val loss: %.4f\"\n",
    "        % (step + 1, train_losses[-1], val_losses[-1])\n",
    "    )\n",
    "\n",
    "    # Check for improvement\n",
    "    if val_losses[-1] < best_val_loss - tolerance:\n",
    "        best_val_loss = val_losses[-1]\n",
    "        no_improvement_count = 0\n",
    "    else:\n",
    "        no_improvement_count += 1\n",
    "\n",
    "    # Early stopping condition\n",
    "    if no_improvement_count >= patience:\n",
    "        print(\"Early stopping triggered at iteration %04d\" % (step + 1))\n",
    "        break"
   ]
  },
  {
   "cell_type": "code",
   "execution_count": 19,
   "metadata": {
    "execution": {
     "iopub.execute_input": "2024-12-11T16:45:32.931357Z",
     "iopub.status.busy": "2024-12-11T16:45:32.930410Z",
     "iopub.status.idle": "2024-12-11T16:45:32.942421Z",
     "shell.execute_reply": "2024-12-11T16:45:32.941616Z",
     "shell.execute_reply.started": "2024-12-11T16:45:32.931322Z"
    },
    "trusted": true
   },
   "outputs": [],
   "source": [
    "torch.save(bmodel.state_dict(), \"model.pt\")"
   ]
  },
  {
   "cell_type": "code",
   "execution_count": 20,
   "metadata": {
    "execution": {
     "iopub.execute_input": "2024-12-11T16:45:47.094545Z",
     "iopub.status.busy": "2024-12-11T16:45:47.094190Z",
     "iopub.status.idle": "2024-12-11T16:45:47.292425Z",
     "shell.execute_reply": "2024-12-11T16:45:47.291494Z",
     "shell.execute_reply.started": "2024-12-11T16:45:47.094516Z"
    },
    "trusted": true
   },
   "outputs": [],
   "source": [
    "torch.save(guide, \"guide.pt\")"
   ]
  },
  {
   "cell_type": "code",
   "execution_count": 15,
   "metadata": {
    "execution": {
     "iopub.execute_input": "2024-12-11T16:44:53.623553Z",
     "iopub.status.busy": "2024-12-11T16:44:53.623190Z",
     "iopub.status.idle": "2024-12-11T16:44:53.629147Z",
     "shell.execute_reply": "2024-12-11T16:44:53.628071Z",
     "shell.execute_reply.started": "2024-12-11T16:44:53.623520Z"
    },
    "trusted": true
   },
   "outputs": [],
   "source": [
    "import pickle\n",
    "\n",
    "with open(\"train.pkl\", \"wb\") as f:\n",
    "    pickle.dump(train_losses, f)\n",
    "with open(\"val.pkl\", \"wb\") as f:\n",
    "    pickle.dump(val_losses, f)"
   ]
  },
  {
   "cell_type": "code",
   "execution_count": 14,
   "metadata": {
    "execution": {
     "iopub.execute_input": "2024-12-11T16:44:45.933850Z",
     "iopub.status.busy": "2024-12-11T16:44:45.933513Z",
     "iopub.status.idle": "2024-12-11T16:44:45.939974Z",
     "shell.execute_reply": "2024-12-11T16:44:45.938980Z",
     "shell.execute_reply.started": "2024-12-11T16:44:45.933820Z"
    },
    "trusted": true
   },
   "outputs": [
    {
     "data": {
      "text/plain": [
       "249"
      ]
     },
     "execution_count": 14,
     "metadata": {},
     "output_type": "execute_result"
    }
   ],
   "source": [
    "len(val_losses)"
   ]
  },
  {
   "cell_type": "code",
   "execution_count": 13,
   "metadata": {
    "execution": {
     "iopub.execute_input": "2024-12-11T16:44:36.635332Z",
     "iopub.status.busy": "2024-12-11T16:44:36.634969Z",
     "iopub.status.idle": "2024-12-11T16:44:37.035401Z",
     "shell.execute_reply": "2024-12-11T16:44:37.034496Z",
     "shell.execute_reply.started": "2024-12-11T16:44:36.635301Z"
    },
    "trusted": true
   },
   "outputs": [
    {
     "data": {
      "image/png": "[encoded data removed]",
      "text/plain": [
       "<Figure size 1200x700 with 1 Axes>"
      ]
     },
     "metadata": {},
     "output_type": "display_data"
    }
   ],
   "source": [
    "plt.figure(figsize=(12, 7))\n",
    "plt.plot(train_losses)\n",
    "plt.plot(val_losses)\n",
    "plt.yscale(\"log\")\n",
    "plt.xlabel(\"SVI step\")\n",
    "plt.ylabel(\"ELBO loss\");"
   ]
  },
  {
   "cell_type": "code",
   "execution_count": null,
   "metadata": {
    "trusted": true
   },
   "outputs": [],
   "source": []
  },
  {
   "cell_type": "code",
   "execution_count": 22,
   "metadata": {
    "collapsed": true,
    "execution": {
     "iopub.execute_input": "2024-12-08T17:41:21.892576Z",
     "iopub.status.busy": "2024-12-08T17:41:21.891723Z",
     "iopub.status.idle": "2024-12-08T19:51:58.852072Z",
     "shell.execute_reply": "2024-12-08T19:51:58.851203Z",
     "shell.execute_reply.started": "2024-12-08T17:41:21.892541Z"
    },
    "jupyter": {
     "outputs_hidden": true
    },
    "trusted": true
   },
   "outputs": [
    {
     "name": "stderr",
     "output_type": "stream",
     "text": [
      "100%|██████████| 307/307 [00:40<00:00,  7.49it/s]\n",
      "100%|██████████| 307/307 [00:34<00:00,  8.85it/s]\n",
      "100%|██████████| 39/39 [00:04<00:00,  8.64it/s]\n"
     ]
    },
    {
     "name": "stdout",
     "output_type": "stream",
     "text": [
      "[iteration 0001] train loss: 12384791.1124, val loss: 12383254.6410\n"
     ]
    },
    {
     "name": "stderr",
     "output_type": "stream",
     "text": [
      "100%|██████████| 307/307 [00:39<00:00,  7.69it/s]\n",
      "100%|██████████| 307/307 [00:33<00:00,  9.10it/s]\n",
      "100%|██████████| 39/39 [00:04<00:00,  9.29it/s]\n"
     ]
    },
    {
     "name": "stdout",
     "output_type": "stream",
     "text": [
      "[iteration 0002] train loss: 10343664.0497, val loss: 10342269.6987\n"
     ]
    },
    {
     "name": "stderr",
     "output_type": "stream",
     "text": [
      "100%|██████████| 307/307 [00:39<00:00,  7.72it/s]\n",
      "100%|██████████| 307/307 [00:33<00:00,  9.29it/s]\n",
      "100%|██████████| 39/39 [00:04<00:00,  9.14it/s]\n"
     ]
    },
    {
     "name": "stdout",
     "output_type": "stream",
     "text": [
      "[iteration 0003] train loss: 8484077.5843, val loss: 8482332.9439\n"
     ]
    },
    {
     "name": "stderr",
     "output_type": "stream",
     "text": [
      "100%|██████████| 307/307 [00:39<00:00,  7.73it/s]\n",
      "100%|██████████| 307/307 [00:33<00:00,  9.20it/s]\n",
      "100%|██████████| 39/39 [00:04<00:00,  9.23it/s]\n"
     ]
    },
    {
     "name": "stdout",
     "output_type": "stream",
     "text": [
      "[iteration 0004] train loss: 6825651.1480, val loss: 6824619.4856\n"
     ]
    },
    {
     "name": "stderr",
     "output_type": "stream",
     "text": [
      "100%|██████████| 307/307 [00:39<00:00,  7.72it/s]\n",
      "100%|██████████| 307/307 [00:33<00:00,  9.23it/s]\n",
      "100%|██████████| 39/39 [00:04<00:00,  9.41it/s]\n"
     ]
    },
    {
     "name": "stdout",
     "output_type": "stream",
     "text": [
      "[iteration 0005] train loss: 5391294.2533, val loss: 5390420.6410\n"
     ]
    },
    {
     "name": "stderr",
     "output_type": "stream",
     "text": [
      "100%|██████████| 307/307 [00:39<00:00,  7.70it/s]\n",
      "100%|██████████| 307/307 [00:33<00:00,  9.24it/s]\n",
      "100%|██████████| 39/39 [00:04<00:00,  9.50it/s]\n"
     ]
    },
    {
     "name": "stdout",
     "output_type": "stream",
     "text": [
      "[iteration 0006] train loss: 4188805.3721, val loss: 4187265.9295\n"
     ]
    },
    {
     "name": "stderr",
     "output_type": "stream",
     "text": [
      "100%|██████████| 307/307 [00:39<00:00,  7.74it/s]\n",
      "100%|██████████| 307/307 [00:33<00:00,  9.21it/s]\n",
      "100%|██████████| 39/39 [00:04<00:00,  9.48it/s]\n"
     ]
    },
    {
     "name": "stdout",
     "output_type": "stream",
     "text": [
      "[iteration 0007] train loss: 3216639.8941, val loss: 3215112.8590\n"
     ]
    },
    {
     "name": "stderr",
     "output_type": "stream",
     "text": [
      "100%|██████████| 307/307 [00:39<00:00,  7.84it/s]\n",
      "100%|██████████| 307/307 [00:33<00:00,  9.30it/s]\n",
      "100%|██████████| 39/39 [00:04<00:00,  9.13it/s]\n"
     ]
    },
    {
     "name": "stdout",
     "output_type": "stream",
     "text": [
      "[iteration 0008] train loss: 2457592.3062, val loss: 2455828.0769\n"
     ]
    },
    {
     "name": "stderr",
     "output_type": "stream",
     "text": [
      "100%|██████████| 307/307 [00:39<00:00,  7.73it/s]\n",
      "100%|██████████| 307/307 [00:34<00:00,  8.94it/s]\n",
      "100%|██████████| 39/39 [00:04<00:00,  9.26it/s]\n"
     ]
    },
    {
     "name": "stdout",
     "output_type": "stream",
     "text": [
      "[iteration 0009] train loss: 1878405.6629, val loss: 1877528.8974\n"
     ]
    },
    {
     "name": "stderr",
     "output_type": "stream",
     "text": [
      "100%|██████████| 307/307 [00:39<00:00,  7.68it/s]\n",
      "100%|██████████| 307/307 [00:33<00:00,  9.16it/s]\n",
      "100%|██████████| 39/39 [00:04<00:00,  9.27it/s]\n"
     ]
    },
    {
     "name": "stdout",
     "output_type": "stream",
     "text": [
      "[iteration 0010] train loss: 1449726.0717, val loss: 1448116.7949\n"
     ]
    },
    {
     "name": "stderr",
     "output_type": "stream",
     "text": [
      "100%|██████████| 307/307 [00:40<00:00,  7.64it/s]\n",
      "100%|██████████| 307/307 [00:33<00:00,  9.13it/s]\n",
      "100%|██████████| 39/39 [00:04<00:00,  9.21it/s]\n"
     ]
    },
    {
     "name": "stdout",
     "output_type": "stream",
     "text": [
      "[iteration 0011] train loss: 1133377.5928, val loss: 1131626.0256\n"
     ]
    },
    {
     "name": "stderr",
     "output_type": "stream",
     "text": [
      "100%|██████████| 307/307 [00:39<00:00,  7.69it/s]\n",
      "100%|██████████| 307/307 [00:33<00:00,  9.22it/s]\n",
      "100%|██████████| 39/39 [00:04<00:00,  9.37it/s]\n"
     ]
    },
    {
     "name": "stdout",
     "output_type": "stream",
     "text": [
      "[iteration 0012] train loss: 903443.0293, val loss: 901610.3333\n"
     ]
    },
    {
     "name": "stderr",
     "output_type": "stream",
     "text": [
      "100%|██████████| 307/307 [00:39<00:00,  7.72it/s]\n",
      "100%|██████████| 307/307 [00:33<00:00,  9.28it/s]\n",
      "100%|██████████| 39/39 [00:04<00:00,  9.54it/s]\n"
     ]
    },
    {
     "name": "stdout",
     "output_type": "stream",
     "text": [
      "[iteration 0013] train loss: 733959.8111, val loss: 732596.8974\n"
     ]
    },
    {
     "name": "stderr",
     "output_type": "stream",
     "text": [
      "100%|██████████| 307/307 [00:39<00:00,  7.73it/s]\n",
      "100%|██████████| 307/307 [00:33<00:00,  9.17it/s]\n",
      "100%|██████████| 39/39 [00:04<00:00,  9.38it/s]\n"
     ]
    },
    {
     "name": "stdout",
     "output_type": "stream",
     "text": [
      "[iteration 0014] train loss: 608273.8111, val loss: 606626.4872\n"
     ]
    },
    {
     "name": "stderr",
     "output_type": "stream",
     "text": [
      "100%|██████████| 307/307 [00:39<00:00,  7.73it/s]\n",
      "100%|██████████| 307/307 [00:33<00:00,  9.17it/s]\n",
      "100%|██████████| 39/39 [00:04<00:00,  9.11it/s]\n"
     ]
    },
    {
     "name": "stdout",
     "output_type": "stream",
     "text": [
      "[iteration 0015] train loss: 512756.7459, val loss: 511601.4359\n"
     ]
    },
    {
     "name": "stderr",
     "output_type": "stream",
     "text": [
      "100%|██████████| 307/307 [00:40<00:00,  7.65it/s]\n",
      "100%|██████████| 307/307 [00:33<00:00,  9.05it/s]\n",
      "100%|██████████| 39/39 [00:04<00:00,  9.34it/s]\n"
     ]
    },
    {
     "name": "stdout",
     "output_type": "stream",
     "text": [
      "[iteration 0016] train loss: 439433.4397, val loss: 438669.0513\n"
     ]
    },
    {
     "name": "stderr",
     "output_type": "stream",
     "text": [
      "100%|██████████| 307/307 [00:39<00:00,  7.69it/s]\n",
      "100%|██████████| 307/307 [00:33<00:00,  9.18it/s]\n",
      "100%|██████████| 39/39 [00:04<00:00,  9.19it/s]\n"
     ]
    },
    {
     "name": "stdout",
     "output_type": "stream",
     "text": [
      "[iteration 0017] train loss: 381260.7264, val loss: 379071.7949\n"
     ]
    },
    {
     "name": "stderr",
     "output_type": "stream",
     "text": [
      "100%|██████████| 307/307 [00:39<00:00,  7.82it/s]\n",
      "100%|██████████| 307/307 [00:33<00:00,  9.17it/s]\n",
      "100%|██████████| 39/39 [00:04<00:00,  9.28it/s]\n"
     ]
    },
    {
     "name": "stdout",
     "output_type": "stream",
     "text": [
      "[iteration 0018] train loss: 335343.8208, val loss: 334605.2051\n"
     ]
    },
    {
     "name": "stderr",
     "output_type": "stream",
     "text": [
      "100%|██████████| 307/307 [00:39<00:00,  7.73it/s]\n",
      "100%|██████████| 307/307 [00:33<00:00,  9.11it/s]\n",
      "100%|██████████| 39/39 [00:04<00:00,  9.27it/s]\n"
     ]
    },
    {
     "name": "stdout",
     "output_type": "stream",
     "text": [
      "[iteration 0019] train loss: 297563.3681, val loss: 295458.1026\n"
     ]
    },
    {
     "name": "stderr",
     "output_type": "stream",
     "text": [
      "100%|██████████| 307/307 [00:40<00:00,  7.65it/s]\n",
      "100%|██████████| 307/307 [00:33<00:00,  9.08it/s]\n",
      "100%|██████████| 39/39 [00:04<00:00,  9.22it/s]\n"
     ]
    },
    {
     "name": "stdout",
     "output_type": "stream",
     "text": [
      "[iteration 0020] train loss: 266453.7036, val loss: 265176.0513\n"
     ]
    },
    {
     "name": "stderr",
     "output_type": "stream",
     "text": [
      "100%|██████████| 307/307 [00:40<00:00,  7.67it/s]\n",
      "100%|██████████| 307/307 [00:33<00:00,  9.17it/s]\n",
      "100%|██████████| 39/39 [00:04<00:00,  9.31it/s]\n"
     ]
    },
    {
     "name": "stdout",
     "output_type": "stream",
     "text": [
      "[iteration 0021] train loss: 240434.7883, val loss: 238636.6667\n"
     ]
    },
    {
     "name": "stderr",
     "output_type": "stream",
     "text": [
      "100%|██████████| 307/307 [00:39<00:00,  7.75it/s]\n",
      "100%|██████████| 307/307 [00:33<00:00,  9.19it/s]\n",
      "100%|██████████| 39/39 [00:04<00:00,  9.45it/s]\n"
     ]
    },
    {
     "name": "stdout",
     "output_type": "stream",
     "text": [
      "[iteration 0022] train loss: 218480.5179, val loss: 216958.2821\n"
     ]
    },
    {
     "name": "stderr",
     "output_type": "stream",
     "text": [
      "100%|██████████| 307/307 [00:39<00:00,  7.76it/s]\n",
      "100%|██████████| 307/307 [00:33<00:00,  9.25it/s]\n",
      "100%|██████████| 39/39 [00:04<00:00,  9.33it/s]\n"
     ]
    },
    {
     "name": "stdout",
     "output_type": "stream",
     "text": [
      "[iteration 0023] train loss: 200296.0163, val loss: 198672.0256\n"
     ]
    },
    {
     "name": "stderr",
     "output_type": "stream",
     "text": [
      "100%|██████████| 307/307 [00:39<00:00,  7.73it/s]\n",
      "100%|██████████| 307/307 [00:33<00:00,  9.22it/s]\n",
      "100%|██████████| 39/39 [00:04<00:00,  8.74it/s]\n"
     ]
    },
    {
     "name": "stdout",
     "output_type": "stream",
     "text": [
      "[iteration 0024] train loss: 184721.6645, val loss: 182767.7179\n"
     ]
    },
    {
     "name": "stderr",
     "output_type": "stream",
     "text": [
      "100%|██████████| 307/307 [00:39<00:00,  7.79it/s]\n",
      "100%|██████████| 307/307 [00:33<00:00,  9.22it/s]\n",
      "100%|██████████| 39/39 [00:04<00:00,  9.41it/s]\n"
     ]
    },
    {
     "name": "stdout",
     "output_type": "stream",
     "text": [
      "[iteration 0025] train loss: 170971.9283, val loss: 170029.4615\n"
     ]
    },
    {
     "name": "stderr",
     "output_type": "stream",
     "text": [
      "100%|██████████| 307/307 [00:39<00:00,  7.72it/s]\n",
      "100%|██████████| 307/307 [00:33<00:00,  9.20it/s]\n",
      "100%|██████████| 39/39 [00:04<00:00,  9.31it/s]\n"
     ]
    },
    {
     "name": "stdout",
     "output_type": "stream",
     "text": [
      "[iteration 0026] train loss: 159173.9935, val loss: 157892.5897\n"
     ]
    },
    {
     "name": "stderr",
     "output_type": "stream",
     "text": [
      "100%|██████████| 307/307 [00:40<00:00,  7.61it/s]\n",
      "100%|██████████| 307/307 [00:33<00:00,  9.25it/s]\n",
      "100%|██████████| 39/39 [00:04<00:00,  9.28it/s]\n"
     ]
    },
    {
     "name": "stdout",
     "output_type": "stream",
     "text": [
      "[iteration 0027] train loss: 149521.7166, val loss: 147471.2821\n"
     ]
    },
    {
     "name": "stderr",
     "output_type": "stream",
     "text": [
      "100%|██████████| 307/307 [00:39<00:00,  7.79it/s]\n",
      "100%|██████████| 307/307 [00:33<00:00,  9.09it/s]\n",
      "100%|██████████| 39/39 [00:04<00:00,  9.40it/s]\n"
     ]
    },
    {
     "name": "stdout",
     "output_type": "stream",
     "text": [
      "[iteration 0028] train loss: 140158.1922, val loss: 138042.8462\n"
     ]
    },
    {
     "name": "stderr",
     "output_type": "stream",
     "text": [
      "100%|██████████| 307/307 [00:40<00:00,  7.58it/s]\n",
      "100%|██████████| 307/307 [00:34<00:00,  8.94it/s]\n",
      "100%|██████████| 39/39 [00:04<00:00,  9.07it/s]\n"
     ]
    },
    {
     "name": "stdout",
     "output_type": "stream",
     "text": [
      "[iteration 0029] train loss: 132084.4430, val loss: 130243.1282\n"
     ]
    },
    {
     "name": "stderr",
     "output_type": "stream",
     "text": [
      "100%|██████████| 307/307 [00:40<00:00,  7.55it/s]\n",
      "100%|██████████| 307/307 [00:34<00:00,  8.94it/s]\n",
      "100%|██████████| 39/39 [00:04<00:00,  9.45it/s]\n"
     ]
    },
    {
     "name": "stdout",
     "output_type": "stream",
     "text": [
      "[iteration 0030] train loss: 124582.9772, val loss: 123081.5641\n"
     ]
    },
    {
     "name": "stderr",
     "output_type": "stream",
     "text": [
      "100%|██████████| 307/307 [00:40<00:00,  7.66it/s]\n",
      "100%|██████████| 307/307 [00:34<00:00,  9.00it/s]\n",
      "100%|██████████| 39/39 [00:04<00:00,  9.28it/s]\n"
     ]
    },
    {
     "name": "stdout",
     "output_type": "stream",
     "text": [
      "[iteration 0031] train loss: 118231.1107, val loss: 117434.0256\n"
     ]
    },
    {
     "name": "stderr",
     "output_type": "stream",
     "text": [
      "100%|██████████| 307/307 [00:40<00:00,  7.59it/s]\n",
      "100%|██████████| 307/307 [00:34<00:00,  8.84it/s]\n",
      "100%|██████████| 39/39 [00:04<00:00,  9.04it/s]\n"
     ]
    },
    {
     "name": "stdout",
     "output_type": "stream",
     "text": [
      "[iteration 0032] train loss: 113061.4137, val loss: 111390.7692\n"
     ]
    },
    {
     "name": "stderr",
     "output_type": "stream",
     "text": [
      "100%|██████████| 307/307 [00:40<00:00,  7.49it/s]\n",
      "100%|██████████| 307/307 [00:34<00:00,  8.84it/s]\n",
      "100%|██████████| 39/39 [00:04<00:00,  9.08it/s]\n"
     ]
    },
    {
     "name": "stdout",
     "output_type": "stream",
     "text": [
      "[iteration 0033] train loss: 107944.9316, val loss: 106817.4615\n"
     ]
    },
    {
     "name": "stderr",
     "output_type": "stream",
     "text": [
      "100%|██████████| 307/307 [00:41<00:00,  7.47it/s]\n",
      "100%|██████████| 307/307 [00:34<00:00,  8.87it/s]\n",
      "100%|██████████| 39/39 [00:04<00:00,  8.95it/s]\n"
     ]
    },
    {
     "name": "stdout",
     "output_type": "stream",
     "text": [
      "[iteration 0034] train loss: 103079.7948, val loss: 101160.5385\n"
     ]
    },
    {
     "name": "stderr",
     "output_type": "stream",
     "text": [
      "100%|██████████| 307/307 [00:41<00:00,  7.47it/s]\n",
      "100%|██████████| 307/307 [00:34<00:00,  8.80it/s]\n",
      "100%|██████████| 39/39 [00:04<00:00,  8.91it/s]\n"
     ]
    },
    {
     "name": "stdout",
     "output_type": "stream",
     "text": [
      "[iteration 0035] train loss: 99273.8893, val loss: 97768.7949\n"
     ]
    },
    {
     "name": "stderr",
     "output_type": "stream",
     "text": [
      "100%|██████████| 307/307 [00:41<00:00,  7.45it/s]\n",
      "100%|██████████| 307/307 [00:34<00:00,  8.85it/s]\n",
      "100%|██████████| 39/39 [00:04<00:00,  9.07it/s]\n"
     ]
    },
    {
     "name": "stdout",
     "output_type": "stream",
     "text": [
      "[iteration 0036] train loss: 95508.9511, val loss: 93852.7179\n"
     ]
    },
    {
     "name": "stderr",
     "output_type": "stream",
     "text": [
      "100%|██████████| 307/307 [00:41<00:00,  7.48it/s]\n",
      "100%|██████████| 307/307 [00:34<00:00,  8.84it/s]\n",
      "100%|██████████| 39/39 [00:04<00:00,  8.88it/s]\n"
     ]
    },
    {
     "name": "stdout",
     "output_type": "stream",
     "text": [
      "[iteration 0037] train loss: 92097.3485, val loss: 91117.8462\n"
     ]
    },
    {
     "name": "stderr",
     "output_type": "stream",
     "text": [
      "100%|██████████| 307/307 [00:40<00:00,  7.49it/s]\n",
      "100%|██████████| 307/307 [00:34<00:00,  8.82it/s]\n",
      "100%|██████████| 39/39 [00:04<00:00,  8.96it/s]\n"
     ]
    },
    {
     "name": "stdout",
     "output_type": "stream",
     "text": [
      "[iteration 0038] train loss: 88629.8893, val loss: 86777.8462\n"
     ]
    },
    {
     "name": "stderr",
     "output_type": "stream",
     "text": [
      "100%|██████████| 307/307 [00:41<00:00,  7.47it/s]\n",
      "100%|██████████| 307/307 [00:34<00:00,  8.92it/s]\n",
      "100%|██████████| 39/39 [00:04<00:00,  9.18it/s]\n"
     ]
    },
    {
     "name": "stdout",
     "output_type": "stream",
     "text": [
      "[iteration 0039] train loss: 85983.5733, val loss: 84137.9231\n"
     ]
    },
    {
     "name": "stderr",
     "output_type": "stream",
     "text": [
      "100%|██████████| 307/307 [00:40<00:00,  7.60it/s]\n",
      "100%|██████████| 307/307 [00:34<00:00,  8.89it/s]\n",
      "100%|██████████| 39/39 [00:04<00:00,  9.21it/s]\n"
     ]
    },
    {
     "name": "stdout",
     "output_type": "stream",
     "text": [
      "[iteration 0040] train loss: 83762.6417, val loss: 81813.3590\n"
     ]
    },
    {
     "name": "stderr",
     "output_type": "stream",
     "text": [
      "100%|██████████| 307/307 [00:40<00:00,  7.60it/s]\n",
      "100%|██████████| 307/307 [00:34<00:00,  8.87it/s]\n",
      "100%|██████████| 39/39 [00:04<00:00,  9.20it/s]\n"
     ]
    },
    {
     "name": "stdout",
     "output_type": "stream",
     "text": [
      "[iteration 0041] train loss: 80979.3290, val loss: 79434.4359\n"
     ]
    },
    {
     "name": "stderr",
     "output_type": "stream",
     "text": [
      "100%|██████████| 307/307 [00:40<00:00,  7.55it/s]\n",
      "100%|██████████| 307/307 [00:34<00:00,  8.93it/s]\n",
      "100%|██████████| 39/39 [00:04<00:00,  9.04it/s]\n"
     ]
    },
    {
     "name": "stdout",
     "output_type": "stream",
     "text": [
      "[iteration 0042] train loss: 78735.4332, val loss: 77938.6410\n"
     ]
    },
    {
     "name": "stderr",
     "output_type": "stream",
     "text": [
      "100%|██████████| 307/307 [00:41<00:00,  7.47it/s]\n",
      "100%|██████████| 307/307 [00:34<00:00,  8.90it/s]\n",
      "100%|██████████| 39/39 [00:04<00:00,  9.13it/s]\n"
     ]
    },
    {
     "name": "stdout",
     "output_type": "stream",
     "text": [
      "[iteration 0043] train loss: 76962.3388, val loss: 75629.1026\n"
     ]
    },
    {
     "name": "stderr",
     "output_type": "stream",
     "text": [
      "100%|██████████| 307/307 [00:40<00:00,  7.53it/s]\n",
      "100%|██████████| 307/307 [00:34<00:00,  8.94it/s]\n",
      "100%|██████████| 39/39 [00:04<00:00,  9.09it/s]\n"
     ]
    },
    {
     "name": "stdout",
     "output_type": "stream",
     "text": [
      "[iteration 0044] train loss: 74833.9121, val loss: 72282.0000\n"
     ]
    },
    {
     "name": "stderr",
     "output_type": "stream",
     "text": [
      "100%|██████████| 307/307 [00:40<00:00,  7.57it/s]\n",
      "100%|██████████| 307/307 [00:34<00:00,  8.93it/s]\n",
      "100%|██████████| 39/39 [00:04<00:00,  8.97it/s]\n"
     ]
    },
    {
     "name": "stdout",
     "output_type": "stream",
     "text": [
      "[iteration 0045] train loss: 73094.3160, val loss: 71280.2564\n"
     ]
    },
    {
     "name": "stderr",
     "output_type": "stream",
     "text": [
      "100%|██████████| 307/307 [00:41<00:00,  7.48it/s]\n",
      "100%|██████████| 307/307 [00:34<00:00,  8.94it/s]\n",
      "100%|██████████| 39/39 [00:04<00:00,  8.82it/s]\n"
     ]
    },
    {
     "name": "stdout",
     "output_type": "stream",
     "text": [
      "[iteration 0046] train loss: 71542.2736, val loss: 69635.1795\n"
     ]
    },
    {
     "name": "stderr",
     "output_type": "stream",
     "text": [
      "100%|██████████| 307/307 [00:41<00:00,  7.42it/s]\n",
      "100%|██████████| 307/307 [00:34<00:00,  8.83it/s]\n",
      "100%|██████████| 39/39 [00:04<00:00,  9.06it/s]\n"
     ]
    },
    {
     "name": "stdout",
     "output_type": "stream",
     "text": [
      "[iteration 0047] train loss: 70181.3681, val loss: 68508.4359\n"
     ]
    },
    {
     "name": "stderr",
     "output_type": "stream",
     "text": [
      "100%|██████████| 307/307 [00:40<00:00,  7.49it/s]\n",
      "100%|██████████| 307/307 [00:34<00:00,  8.84it/s]\n",
      "100%|██████████| 39/39 [00:04<00:00,  8.97it/s]\n"
     ]
    },
    {
     "name": "stdout",
     "output_type": "stream",
     "text": [
      "[iteration 0048] train loss: 68282.2476, val loss: 66479.8974\n"
     ]
    },
    {
     "name": "stderr",
     "output_type": "stream",
     "text": [
      "100%|██████████| 307/307 [00:40<00:00,  7.49it/s]\n",
      "100%|██████████| 307/307 [00:35<00:00,  8.67it/s]\n",
      "100%|██████████| 39/39 [00:04<00:00,  9.05it/s]\n"
     ]
    },
    {
     "name": "stdout",
     "output_type": "stream",
     "text": [
      "[iteration 0049] train loss: 67107.5961, val loss: 65342.5128\n"
     ]
    },
    {
     "name": "stderr",
     "output_type": "stream",
     "text": [
      "100%|██████████| 307/307 [00:40<00:00,  7.53it/s]\n",
      "100%|██████████| 307/307 [00:34<00:00,  8.79it/s]\n",
      "100%|██████████| 39/39 [00:04<00:00,  8.78it/s]\n"
     ]
    },
    {
     "name": "stdout",
     "output_type": "stream",
     "text": [
      "[iteration 0050] train loss: 65845.1238, val loss: 64425.1026\n"
     ]
    },
    {
     "name": "stderr",
     "output_type": "stream",
     "text": [
      "100%|██████████| 307/307 [00:41<00:00,  7.40it/s]\n",
      "100%|██████████| 307/307 [00:34<00:00,  8.97it/s]\n",
      "100%|██████████| 39/39 [00:04<00:00,  9.15it/s]\n"
     ]
    },
    {
     "name": "stdout",
     "output_type": "stream",
     "text": [
      "[iteration 0051] train loss: 64673.1238, val loss: 63528.6667\n"
     ]
    },
    {
     "name": "stderr",
     "output_type": "stream",
     "text": [
      "100%|██████████| 307/307 [00:40<00:00,  7.63it/s]\n",
      "100%|██████████| 307/307 [00:33<00:00,  9.07it/s]\n",
      "100%|██████████| 39/39 [00:04<00:00,  8.87it/s]\n"
     ]
    },
    {
     "name": "stdout",
     "output_type": "stream",
     "text": [
      "[iteration 0052] train loss: 63695.5081, val loss: 62020.8974\n"
     ]
    },
    {
     "name": "stderr",
     "output_type": "stream",
     "text": [
      "100%|██████████| 307/307 [00:40<00:00,  7.55it/s]\n",
      "100%|██████████| 307/307 [00:34<00:00,  8.91it/s]\n",
      "100%|██████████| 39/39 [00:04<00:00,  9.05it/s]\n"
     ]
    },
    {
     "name": "stdout",
     "output_type": "stream",
     "text": [
      "[iteration 0053] train loss: 62545.0521, val loss: 60968.9487\n"
     ]
    },
    {
     "name": "stderr",
     "output_type": "stream",
     "text": [
      "100%|██████████| 307/307 [00:40<00:00,  7.54it/s]\n",
      "100%|██████████| 307/307 [00:34<00:00,  8.90it/s]\n",
      "100%|██████████| 39/39 [00:04<00:00,  9.04it/s]\n"
     ]
    },
    {
     "name": "stdout",
     "output_type": "stream",
     "text": [
      "[iteration 0054] train loss: 61983.4072, val loss: 60306.9744\n"
     ]
    },
    {
     "name": "stderr",
     "output_type": "stream",
     "text": [
      "100%|██████████| 307/307 [00:40<00:00,  7.50it/s]\n",
      "100%|██████████| 307/307 [00:34<00:00,  8.91it/s]\n",
      "100%|██████████| 39/39 [00:04<00:00,  9.13it/s]\n"
     ]
    },
    {
     "name": "stdout",
     "output_type": "stream",
     "text": [
      "[iteration 0055] train loss: 61021.4104, val loss: 59197.4103\n"
     ]
    },
    {
     "name": "stderr",
     "output_type": "stream",
     "text": [
      "100%|██████████| 307/307 [00:40<00:00,  7.57it/s]\n",
      "100%|██████████| 307/307 [00:34<00:00,  8.81it/s]\n",
      "100%|██████████| 39/39 [00:04<00:00,  8.92it/s]\n"
     ]
    },
    {
     "name": "stdout",
     "output_type": "stream",
     "text": [
      "[iteration 0056] train loss: 59760.8697, val loss: 57935.9487\n"
     ]
    },
    {
     "name": "stderr",
     "output_type": "stream",
     "text": [
      "100%|██████████| 307/307 [00:41<00:00,  7.45it/s]\n",
      "100%|██████████| 307/307 [00:34<00:00,  8.80it/s]\n",
      "100%|██████████| 39/39 [00:04<00:00,  8.93it/s]\n"
     ]
    },
    {
     "name": "stdout",
     "output_type": "stream",
     "text": [
      "[iteration 0057] train loss: 59391.8827, val loss: 57756.4872\n"
     ]
    },
    {
     "name": "stderr",
     "output_type": "stream",
     "text": [
      "100%|██████████| 307/307 [00:40<00:00,  7.50it/s]\n",
      "100%|██████████| 307/307 [00:34<00:00,  8.84it/s]\n",
      "100%|██████████| 39/39 [00:04<00:00,  9.05it/s]\n"
     ]
    },
    {
     "name": "stdout",
     "output_type": "stream",
     "text": [
      "[iteration 0058] train loss: 58004.0912, val loss: 56933.6154\n"
     ]
    },
    {
     "name": "stderr",
     "output_type": "stream",
     "text": [
      "100%|██████████| 307/307 [00:40<00:00,  7.53it/s]\n",
      "100%|██████████| 307/307 [00:34<00:00,  8.91it/s]\n",
      "100%|██████████| 39/39 [00:04<00:00,  9.19it/s]\n"
     ]
    },
    {
     "name": "stdout",
     "output_type": "stream",
     "text": [
      "[iteration 0059] train loss: 57915.1759, val loss: 55363.6154\n"
     ]
    },
    {
     "name": "stderr",
     "output_type": "stream",
     "text": [
      "100%|██████████| 307/307 [00:40<00:00,  7.58it/s]\n",
      "100%|██████████| 307/307 [00:34<00:00,  9.00it/s]\n",
      "100%|██████████| 39/39 [00:04<00:00,  9.16it/s]\n"
     ]
    },
    {
     "name": "stdout",
     "output_type": "stream",
     "text": [
      "[iteration 0060] train loss: 57032.5863, val loss: 55037.8718\n"
     ]
    },
    {
     "name": "stderr",
     "output_type": "stream",
     "text": [
      "100%|██████████| 307/307 [00:40<00:00,  7.56it/s]\n",
      "100%|██████████| 307/307 [00:34<00:00,  8.91it/s]\n",
      "100%|██████████| 39/39 [00:04<00:00,  9.09it/s]\n"
     ]
    },
    {
     "name": "stdout",
     "output_type": "stream",
     "text": [
      "[iteration 0061] train loss: 56242.7492, val loss: 54575.5128\n"
     ]
    },
    {
     "name": "stderr",
     "output_type": "stream",
     "text": [
      "100%|██████████| 307/307 [00:40<00:00,  7.58it/s]\n",
      "100%|██████████| 307/307 [00:34<00:00,  8.97it/s]\n",
      "100%|██████████| 39/39 [00:04<00:00,  9.24it/s]\n"
     ]
    },
    {
     "name": "stdout",
     "output_type": "stream",
     "text": [
      "[iteration 0062] train loss: 55588.1270, val loss: 54199.7949\n"
     ]
    },
    {
     "name": "stderr",
     "output_type": "stream",
     "text": [
      "100%|██████████| 307/307 [00:40<00:00,  7.62it/s]\n",
      "100%|██████████| 307/307 [00:34<00:00,  8.94it/s]\n",
      "100%|██████████| 39/39 [00:04<00:00,  9.30it/s]\n"
     ]
    },
    {
     "name": "stdout",
     "output_type": "stream",
     "text": [
      "[iteration 0063] train loss: 54929.4560, val loss: 53119.9231\n"
     ]
    },
    {
     "name": "stderr",
     "output_type": "stream",
     "text": [
      "100%|██████████| 307/307 [00:40<00:00,  7.59it/s]\n",
      "100%|██████████| 307/307 [00:34<00:00,  9.00it/s]\n",
      "100%|██████████| 39/39 [00:04<00:00,  9.15it/s]\n"
     ]
    },
    {
     "name": "stdout",
     "output_type": "stream",
     "text": [
      "[iteration 0064] train loss: 54986.4788, val loss: 52820.8974\n"
     ]
    },
    {
     "name": "stderr",
     "output_type": "stream",
     "text": [
      "100%|██████████| 307/307 [00:40<00:00,  7.59it/s]\n",
      "100%|██████████| 307/307 [00:34<00:00,  8.95it/s]\n",
      "100%|██████████| 39/39 [00:04<00:00,  9.12it/s]\n"
     ]
    },
    {
     "name": "stdout",
     "output_type": "stream",
     "text": [
      "[iteration 0065] train loss: 54117.1564, val loss: 52176.7179\n"
     ]
    },
    {
     "name": "stderr",
     "output_type": "stream",
     "text": [
      "100%|██████████| 307/307 [00:40<00:00,  7.57it/s]\n",
      "100%|██████████| 307/307 [00:34<00:00,  8.96it/s]\n",
      "100%|██████████| 39/39 [00:04<00:00,  9.12it/s]\n"
     ]
    },
    {
     "name": "stdout",
     "output_type": "stream",
     "text": [
      "[iteration 0066] train loss: 53269.7459, val loss: 51336.2564\n"
     ]
    },
    {
     "name": "stderr",
     "output_type": "stream",
     "text": [
      "100%|██████████| 307/307 [00:40<00:00,  7.56it/s]\n",
      "100%|██████████| 307/307 [00:34<00:00,  9.03it/s]\n",
      "100%|██████████| 39/39 [00:04<00:00,  8.77it/s]\n"
     ]
    },
    {
     "name": "stdout",
     "output_type": "stream",
     "text": [
      "[iteration 0067] train loss: 53130.0033, val loss: 51006.1538\n"
     ]
    },
    {
     "name": "stderr",
     "output_type": "stream",
     "text": [
      "100%|██████████| 307/307 [00:41<00:00,  7.48it/s]\n",
      "100%|██████████| 307/307 [00:34<00:00,  8.89it/s]\n",
      "100%|██████████| 39/39 [00:04<00:00,  9.06it/s]\n"
     ]
    },
    {
     "name": "stdout",
     "output_type": "stream",
     "text": [
      "[iteration 0068] train loss: 52462.9642, val loss: 50865.5128\n"
     ]
    },
    {
     "name": "stderr",
     "output_type": "stream",
     "text": [
      "100%|██████████| 307/307 [00:40<00:00,  7.65it/s]\n",
      "100%|██████████| 307/307 [00:33<00:00,  9.14it/s]\n",
      "100%|██████████| 39/39 [00:04<00:00,  8.91it/s]\n"
     ]
    },
    {
     "name": "stdout",
     "output_type": "stream",
     "text": [
      "[iteration 0069] train loss: 52065.8958, val loss: 50446.1795\n"
     ]
    },
    {
     "name": "stderr",
     "output_type": "stream",
     "text": [
      "100%|██████████| 307/307 [00:39<00:00,  7.74it/s]\n",
      "100%|██████████| 307/307 [00:33<00:00,  9.16it/s]\n",
      "100%|██████████| 39/39 [00:04<00:00,  9.32it/s]\n"
     ]
    },
    {
     "name": "stdout",
     "output_type": "stream",
     "text": [
      "[iteration 0070] train loss: 51292.5179, val loss: 49336.4872\n"
     ]
    },
    {
     "name": "stderr",
     "output_type": "stream",
     "text": [
      "100%|██████████| 307/307 [00:39<00:00,  7.74it/s]\n",
      "100%|██████████| 307/307 [00:33<00:00,  9.06it/s]\n",
      "100%|██████████| 39/39 [00:04<00:00,  9.28it/s]\n"
     ]
    },
    {
     "name": "stdout",
     "output_type": "stream",
     "text": [
      "[iteration 0071] train loss: 51409.0489, val loss: 50016.0000\n"
     ]
    },
    {
     "name": "stderr",
     "output_type": "stream",
     "text": [
      "100%|██████████| 307/307 [00:39<00:00,  7.76it/s]\n",
      "100%|██████████| 307/307 [00:34<00:00,  9.00it/s]\n",
      "100%|██████████| 39/39 [00:04<00:00,  9.16it/s]\n"
     ]
    },
    {
     "name": "stdout",
     "output_type": "stream",
     "text": [
      "[iteration 0072] train loss: 51066.8241, val loss: 49298.3077\n"
     ]
    },
    {
     "name": "stderr",
     "output_type": "stream",
     "text": [
      "100%|██████████| 307/307 [00:40<00:00,  7.64it/s]\n",
      "100%|██████████| 307/307 [00:33<00:00,  9.19it/s]\n",
      "100%|██████████| 39/39 [00:04<00:00,  9.05it/s]\n"
     ]
    },
    {
     "name": "stdout",
     "output_type": "stream",
     "text": [
      "[iteration 0073] train loss: 50528.6450, val loss: 48027.5897\n"
     ]
    },
    {
     "name": "stderr",
     "output_type": "stream",
     "text": [
      "100%|██████████| 307/307 [00:40<00:00,  7.65it/s]\n",
      "100%|██████████| 307/307 [00:33<00:00,  9.18it/s]\n",
      "100%|██████████| 39/39 [00:04<00:00,  9.28it/s]\n"
     ]
    },
    {
     "name": "stdout",
     "output_type": "stream",
     "text": [
      "[iteration 0074] train loss: 50083.5309, val loss: 48759.2051\n"
     ]
    },
    {
     "name": "stderr",
     "output_type": "stream",
     "text": [
      "100%|██████████| 307/307 [00:39<00:00,  7.69it/s]\n",
      "100%|██████████| 307/307 [00:33<00:00,  9.20it/s]\n",
      "100%|██████████| 39/39 [00:04<00:00,  9.24it/s]\n"
     ]
    },
    {
     "name": "stdout",
     "output_type": "stream",
     "text": [
      "[iteration 0075] train loss: 49884.8664, val loss: 48311.8462\n"
     ]
    },
    {
     "name": "stderr",
     "output_type": "stream",
     "text": [
      "100%|██████████| 307/307 [00:39<00:00,  7.70it/s]\n",
      "100%|██████████| 307/307 [00:33<00:00,  9.17it/s]\n",
      "100%|██████████| 39/39 [00:04<00:00,  9.44it/s]\n"
     ]
    },
    {
     "name": "stdout",
     "output_type": "stream",
     "text": [
      "[iteration 0076] train loss: 49596.7427, val loss: 47019.2821\n"
     ]
    },
    {
     "name": "stderr",
     "output_type": "stream",
     "text": [
      "100%|██████████| 307/307 [00:39<00:00,  7.79it/s]\n",
      "100%|██████████| 307/307 [00:32<00:00,  9.32it/s]\n",
      "100%|██████████| 39/39 [00:04<00:00,  9.46it/s]\n"
     ]
    },
    {
     "name": "stdout",
     "output_type": "stream",
     "text": [
      "[iteration 0077] train loss: 49656.6287, val loss: 48101.2051\n"
     ]
    },
    {
     "name": "stderr",
     "output_type": "stream",
     "text": [
      "100%|██████████| 307/307 [00:39<00:00,  7.71it/s]\n",
      "100%|██████████| 307/307 [00:33<00:00,  9.20it/s]\n",
      "100%|██████████| 39/39 [00:04<00:00,  9.29it/s]\n"
     ]
    },
    {
     "name": "stdout",
     "output_type": "stream",
     "text": [
      "[iteration 0078] train loss: 48827.7948, val loss: 46540.9744\n"
     ]
    },
    {
     "name": "stderr",
     "output_type": "stream",
     "text": [
      "100%|██████████| 307/307 [00:39<00:00,  7.73it/s]\n",
      "100%|██████████| 307/307 [00:33<00:00,  9.11it/s]\n",
      "100%|██████████| 39/39 [00:04<00:00,  9.37it/s]\n"
     ]
    },
    {
     "name": "stdout",
     "output_type": "stream",
     "text": [
      "[iteration 0079] train loss: 48783.4984, val loss: 47329.6923\n"
     ]
    },
    {
     "name": "stderr",
     "output_type": "stream",
     "text": [
      "100%|██████████| 307/307 [00:39<00:00,  7.68it/s]\n",
      "100%|██████████| 307/307 [00:33<00:00,  9.25it/s]\n",
      "100%|██████████| 39/39 [00:04<00:00,  9.34it/s]\n"
     ]
    },
    {
     "name": "stdout",
     "output_type": "stream",
     "text": [
      "[iteration 0080] train loss: 48388.1010, val loss: 46712.8205\n"
     ]
    },
    {
     "name": "stderr",
     "output_type": "stream",
     "text": [
      "100%|██████████| 307/307 [00:40<00:00,  7.55it/s]\n",
      "100%|██████████| 307/307 [00:33<00:00,  9.12it/s]\n",
      "100%|██████████| 39/39 [00:04<00:00,  9.16it/s]\n"
     ]
    },
    {
     "name": "stdout",
     "output_type": "stream",
     "text": [
      "[iteration 0081] train loss: 48061.5798, val loss: 46444.5385\n"
     ]
    },
    {
     "name": "stderr",
     "output_type": "stream",
     "text": [
      "100%|██████████| 307/307 [00:40<00:00,  7.57it/s]\n",
      "100%|██████████| 307/307 [00:34<00:00,  9.01it/s]\n",
      "100%|██████████| 39/39 [00:04<00:00,  9.31it/s]\n"
     ]
    },
    {
     "name": "stdout",
     "output_type": "stream",
     "text": [
      "[iteration 0082] train loss: 47887.5081, val loss: 45910.6154\n"
     ]
    },
    {
     "name": "stderr",
     "output_type": "stream",
     "text": [
      "100%|██████████| 307/307 [00:39<00:00,  7.71it/s]\n",
      "100%|██████████| 307/307 [00:33<00:00,  9.25it/s]\n",
      "100%|██████████| 39/39 [00:04<00:00,  9.60it/s]\n"
     ]
    },
    {
     "name": "stdout",
     "output_type": "stream",
     "text": [
      "[iteration 0083] train loss: 47874.1173, val loss: 46904.1282\n"
     ]
    },
    {
     "name": "stderr",
     "output_type": "stream",
     "text": [
      "100%|██████████| 307/307 [00:39<00:00,  7.73it/s]\n",
      "100%|██████████| 307/307 [00:33<00:00,  9.18it/s]\n",
      "100%|██████████| 39/39 [00:04<00:00,  9.38it/s]\n"
     ]
    },
    {
     "name": "stdout",
     "output_type": "stream",
     "text": [
      "[iteration 0084] train loss: 47869.8111, val loss: 45731.7692\n"
     ]
    },
    {
     "name": "stderr",
     "output_type": "stream",
     "text": [
      "100%|██████████| 307/307 [00:39<00:00,  7.78it/s]\n",
      "100%|██████████| 307/307 [00:33<00:00,  9.19it/s]\n",
      "100%|██████████| 39/39 [00:04<00:00,  9.06it/s]\n"
     ]
    },
    {
     "name": "stdout",
     "output_type": "stream",
     "text": [
      "[iteration 0085] train loss: 47165.4593, val loss: 45334.5128\n"
     ]
    },
    {
     "name": "stderr",
     "output_type": "stream",
     "text": [
      "100%|██████████| 307/307 [00:39<00:00,  7.72it/s]\n",
      "100%|██████████| 307/307 [00:33<00:00,  9.21it/s]\n",
      "100%|██████████| 39/39 [00:04<00:00,  9.28it/s]\n"
     ]
    },
    {
     "name": "stdout",
     "output_type": "stream",
     "text": [
      "[iteration 0086] train loss: 47247.7264, val loss: 44849.2308\n"
     ]
    },
    {
     "name": "stderr",
     "output_type": "stream",
     "text": [
      "100%|██████████| 307/307 [00:39<00:00,  7.71it/s]\n",
      "100%|██████████| 307/307 [00:33<00:00,  9.21it/s]\n",
      "100%|██████████| 39/39 [00:04<00:00,  9.47it/s]\n"
     ]
    },
    {
     "name": "stdout",
     "output_type": "stream",
     "text": [
      "[iteration 0087] train loss: 46839.8241, val loss: 45651.4103\n"
     ]
    },
    {
     "name": "stderr",
     "output_type": "stream",
     "text": [
      "100%|██████████| 307/307 [00:40<00:00,  7.65it/s]\n",
      "100%|██████████| 307/307 [00:33<00:00,  9.13it/s]\n",
      "100%|██████████| 39/39 [00:04<00:00,  9.33it/s]\n"
     ]
    },
    {
     "name": "stdout",
     "output_type": "stream",
     "text": [
      "[iteration 0088] train loss: 46833.1075, val loss: 44791.3333\n"
     ]
    },
    {
     "name": "stderr",
     "output_type": "stream",
     "text": [
      "100%|██████████| 307/307 [00:39<00:00,  7.75it/s]\n",
      "100%|██████████| 307/307 [00:33<00:00,  9.24it/s]\n",
      "100%|██████████| 39/39 [00:04<00:00,  9.30it/s]\n"
     ]
    },
    {
     "name": "stdout",
     "output_type": "stream",
     "text": [
      "[iteration 0089] train loss: 46720.1596, val loss: 44103.4872\n"
     ]
    },
    {
     "name": "stderr",
     "output_type": "stream",
     "text": [
      "100%|██████████| 307/307 [00:40<00:00,  7.64it/s]\n",
      "100%|██████████| 307/307 [00:33<00:00,  9.06it/s]\n",
      "100%|██████████| 39/39 [00:04<00:00,  9.14it/s]\n"
     ]
    },
    {
     "name": "stdout",
     "output_type": "stream",
     "text": [
      "[iteration 0090] train loss: 46367.1531, val loss: 44005.2821\n"
     ]
    },
    {
     "name": "stderr",
     "output_type": "stream",
     "text": [
      "100%|██████████| 307/307 [00:40<00:00,  7.58it/s]\n",
      "100%|██████████| 307/307 [00:34<00:00,  9.01it/s]\n",
      "100%|██████████| 39/39 [00:04<00:00,  9.36it/s]\n"
     ]
    },
    {
     "name": "stdout",
     "output_type": "stream",
     "text": [
      "[iteration 0091] train loss: 45868.4593, val loss: 43946.0256\n"
     ]
    },
    {
     "name": "stderr",
     "output_type": "stream",
     "text": [
      "100%|██████████| 307/307 [00:39<00:00,  7.76it/s]\n",
      "100%|██████████| 307/307 [00:33<00:00,  9.26it/s]\n",
      "100%|██████████| 39/39 [00:04<00:00,  9.27it/s]\n"
     ]
    },
    {
     "name": "stdout",
     "output_type": "stream",
     "text": [
      "[iteration 0092] train loss: 46069.5700, val loss: 44216.5128\n"
     ]
    },
    {
     "name": "stderr",
     "output_type": "stream",
     "text": [
      "100%|██████████| 307/307 [00:39<00:00,  7.81it/s]\n",
      "100%|██████████| 307/307 [00:33<00:00,  9.26it/s]\n",
      "100%|██████████| 39/39 [00:04<00:00,  9.44it/s]\n"
     ]
    },
    {
     "name": "stdout",
     "output_type": "stream",
     "text": [
      "[iteration 0093] train loss: 45910.4528, val loss: 43756.4103\n"
     ]
    },
    {
     "name": "stderr",
     "output_type": "stream",
     "text": [
      "100%|██████████| 307/307 [00:40<00:00,  7.61it/s]\n",
      "100%|██████████| 307/307 [00:33<00:00,  9.11it/s]\n",
      "100%|██████████| 39/39 [00:04<00:00,  9.30it/s]\n"
     ]
    },
    {
     "name": "stdout",
     "output_type": "stream",
     "text": [
      "[iteration 0094] train loss: 45938.6971, val loss: 44103.1282\n"
     ]
    },
    {
     "name": "stderr",
     "output_type": "stream",
     "text": [
      "100%|██████████| 307/307 [00:40<00:00,  7.59it/s]\n",
      "100%|██████████| 307/307 [00:33<00:00,  9.03it/s]\n",
      "100%|██████████| 39/39 [00:04<00:00,  9.25it/s]\n"
     ]
    },
    {
     "name": "stdout",
     "output_type": "stream",
     "text": [
      "[iteration 0095] train loss: 45971.2280, val loss: 44549.3846\n"
     ]
    },
    {
     "name": "stderr",
     "output_type": "stream",
     "text": [
      "100%|██████████| 307/307 [00:39<00:00,  7.76it/s]\n",
      "100%|██████████| 307/307 [00:33<00:00,  9.19it/s]\n",
      "100%|██████████| 39/39 [00:04<00:00,  9.34it/s]\n"
     ]
    },
    {
     "name": "stdout",
     "output_type": "stream",
     "text": [
      "[iteration 0096] train loss: 45411.7068, val loss: 43250.4872\n"
     ]
    },
    {
     "name": "stderr",
     "output_type": "stream",
     "text": [
      "100%|██████████| 307/307 [00:40<00:00,  7.65it/s]\n",
      "100%|██████████| 307/307 [00:33<00:00,  9.20it/s]\n",
      "100%|██████████| 39/39 [00:04<00:00,  9.44it/s]\n"
     ]
    },
    {
     "name": "stdout",
     "output_type": "stream",
     "text": [
      "[iteration 0097] train loss: 45223.4267, val loss: 43008.3333\n"
     ]
    },
    {
     "name": "stderr",
     "output_type": "stream",
     "text": [
      "100%|██████████| 307/307 [00:39<00:00,  7.74it/s]\n",
      "100%|██████████| 307/307 [00:33<00:00,  9.29it/s]\n",
      "100%|██████████| 39/39 [00:04<00:00,  9.29it/s]\n"
     ]
    },
    {
     "name": "stdout",
     "output_type": "stream",
     "text": [
      "[iteration 0098] train loss: 45139.0782, val loss: 43294.2564\n"
     ]
    },
    {
     "name": "stderr",
     "output_type": "stream",
     "text": [
      "100%|██████████| 307/307 [00:39<00:00,  7.77it/s]\n",
      "100%|██████████| 307/307 [00:33<00:00,  9.17it/s]\n",
      "100%|██████████| 39/39 [00:04<00:00,  9.51it/s]\n"
     ]
    },
    {
     "name": "stdout",
     "output_type": "stream",
     "text": [
      "[iteration 0099] train loss: 44895.1042, val loss: 43331.6154\n"
     ]
    },
    {
     "name": "stderr",
     "output_type": "stream",
     "text": [
      "100%|██████████| 307/307 [00:39<00:00,  7.77it/s]\n",
      "100%|██████████| 307/307 [00:33<00:00,  9.22it/s]\n",
      "100%|██████████| 39/39 [00:04<00:00,  9.35it/s]"
     ]
    },
    {
     "name": "stdout",
     "output_type": "stream",
     "text": [
      "[iteration 0100] train loss: 44928.2932, val loss: 42312.7949\n"
     ]
    },
    {
     "name": "stderr",
     "output_type": "stream",
     "text": [
      "\n"
     ]
    }
   ],
   "source": [
    "import pyro\n",
    "import torch\n",
    "from pyro.infer import SVI, Trace_ELBO\n",
    "from pyro.infer.autoguide import AutoDiagonalNormal\n",
    "from pyro.optim import Adam\n",
    "from tqdm import tqdm\n",
    "\n",
    "pyro.clear_param_store()\n",
    "pyro.set_rng_seed(1)\n",
    "device = \"cuda:0\" if torch.cuda.is_available() else \"cpu\"\n",
    "\n",
    "optimizer = Adam({\"lr\": 0.001})\n",
    "bmodel = Unet(bayesian=True).to(device)\n",
    "guide = AutoDiagonalNormal(bmodel).to(device)\n",
    "elbo = Trace_ELBO()\n",
    "svi = SVI(bmodel, guide, optimizer, loss=elbo)\n",
    "train_losses = []\n",
    "val_losses = []\n",
    "\n",
    "# Early stopping parameters\n",
    "patience = 10\n",
    "tolerance = 100\n",
    "best_val_loss = float(\"inf\")\n",
    "no_improvement_count = 0\n",
    "\n",
    "\n",
    "for step in range(100):\n",
    "    running_loss = 0\n",
    "    for x, y in tqdm(dataloaders[\"train\"]):\n",
    "        x = x.to(device)\n",
    "        y = y.to(device)\n",
    "        svi.step(x, y)\n",
    "\n",
    "    with torch.no_grad():\n",
    "        loss = 0\n",
    "        for x, y in tqdm(dataloaders[\"train\"]):\n",
    "            x = x.to(device)\n",
    "            y = y.to(device)\n",
    "            loss += svi.evaluate_loss(x, y)\n",
    "        train_losses.append(loss / (BATCH_SIZE * len(dataloaders[\"train\"])))\n",
    "\n",
    "        loss = 0\n",
    "        for x, y in tqdm(dataloaders[\"val\"]):\n",
    "            x = x.to(device)\n",
    "            y = y.to(device)\n",
    "            loss += svi.evaluate_loss(x, y)\n",
    "        val_losses.append(loss / (BATCH_SIZE * len(dataloaders[\"val\"])))\n",
    "\n",
    "    print(\n",
    "        \"[iteration %04d] train loss: %.4f, val loss: %.4f\"\n",
    "        % (step + 1, train_losses[-1], val_losses[-1])\n",
    "    )\n",
    "\n",
    "    # Check for improvement\n",
    "    if val_losses[-1] < best_val_loss - tolerance:\n",
    "        best_val_loss = val_losses[-1]\n",
    "        no_improvement_count = 0\n",
    "    else:\n",
    "        no_improvement_count += 1\n",
    "\n",
    "    # Early stopping condition\n",
    "    if no_improvement_count >= patience:\n",
    "        print(\"Early stopping triggered at iteration %04d\" % (step + 1))\n",
    "        break"
   ]
  },
  {
   "cell_type": "code",
   "execution_count": 29,
   "metadata": {
    "execution": {
     "iopub.execute_input": "2024-12-08T19:54:23.302026Z",
     "iopub.status.busy": "2024-12-08T19:54:23.301688Z",
     "iopub.status.idle": "2024-12-08T19:54:23.307164Z",
     "shell.execute_reply": "2024-12-08T19:54:23.306305Z",
     "shell.execute_reply.started": "2024-12-08T19:54:23.301994Z"
    },
    "trusted": true
   },
   "outputs": [],
   "source": [
    "import pickle\n",
    "\n",
    "with open(\"train.pkl\", \"wb\") as f:\n",
    "    pickle.dump(train_losses, f)\n",
    "with open(\"val.pkl\", \"wb\") as f:\n",
    "    pickle.dump(val_losses, f)"
   ]
  },
  {
   "cell_type": "code",
   "execution_count": 27,
   "metadata": {
    "execution": {
     "iopub.execute_input": "2024-12-08T19:53:45.147180Z",
     "iopub.status.busy": "2024-12-08T19:53:45.146820Z",
     "iopub.status.idle": "2024-12-08T19:53:45.540972Z",
     "shell.execute_reply": "2024-12-08T19:53:45.540129Z",
     "shell.execute_reply.started": "2024-12-08T19:53:45.147145Z"
    },
    "trusted": true
   },
   "outputs": [
    {
     "data": {
      "image/png": "[encoded data removed]",
      "text/plain": [
       "<Figure size 1200x700 with 1 Axes>"
      ]
     },
     "metadata": {},
     "output_type": "display_data"
    }
   ],
   "source": [
    "plt.figure(figsize=(12, 7))\n",
    "plt.plot(train_losses)\n",
    "plt.plot(val_losses)\n",
    "plt.yscale(\"log\")\n",
    "plt.xlabel(\"SVI step\")\n",
    "plt.ylabel(\"ELBO loss\");"
   ]
  },
  {
   "cell_type": "markdown",
   "metadata": {},
   "source": [
    "# Measure metric"
   ]
  },
  {
   "cell_type": "code",
   "execution_count": null,
   "metadata": {},
   "outputs": [],
   "source": [
    "from pyro.inference import Predictive\n",
    "predictive = Predictive(\n",
    "    model, guide, 10\n",
    ")"
   ]
  },
  {
   "cell_type": "code",
   "execution_count": 12,
   "metadata": {
    "execution": {
     "iopub.execute_input": "2024-12-18T19:43:41.244588Z",
     "iopub.status.busy": "2024-12-18T19:43:41.244371Z",
     "iopub.status.idle": "2024-12-18T20:10:23.100986Z",
     "shell.execute_reply": "2024-12-18T20:10:23.100116Z",
     "shell.execute_reply.started": "2024-12-18T19:43:41.244566Z"
    },
    "trusted": true
   },
   "outputs": [
    {
     "name": "stderr",
     "output_type": "stream",
     "text": [
      "100%|██████████| 10/10 [00:53<00:00,  5.39s/it]\n",
      "100%|██████████| 10/10 [00:53<00:00,  5.32s/it]\n",
      "100%|██████████| 10/10 [00:53<00:00,  5.32s/it]\n",
      "100%|██████████| 10/10 [00:53<00:00,  5.34s/it]\n",
      "100%|██████████| 10/10 [00:53<00:00,  5.32s/it]\n",
      "100%|██████████| 10/10 [00:53<00:00,  5.33s/it]\n",
      "100%|██████████| 10/10 [00:53<00:00,  5.33s/it]\n",
      "100%|██████████| 10/10 [00:53<00:00,  5.33s/it]\n",
      "100%|██████████| 10/10 [00:53<00:00,  5.34s/it]\n",
      "100%|██████████| 10/10 [00:53<00:00,  5.32s/it]\n",
      "100%|██████████| 10/10 [00:53<00:00,  5.34s/it]\n",
      "100%|██████████| 10/10 [00:53<00:00,  5.36s/it]\n",
      "100%|██████████| 10/10 [00:53<00:00,  5.33s/it]\n",
      "100%|██████████| 10/10 [00:53<00:00,  5.34s/it]\n",
      "100%|██████████| 10/10 [00:53<00:00,  5.34s/it]\n",
      "100%|██████████| 10/10 [00:53<00:00,  5.35s/it]\n",
      "100%|██████████| 10/10 [00:53<00:00,  5.33s/it]\n",
      "100%|██████████| 10/10 [00:53<00:00,  5.32s/it]\n",
      "100%|██████████| 10/10 [00:53<00:00,  5.32s/it]\n",
      "100%|██████████| 10/10 [00:53<00:00,  5.34s/it]\n",
      "100%|██████████| 10/10 [00:53<00:00,  5.32s/it]\n",
      "100%|██████████| 10/10 [00:53<00:00,  5.33s/it]\n",
      "100%|██████████| 10/10 [00:53<00:00,  5.34s/it]\n",
      "100%|██████████| 10/10 [00:53<00:00,  5.33s/it]\n",
      "100%|██████████| 10/10 [00:53<00:00,  5.35s/it]\n",
      "100%|██████████| 10/10 [00:53<00:00,  5.33s/it]\n",
      "100%|██████████| 10/10 [00:53<00:00,  5.33s/it]\n",
      "100%|██████████| 10/10 [00:53<00:00,  5.36s/it]\n",
      "100%|██████████| 10/10 [00:53<00:00,  5.33s/it]\n",
      "100%|██████████| 10/10 [00:53<00:00,  5.33s/it]\n"
     ]
    }
   ],
   "source": [
    "from torchmetrics.classification import Precision, Recall\n",
    "\n",
    "prn = Precision(task=\"binary\", num_classes=1).to(\"cuda\")\n",
    "rec = Recall(task=\"binary\", num_classes=1).to(\"cuda\")\n",
    "model = model.to(\"cuda\")\n",
    "ts = np.linspace(0.1, 0.9, 30)\n",
    "dice_scores = []\n",
    "prn_scores = []\n",
    "rec_scores = []\n",
    "for t in ts:\n",
    "    for x, y in tqdm(dataloaders[\"test\"]):\n",
    "        x = x.to(\"cuda\")\n",
    "        y = y.to(\"cuda\")\n",
    "        pred = predictive(x)[\"obs\"].mean(dim=0)\n",
    "        pred = (pred > t).float()\n",
    "        prn(pred, y)\n",
    "        rec(pred, y)\n",
    "    prn_scores.append(prn.compute().item())\n",
    "    rec_scores.append(rec.compute().item())"
   ]
  },
  {
   "cell_type": "code",
   "execution_count": 13,
   "metadata": {
    "execution": {
     "iopub.execute_input": "2024-12-18T20:10:23.102833Z",
     "iopub.status.busy": "2024-12-18T20:10:23.102241Z",
     "iopub.status.idle": "2024-12-18T20:10:23.354787Z",
     "shell.execute_reply": "2024-12-18T20:10:23.353935Z",
     "shell.execute_reply.started": "2024-12-18T20:10:23.102794Z"
    },
    "trusted": true
   },
   "outputs": [
    {
     "data": {
      "image/png": "[encoded data removed]",
      "text/plain": [
       "<Figure size 640x480 with 1 Axes>"
      ]
     },
     "metadata": {},
     "output_type": "display_data"
    },
    {
     "name": "stdout",
     "output_type": "stream",
     "text": [
      "Площадь под кривой (AUC-PR): 0.2073\n"
     ]
    }
   ],
   "source": [
    "import matplotlib.pyplot as plt\n",
    "import numpy as np\n",
    "from sklearn.metrics import auc\n",
    "\n",
    "precision = np.asarray(prn_scores[3:])\n",
    "recall = np.asarray(rec_scores[3:])\n",
    "\n",
    "# Построение графика\n",
    "plt.plot(precision, recall)\n",
    "plt.xlabel(\"Precision\")\n",
    "plt.ylabel(\"Recall\")\n",
    "plt.title(\"Precision-Recall Curve\")\n",
    "plt.legend()\n",
    "plt.show()\n",
    "\n",
    "# Вычисление площади под кривой (AUC-PR)\n",
    "pr_auc = auc(recall, precision)\n",
    "print(f\"Площадь под кривой (AUC-PR): {pr_auc:.4f}\")"
   ]
  },
  {
   "cell_type": "code",
   "execution_count": null,
   "metadata": {
    "trusted": true
   },
   "outputs": [],
   "source": []
  }
 ],
 "metadata": {
  "kaggle": {
   "accelerator": "gpu",
   "dataSources": [
    {
     "datasetId": 2539169,
     "sourceId": 4310761,
     "sourceType": "datasetVersion"
    },
    {
     "isSourceIdPinned": true,
     "modelId": 191512,
     "modelInstanceId": 169162,
     "sourceId": 198334,
     "sourceType": "modelInstanceVersion"
    },
    {
     "isSourceIdPinned": true,
     "modelId": 191514,
     "modelInstanceId": 169164,
     "sourceId": 198337,
     "sourceType": "modelInstanceVersion"
    }
   ],
   "dockerImageVersionId": 30804,
   "isGpuEnabled": true,
   "isInternetEnabled": true,
   "language": "python",
   "sourceType": "notebook"
  },
  "kernelspec": {
   "display_name": "Python 3",
   "language": "python",
   "name": "python3"
  },
  "language_info": {
   "codemirror_mode": {
    "name": "ipython",
    "version": 3
   },
   "file_extension": ".py",
   "mimetype": "text/x-python",
   "name": "python",
   "nbconvert_exporter": "python",
   "pygments_lexer": "ipython3",
   "version": "3.10.14"
  }
 },
 "nbformat": 4,
 "nbformat_minor": 4
}
